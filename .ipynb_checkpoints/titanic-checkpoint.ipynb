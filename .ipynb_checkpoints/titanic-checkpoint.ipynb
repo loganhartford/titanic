{
 "cells": [
  {
   "cell_type": "markdown",
   "id": "33a1383f-6b44-4748-a772-49f47913a179",
   "metadata": {},
   "source": [
    "# Titanic Dataset\n",
    "The goal of this notebook is going to be to solve the titanic data set using somenew tools I learned about in fastai lesson 5.\n",
    "\n",
    "## Linear Regression\n",
    "First, I'm going to create a linear regression model and try and use PyTorch to make the process as clean as possible. I'll leave comments in places where I did things one way but decided to do them another way after looking back on my ref notebook from the course."
   ]
  },
  {
   "cell_type": "code",
   "execution_count": 2,
   "id": "18f6e24a-9323-4d5a-b9d3-6daa24675d73",
   "metadata": {},
   "outputs": [],
   "source": [
    "# Install stuff\n",
    "#hide\n",
    "!pip install -Uqq fastbook\n",
    "import fastbook\n",
    "fastbook.setup_book()\n",
    "\n",
    "#hide\n",
    "from fastai.vision.all import *\n",
    "from fastbook import *"
   ]
  },
  {
   "cell_type": "code",
   "execution_count": 3,
   "id": "7eaa0f9f-b697-476c-80bd-4d7619066f71",
   "metadata": {},
   "outputs": [
    {
     "name": "stdout",
     "output_type": "stream",
     "text": [
      "Requirement already satisfied: kaggle in /usr/local/lib/python3.11/dist-packages (1.6.5)\n",
      "Requirement already satisfied: six>=1.10 in /usr/lib/python3/dist-packages (from kaggle) (1.16.0)\n",
      "Requirement already satisfied: certifi in /usr/local/lib/python3.11/dist-packages (from kaggle) (2023.11.17)\n",
      "Requirement already satisfied: python-dateutil in /usr/local/lib/python3.11/dist-packages (from kaggle) (2.8.2)\n",
      "Requirement already satisfied: requests in /usr/local/lib/python3.11/dist-packages (from kaggle) (2.31.0)\n",
      "Requirement already satisfied: tqdm in /usr/local/lib/python3.11/dist-packages (from kaggle) (4.66.2)\n",
      "Requirement already satisfied: python-slugify in /usr/local/lib/python3.11/dist-packages (from kaggle) (8.0.4)\n",
      "Requirement already satisfied: urllib3 in /usr/local/lib/python3.11/dist-packages (from kaggle) (2.1.0)\n",
      "Requirement already satisfied: bleach in /usr/local/lib/python3.11/dist-packages (from kaggle) (6.1.0)\n",
      "Requirement already satisfied: webencodings in /usr/local/lib/python3.11/dist-packages (from bleach->kaggle) (0.5.1)\n",
      "Requirement already satisfied: text-unidecode>=1.3 in /usr/local/lib/python3.11/dist-packages (from python-slugify->kaggle) (1.3)\n",
      "Requirement already satisfied: charset-normalizer<4,>=2 in /usr/local/lib/python3.11/dist-packages (from requests->kaggle) (3.3.2)\n",
      "Requirement already satisfied: idna<4,>=2.5 in /usr/local/lib/python3.11/dist-packages (from requests->kaggle) (3.6)\n",
      "\u001b[33mWARNING: Running pip as the 'root' user can result in broken permissions and conflicting behaviour with the system package manager. It is recommended to use a virtual environment instead: https://pip.pypa.io/warnings/venv\u001b[0m\u001b[33m\n",
      "\u001b[0m"
     ]
    }
   ],
   "source": [
    "# Download the data from kaggle\n",
    "#hide\n",
    "!pip install kaggle"
   ]
  },
  {
   "cell_type": "code",
   "execution_count": 4,
   "id": "54d829c2-bb61-405f-a269-302e635488b6",
   "metadata": {},
   "outputs": [],
   "source": [
    "# Please don't steal my stuff\n",
    "import os\n",
    "os.environ['KAGGLE_USERNAME'] = 'loganhartford'\n",
    "os.environ['KAGGLE_KEY'] = 'f1183222da4b8b714c2a329ef0734586'\n",
    "\n",
    "path = Path('titanic')\n",
    "if not path.exists():\n",
    "    import zipfile,kaggle\n",
    "    kaggle.api.competition_download_cli(str(path))\n",
    "    zipfile.ZipFile(f'{path}.zip').extractall(path)"
   ]
  },
  {
   "cell_type": "code",
   "execution_count": 5,
   "id": "440a9b7b-3d06-4642-8d70-07db2934d3c8",
   "metadata": {},
   "outputs": [],
   "source": [
    "import pandas as pd\n",
    "train_df = pd.read_csv(\"titanic/train.csv\")\n",
    "test_df = pd.read_csv(\"titanic/test.csv\")"
   ]
  },
  {
   "cell_type": "code",
   "execution_count": 6,
   "id": "2fc7636d-aabd-44e9-b472-b7bf3cb5003f",
   "metadata": {},
   "outputs": [
    {
     "name": "stdout",
     "output_type": "stream",
     "text": [
      "<class 'pandas.core.frame.DataFrame'>\n",
      "RangeIndex: 891 entries, 0 to 890\n",
      "Data columns (total 12 columns):\n",
      " #   Column       Non-Null Count  Dtype  \n",
      "---  ------       --------------  -----  \n",
      " 0   PassengerId  891 non-null    int64  \n",
      " 1   Survived     891 non-null    int64  \n",
      " 2   Pclass       891 non-null    int64  \n",
      " 3   Name         891 non-null    object \n",
      " 4   Sex          891 non-null    object \n",
      " 5   Age          714 non-null    float64\n",
      " 6   SibSp        891 non-null    int64  \n",
      " 7   Parch        891 non-null    int64  \n",
      " 8   Ticket       891 non-null    object \n",
      " 9   Fare         891 non-null    float64\n",
      " 10  Cabin        204 non-null    object \n",
      " 11  Embarked     889 non-null    object \n",
      "dtypes: float64(2), int64(5), object(5)\n",
      "memory usage: 83.7+ KB\n"
     ]
    }
   ],
   "source": [
    "train_df.info()"
   ]
  },
  {
   "cell_type": "markdown",
   "id": "cdf9a5c8-2e4f-4097-8fd7-ad80e748996c",
   "metadata": {},
   "source": [
    "# Cleaning the data\n",
    "I know from working with this data before that there are some NAN values that we'll have to deal with and we'll also have to normalize the data to be able to get a good result.\n",
    "\n",
    "Going to replace the NAN values with the mode in each column since this is what Jeremy recommends."
   ]
  },
  {
   "cell_type": "code",
   "execution_count": 7,
   "id": "af66c719-7c6a-42e7-8b6c-45e836f8d03d",
   "metadata": {},
   "outputs": [
    {
     "data": {
      "text/plain": [
       "PassengerId      0\n",
       "Survived         0\n",
       "Pclass           0\n",
       "Name             0\n",
       "Sex              0\n",
       "Age            177\n",
       "SibSp            0\n",
       "Parch            0\n",
       "Ticket           0\n",
       "Fare             0\n",
       "Cabin          687\n",
       "Embarked         2\n",
       "dtype: int64"
      ]
     },
     "execution_count": 7,
     "metadata": {},
     "output_type": "execute_result"
    }
   ],
   "source": [
    "train_df.isna().sum()"
   ]
  },
  {
   "cell_type": "code",
   "execution_count": 8,
   "id": "94177ae3-757a-4925-b46d-c8c9877fcfa7",
   "metadata": {},
   "outputs": [
    {
     "name": "stdout",
     "output_type": "stream",
     "text": [
      "<class 'pandas.core.frame.DataFrame'>\n",
      "RangeIndex: 891 entries, 0 to 890\n",
      "Data columns (total 12 columns):\n",
      " #   Column       Non-Null Count  Dtype  \n",
      "---  ------       --------------  -----  \n",
      " 0   PassengerId  891 non-null    int64  \n",
      " 1   Survived     891 non-null    int64  \n",
      " 2   Pclass       891 non-null    int64  \n",
      " 3   Name         891 non-null    object \n",
      " 4   Sex          891 non-null    object \n",
      " 5   Age          891 non-null    float64\n",
      " 6   SibSp        891 non-null    int64  \n",
      " 7   Parch        891 non-null    int64  \n",
      " 8   Ticket       891 non-null    object \n",
      " 9   Fare         891 non-null    float64\n",
      " 10  Cabin        891 non-null    object \n",
      " 11  Embarked     891 non-null    object \n",
      "dtypes: float64(2), int64(5), object(5)\n",
      "memory usage: 83.7+ KB\n"
     ]
    }
   ],
   "source": [
    "# Find the mode of each column\n",
    "modes = train_df.mode().iloc[0]\n",
    "# Replace NaN values with the mode of each column\n",
    "train_df = train_df.fillna(modes)\n",
    "train_df.info()"
   ]
  },
  {
   "cell_type": "code",
   "execution_count": 9,
   "id": "e8a32daa-9532-46f0-b6dc-cb5ed3fb5abd",
   "metadata": {},
   "outputs": [
    {
     "data": {
      "text/html": [
       "<div>\n",
       "<style scoped>\n",
       "    .dataframe tbody tr th:only-of-type {\n",
       "        vertical-align: middle;\n",
       "    }\n",
       "\n",
       "    .dataframe tbody tr th {\n",
       "        vertical-align: top;\n",
       "    }\n",
       "\n",
       "    .dataframe thead th {\n",
       "        text-align: right;\n",
       "    }\n",
       "</style>\n",
       "<table border=\"1\" class=\"dataframe\">\n",
       "  <thead>\n",
       "    <tr style=\"text-align: right;\">\n",
       "      <th></th>\n",
       "      <th>PassengerId</th>\n",
       "      <th>Survived</th>\n",
       "      <th>Pclass</th>\n",
       "      <th>Age</th>\n",
       "      <th>SibSp</th>\n",
       "      <th>Parch</th>\n",
       "      <th>Fare</th>\n",
       "    </tr>\n",
       "  </thead>\n",
       "  <tbody>\n",
       "    <tr>\n",
       "      <th>count</th>\n",
       "      <td>891.000000</td>\n",
       "      <td>891.000000</td>\n",
       "      <td>891.000000</td>\n",
       "      <td>891.000000</td>\n",
       "      <td>891.000000</td>\n",
       "      <td>891.000000</td>\n",
       "      <td>891.000000</td>\n",
       "    </tr>\n",
       "    <tr>\n",
       "      <th>mean</th>\n",
       "      <td>446.000000</td>\n",
       "      <td>0.383838</td>\n",
       "      <td>2.308642</td>\n",
       "      <td>28.566970</td>\n",
       "      <td>0.523008</td>\n",
       "      <td>0.381594</td>\n",
       "      <td>32.204208</td>\n",
       "    </tr>\n",
       "    <tr>\n",
       "      <th>std</th>\n",
       "      <td>257.353842</td>\n",
       "      <td>0.486592</td>\n",
       "      <td>0.836071</td>\n",
       "      <td>13.199572</td>\n",
       "      <td>1.102743</td>\n",
       "      <td>0.806057</td>\n",
       "      <td>49.693429</td>\n",
       "    </tr>\n",
       "    <tr>\n",
       "      <th>min</th>\n",
       "      <td>1.000000</td>\n",
       "      <td>0.000000</td>\n",
       "      <td>1.000000</td>\n",
       "      <td>0.420000</td>\n",
       "      <td>0.000000</td>\n",
       "      <td>0.000000</td>\n",
       "      <td>0.000000</td>\n",
       "    </tr>\n",
       "    <tr>\n",
       "      <th>25%</th>\n",
       "      <td>223.500000</td>\n",
       "      <td>0.000000</td>\n",
       "      <td>2.000000</td>\n",
       "      <td>22.000000</td>\n",
       "      <td>0.000000</td>\n",
       "      <td>0.000000</td>\n",
       "      <td>7.910400</td>\n",
       "    </tr>\n",
       "    <tr>\n",
       "      <th>50%</th>\n",
       "      <td>446.000000</td>\n",
       "      <td>0.000000</td>\n",
       "      <td>3.000000</td>\n",
       "      <td>24.000000</td>\n",
       "      <td>0.000000</td>\n",
       "      <td>0.000000</td>\n",
       "      <td>14.454200</td>\n",
       "    </tr>\n",
       "    <tr>\n",
       "      <th>75%</th>\n",
       "      <td>668.500000</td>\n",
       "      <td>1.000000</td>\n",
       "      <td>3.000000</td>\n",
       "      <td>35.000000</td>\n",
       "      <td>1.000000</td>\n",
       "      <td>0.000000</td>\n",
       "      <td>31.000000</td>\n",
       "    </tr>\n",
       "    <tr>\n",
       "      <th>max</th>\n",
       "      <td>891.000000</td>\n",
       "      <td>1.000000</td>\n",
       "      <td>3.000000</td>\n",
       "      <td>80.000000</td>\n",
       "      <td>8.000000</td>\n",
       "      <td>6.000000</td>\n",
       "      <td>512.329200</td>\n",
       "    </tr>\n",
       "  </tbody>\n",
       "</table>\n",
       "</div>"
      ],
      "text/plain": [
       "       PassengerId    Survived      Pclass         Age       SibSp  \\\n",
       "count   891.000000  891.000000  891.000000  891.000000  891.000000   \n",
       "mean    446.000000    0.383838    2.308642   28.566970    0.523008   \n",
       "std     257.353842    0.486592    0.836071   13.199572    1.102743   \n",
       "min       1.000000    0.000000    1.000000    0.420000    0.000000   \n",
       "25%     223.500000    0.000000    2.000000   22.000000    0.000000   \n",
       "50%     446.000000    0.000000    3.000000   24.000000    0.000000   \n",
       "75%     668.500000    1.000000    3.000000   35.000000    1.000000   \n",
       "max     891.000000    1.000000    3.000000   80.000000    8.000000   \n",
       "\n",
       "            Parch        Fare  \n",
       "count  891.000000  891.000000  \n",
       "mean     0.381594   32.204208  \n",
       "std      0.806057   49.693429  \n",
       "min      0.000000    0.000000  \n",
       "25%      0.000000    7.910400  \n",
       "50%      0.000000   14.454200  \n",
       "75%      0.000000   31.000000  \n",
       "max      6.000000  512.329200  "
      ]
     },
     "execution_count": 9,
     "metadata": {},
     "output_type": "execute_result"
    }
   ],
   "source": [
    "train_df.describe(include=(np.number))"
   ]
  },
  {
   "cell_type": "code",
   "execution_count": 10,
   "id": "167d07be-74ec-4c4d-a121-a73688f26186",
   "metadata": {},
   "outputs": [
    {
     "data": {
      "text/plain": [
       "array([[<Axes: title={'center': 'PassengerId'}>, <Axes: title={'center': 'Survived'}>, <Axes: title={'center': 'Pclass'}>],\n",
       "       [<Axes: title={'center': 'Age'}>, <Axes: title={'center': 'SibSp'}>, <Axes: title={'center': 'Parch'}>],\n",
       "       [<Axes: title={'center': 'Fare'}>, <Axes: >, <Axes: >]], dtype=object)"
      ]
     },
     "execution_count": 10,
     "metadata": {},
     "output_type": "execute_result"
    },
    {
     "data": {
      "image/png": "[encoded data removed]",
      "text/plain": [
       "<Figure size 640x480 with 9 Axes>"
      ]
     },
     "metadata": {},
     "output_type": "display_data"
    }
   ],
   "source": [
    "train_df.hist()"
   ]
  },
  {
   "cell_type": "markdown",
   "id": "33267533-b404-4f48-af9b-f34bf8f561ab",
   "metadata": {},
   "source": [
    "## Data Distribution\n",
    "\n",
    "We will need to fix the distribution of the fare data since linear regression models don't like long tain data."
   ]
  },
  {
   "cell_type": "code",
   "execution_count": 11,
   "id": "3e804606-0a0e-4d5b-b1b6-e4bd28acd93a",
   "metadata": {},
   "outputs": [
    {
     "data": {
      "text/plain": [
       "<Axes: >"
      ]
     },
     "execution_count": 11,
     "metadata": {},
     "output_type": "execute_result"
    },
    {
     "data": {
      "image/png": "[encoded data removed]",
      "text/plain": [
       "<Figure size 640x480 with 1 Axes>"
      ]
     },
     "metadata": {},
     "output_type": "display_data"
    }
   ],
   "source": [
    "train_df[\"LogFare\"] = np.log(train_df[\"Fare\"] + 1)\n",
    "train_df[\"LogFare\"].hist()\n",
    "# Now we have a more centered distribution"
   ]
  },
  {
   "cell_type": "markdown",
   "id": "b55a7322-14e6-46f8-b81f-5db47697b83f",
   "metadata": {},
   "source": [
    "## Categorical Data\n",
    "Going to use pd.get_dummies to turn our categorical data into binary values."
   ]
  },
  {
   "cell_type": "code",
   "execution_count": 12,
   "id": "b3901d71-8240-4457-8a94-f31553448631",
   "metadata": {},
   "outputs": [
    {
     "data": {
      "text/html": [
       "<div>\n",
       "<style scoped>\n",
       "    .dataframe tbody tr th:only-of-type {\n",
       "        vertical-align: middle;\n",
       "    }\n",
       "\n",
       "    .dataframe tbody tr th {\n",
       "        vertical-align: top;\n",
       "    }\n",
       "\n",
       "    .dataframe thead th {\n",
       "        text-align: right;\n",
       "    }\n",
       "</style>\n",
       "<table border=\"1\" class=\"dataframe\">\n",
       "  <thead>\n",
       "    <tr style=\"text-align: right;\">\n",
       "      <th></th>\n",
       "      <th>Name</th>\n",
       "      <th>Sex</th>\n",
       "      <th>Ticket</th>\n",
       "      <th>Cabin</th>\n",
       "      <th>Embarked</th>\n",
       "    </tr>\n",
       "  </thead>\n",
       "  <tbody>\n",
       "    <tr>\n",
       "      <th>count</th>\n",
       "      <td>891</td>\n",
       "      <td>891</td>\n",
       "      <td>891</td>\n",
       "      <td>891</td>\n",
       "      <td>891</td>\n",
       "    </tr>\n",
       "    <tr>\n",
       "      <th>unique</th>\n",
       "      <td>891</td>\n",
       "      <td>2</td>\n",
       "      <td>681</td>\n",
       "      <td>147</td>\n",
       "      <td>3</td>\n",
       "    </tr>\n",
       "    <tr>\n",
       "      <th>top</th>\n",
       "      <td>Braund, Mr. Owen Harris</td>\n",
       "      <td>male</td>\n",
       "      <td>347082</td>\n",
       "      <td>B96 B98</td>\n",
       "      <td>S</td>\n",
       "    </tr>\n",
       "    <tr>\n",
       "      <th>freq</th>\n",
       "      <td>1</td>\n",
       "      <td>577</td>\n",
       "      <td>7</td>\n",
       "      <td>691</td>\n",
       "      <td>646</td>\n",
       "    </tr>\n",
       "  </tbody>\n",
       "</table>\n",
       "</div>"
      ],
      "text/plain": [
       "                           Name   Sex  Ticket    Cabin Embarked\n",
       "count                       891   891     891      891      891\n",
       "unique                      891     2     681      147        3\n",
       "top     Braund, Mr. Owen Harris  male  347082  B96 B98        S\n",
       "freq                          1   577       7      691      646"
      ]
     },
     "execution_count": 12,
     "metadata": {},
     "output_type": "execute_result"
    }
   ],
   "source": [
    "train_df.describe(include=[object])"
   ]
  },
  {
   "cell_type": "code",
   "execution_count": 13,
   "id": "e06cb8aa-93fd-43b1-955b-a3e02bedab8d",
   "metadata": {},
   "outputs": [
    {
     "data": {
      "text/html": [
       "<div>\n",
       "<style scoped>\n",
       "    .dataframe tbody tr th:only-of-type {\n",
       "        vertical-align: middle;\n",
       "    }\n",
       "\n",
       "    .dataframe tbody tr th {\n",
       "        vertical-align: top;\n",
       "    }\n",
       "\n",
       "    .dataframe thead th {\n",
       "        text-align: right;\n",
       "    }\n",
       "</style>\n",
       "<table border=\"1\" class=\"dataframe\">\n",
       "  <thead>\n",
       "    <tr style=\"text-align: right;\">\n",
       "      <th></th>\n",
       "      <th>PassengerId</th>\n",
       "      <th>Survived</th>\n",
       "      <th>Name</th>\n",
       "      <th>Age</th>\n",
       "      <th>SibSp</th>\n",
       "      <th>Parch</th>\n",
       "      <th>Ticket</th>\n",
       "      <th>Fare</th>\n",
       "      <th>Cabin</th>\n",
       "      <th>LogFare</th>\n",
       "      <th>Sex_female</th>\n",
       "      <th>Sex_male</th>\n",
       "      <th>Pclass_1</th>\n",
       "      <th>Pclass_2</th>\n",
       "      <th>Pclass_3</th>\n",
       "      <th>Embarked_C</th>\n",
       "      <th>Embarked_Q</th>\n",
       "      <th>Embarked_S</th>\n",
       "    </tr>\n",
       "  </thead>\n",
       "  <tbody>\n",
       "    <tr>\n",
       "      <th>0</th>\n",
       "      <td>1</td>\n",
       "      <td>0</td>\n",
       "      <td>Braund, Mr. Owen Harris</td>\n",
       "      <td>22.0</td>\n",
       "      <td>1</td>\n",
       "      <td>0</td>\n",
       "      <td>A/5 21171</td>\n",
       "      <td>7.2500</td>\n",
       "      <td>B96 B98</td>\n",
       "      <td>2.110213</td>\n",
       "      <td>False</td>\n",
       "      <td>True</td>\n",
       "      <td>False</td>\n",
       "      <td>False</td>\n",
       "      <td>True</td>\n",
       "      <td>False</td>\n",
       "      <td>False</td>\n",
       "      <td>True</td>\n",
       "    </tr>\n",
       "    <tr>\n",
       "      <th>1</th>\n",
       "      <td>2</td>\n",
       "      <td>1</td>\n",
       "      <td>Cumings, Mrs. John Bradley (Florence Briggs Thayer)</td>\n",
       "      <td>38.0</td>\n",
       "      <td>1</td>\n",
       "      <td>0</td>\n",
       "      <td>PC 17599</td>\n",
       "      <td>71.2833</td>\n",
       "      <td>C85</td>\n",
       "      <td>4.280593</td>\n",
       "      <td>True</td>\n",
       "      <td>False</td>\n",
       "      <td>True</td>\n",
       "      <td>False</td>\n",
       "      <td>False</td>\n",
       "      <td>True</td>\n",
       "      <td>False</td>\n",
       "      <td>False</td>\n",
       "    </tr>\n",
       "    <tr>\n",
       "      <th>2</th>\n",
       "      <td>3</td>\n",
       "      <td>1</td>\n",
       "      <td>Heikkinen, Miss. Laina</td>\n",
       "      <td>26.0</td>\n",
       "      <td>0</td>\n",
       "      <td>0</td>\n",
       "      <td>STON/O2. 3101282</td>\n",
       "      <td>7.9250</td>\n",
       "      <td>B96 B98</td>\n",
       "      <td>2.188856</td>\n",
       "      <td>True</td>\n",
       "      <td>False</td>\n",
       "      <td>False</td>\n",
       "      <td>False</td>\n",
       "      <td>True</td>\n",
       "      <td>False</td>\n",
       "      <td>False</td>\n",
       "      <td>True</td>\n",
       "    </tr>\n",
       "    <tr>\n",
       "      <th>3</th>\n",
       "      <td>4</td>\n",
       "      <td>1</td>\n",
       "      <td>Futrelle, Mrs. Jacques Heath (Lily May Peel)</td>\n",
       "      <td>35.0</td>\n",
       "      <td>1</td>\n",
       "      <td>0</td>\n",
       "      <td>113803</td>\n",
       "      <td>53.1000</td>\n",
       "      <td>C123</td>\n",
       "      <td>3.990834</td>\n",
       "      <td>True</td>\n",
       "      <td>False</td>\n",
       "      <td>True</td>\n",
       "      <td>False</td>\n",
       "      <td>False</td>\n",
       "      <td>False</td>\n",
       "      <td>False</td>\n",
       "      <td>True</td>\n",
       "    </tr>\n",
       "    <tr>\n",
       "      <th>4</th>\n",
       "      <td>5</td>\n",
       "      <td>0</td>\n",
       "      <td>Allen, Mr. William Henry</td>\n",
       "      <td>35.0</td>\n",
       "      <td>0</td>\n",
       "      <td>0</td>\n",
       "      <td>373450</td>\n",
       "      <td>8.0500</td>\n",
       "      <td>B96 B98</td>\n",
       "      <td>2.202765</td>\n",
       "      <td>False</td>\n",
       "      <td>True</td>\n",
       "      <td>False</td>\n",
       "      <td>False</td>\n",
       "      <td>True</td>\n",
       "      <td>False</td>\n",
       "      <td>False</td>\n",
       "      <td>True</td>\n",
       "    </tr>\n",
       "  </tbody>\n",
       "</table>\n",
       "</div>"
      ],
      "text/plain": [
       "   PassengerId  Survived                                                 Name  \\\n",
       "0            1         0                              Braund, Mr. Owen Harris   \n",
       "1            2         1  Cumings, Mrs. John Bradley (Florence Briggs Thayer)   \n",
       "2            3         1                               Heikkinen, Miss. Laina   \n",
       "3            4         1         Futrelle, Mrs. Jacques Heath (Lily May Peel)   \n",
       "4            5         0                             Allen, Mr. William Henry   \n",
       "\n",
       "    Age  SibSp  Parch            Ticket     Fare    Cabin   LogFare  \\\n",
       "0  22.0      1      0         A/5 21171   7.2500  B96 B98  2.110213   \n",
       "1  38.0      1      0          PC 17599  71.2833      C85  4.280593   \n",
       "2  26.0      0      0  STON/O2. 3101282   7.9250  B96 B98  2.188856   \n",
       "3  35.0      1      0            113803  53.1000     C123  3.990834   \n",
       "4  35.0      0      0            373450   8.0500  B96 B98  2.202765   \n",
       "\n",
       "   Sex_female  Sex_male  Pclass_1  Pclass_2  Pclass_3  Embarked_C  Embarked_Q  \\\n",
       "0       False      True     False     False      True       False       False   \n",
       "1        True     False      True     False     False        True       False   \n",
       "2        True     False     False     False      True       False       False   \n",
       "3        True     False      True     False     False       False       False   \n",
       "4       False      True     False     False      True       False       False   \n",
       "\n",
       "   Embarked_S  \n",
       "0        True  \n",
       "1       False  \n",
       "2        True  \n",
       "3        True  \n",
       "4        True  "
      ]
     },
     "execution_count": 13,
     "metadata": {},
     "output_type": "execute_result"
    }
   ],
   "source": [
    "train_df = pd.get_dummies(train_df, columns=[\"Sex\", \"Pclass\", \"Embarked\"])\n",
    "train_df.head()"
   ]
  },
  {
   "cell_type": "markdown",
   "id": "50296fa9-7ddc-43a0-806e-852f85439b3a",
   "metadata": {},
   "source": [
    "## Tensor Time\n",
    "Now it's time to turn our data into tensors so we can do fun math stuff."
   ]
  },
  {
   "cell_type": "code",
   "execution_count": 14,
   "id": "57b42e4d-df93-4036-8881-25888f72f7a7",
   "metadata": {},
   "outputs": [
    {
     "name": "stdout",
     "output_type": "stream",
     "text": [
      "<class 'pandas.core.frame.DataFrame'>\n",
      "RangeIndex: 891 entries, 0 to 890\n",
      "Data columns (total 12 columns):\n",
      " #   Column      Non-Null Count  Dtype  \n",
      "---  ------      --------------  -----  \n",
      " 0   Age         891 non-null    float64\n",
      " 1   SibSp       891 non-null    int64  \n",
      " 2   Parch       891 non-null    int64  \n",
      " 3   LogFare     891 non-null    float64\n",
      " 4   Sex_female  891 non-null    bool   \n",
      " 5   Sex_male    891 non-null    bool   \n",
      " 6   Pclass_1    891 non-null    bool   \n",
      " 7   Pclass_2    891 non-null    bool   \n",
      " 8   Pclass_3    891 non-null    bool   \n",
      " 9   Embarked_C  891 non-null    bool   \n",
      " 10  Embarked_Q  891 non-null    bool   \n",
      " 11  Embarked_S  891 non-null    bool   \n",
      "dtypes: bool(8), float64(2), int64(2)\n",
      "memory usage: 34.9 KB\n"
     ]
    }
   ],
   "source": [
    "train_df[['Age', 'SibSp', 'Parch', 'LogFare', 'Sex_female', 'Sex_male', 'Pclass_1', 'Pclass_2', 'Pclass_3', 'Embarked_C', 'Embarked_Q', 'Embarked_S']].info()"
   ]
  },
  {
   "cell_type": "code",
   "execution_count": 15,
   "id": "d8f8ab99-4ac7-45fa-b6a3-d9d137ccd178",
   "metadata": {},
   "outputs": [],
   "source": [
    "# Convert DataFrame to numpy array and ensure all data is of type float\n",
    "trn_ind = tensor(train_df[['Age', 'SibSp', 'Parch', 'LogFare', 'Sex_female', 'Sex_male', 'Pclass_1', 'Pclass_2', 'Pclass_3', 'Embarked_C', 'Embarked_Q', 'Embarked_S']].values.astype(float), dtype=torch.float)\n",
    "\n",
    "trn_dep = tensor(train_df[\"Survived\"].values, dtype=torch.float)"
   ]
  },
  {
   "cell_type": "code",
   "execution_count": 16,
   "id": "b9cef1e4-872b-4778-be03-4b1f0e7e3473",
   "metadata": {},
   "outputs": [
    {
     "data": {
      "text/plain": [
       "(torch.Size([891, 12]), torch.Size([891]))"
      ]
     },
     "execution_count": 16,
     "metadata": {},
     "output_type": "execute_result"
    }
   ],
   "source": [
    "trn_ind.shape, trn_dep.shape"
   ]
  },
  {
   "cell_type": "markdown",
   "id": "846362e6-2d4b-4eef-a33e-1026e810b916",
   "metadata": {},
   "source": [
    "## Normalization\n",
    "We will normalize all the data by divide each row by the max values for each col."
   ]
  },
  {
   "cell_type": "code",
   "execution_count": 17,
   "id": "33c8f24c-2c50-4f5a-98fc-d56453e40e10",
   "metadata": {},
   "outputs": [],
   "source": [
    "max_vals = trn_ind.max(dim=0).values"
   ]
  },
  {
   "cell_type": "code",
   "execution_count": 18,
   "id": "5d42212a-604e-445e-af3b-3d3f3727d4b5",
   "metadata": {},
   "outputs": [
    {
     "data": {
      "text/plain": [
       "tensor([[0.2750, 0.1250, 0.0000,  ..., 0.0000, 0.0000, 1.0000],\n",
       "        [0.4750, 0.1250, 0.0000,  ..., 1.0000, 0.0000, 0.0000],\n",
       "        [0.3250, 0.0000, 0.0000,  ..., 0.0000, 0.0000, 1.0000],\n",
       "        ...,\n",
       "        [0.3000, 0.1250, 0.3333,  ..., 0.0000, 0.0000, 1.0000],\n",
       "        [0.3250, 0.0000, 0.0000,  ..., 1.0000, 0.0000, 0.0000],\n",
       "        [0.4000, 0.0000, 0.0000,  ..., 0.0000, 1.0000, 0.0000]])"
      ]
     },
     "execution_count": 18,
     "metadata": {},
     "output_type": "execute_result"
    }
   ],
   "source": [
    "trn_ind = trn_ind / max_vals\n",
    "trn_ind"
   ]
  },
  {
   "cell_type": "markdown",
   "id": "dfde506c-658c-4ced-adab-114dc248ea92",
   "metadata": {},
   "source": [
    "## Functions\n",
    "Now we'll need to create some functions for calculating predictions, the loss, the gradient stepping our coeffs and validating as well a funciton for running epochs."
   ]
  },
  {
   "cell_type": "code",
   "execution_count": 19,
   "id": "84c3e8f4-2528-4df6-a415-5cff0a7fdf8c",
   "metadata": {},
   "outputs": [
    {
     "data": {
      "text/plain": [
       "tensor([ 0.7645,  0.8300, -0.2343,  0.9186, -0.2191,  0.2018, -0.4869,  0.5873,  0.8815, -0.7336,  0.8692,  0.1872])"
      ]
     },
     "execution_count": 19,
     "metadata": {},
     "output_type": "execute_result"
    }
   ],
   "source": [
    "# Predictions\n",
    "torch.rand(12)*2 - 1"
   ]
  },
  {
   "cell_type": "code",
   "execution_count": 20,
   "id": "fc642f7e-6a6e-46d8-a2ad-8929037f0fc4",
   "metadata": {},
   "outputs": [],
   "source": [
    "def init_coeffs(num):\n",
    "    coeffs = torch.rand(num)*2 -1\n",
    "    return coeffs.requires_grad_()"
   ]
  },
  {
   "cell_type": "code",
   "execution_count": 21,
   "id": "3aac8b58-3bb2-40d0-a20f-60eff63fc70c",
   "metadata": {},
   "outputs": [
    {
     "data": {
      "text/plain": [
       "tensor([ 0.7388,  0.1354,  0.4822, -0.1412,  0.7709,  0.1478, -0.4668,  0.2549, -0.4607, -0.1173, -0.4062,  0.6634], requires_grad=True)"
      ]
     },
     "execution_count": 21,
     "metadata": {},
     "output_type": "execute_result"
    }
   ],
   "source": [
    "cfs = init_coeffs(12)\n",
    "cfs"
   ]
  },
  {
   "cell_type": "code",
   "execution_count": 22,
   "id": "65c7dfd2-2091-4447-9066-6a6bb1c53ce9",
   "metadata": {},
   "outputs": [
    {
     "data": {
      "text/plain": [
       "(torch.Size([891, 12]), torch.Size([12]))"
      ]
     },
     "execution_count": 22,
     "metadata": {},
     "output_type": "execute_result"
    }
   ],
   "source": [
    "trn_ind.shape, cfs.shape"
   ]
  },
  {
   "cell_type": "code",
   "execution_count": 23,
   "id": "9c2047f9-f82e-4bc6-a9d4-bcc36d81b5b4",
   "metadata": {},
   "outputs": [
    {
     "data": {
      "text/plain": [
       "torch.Size([891])"
      ]
     },
     "execution_count": 23,
     "metadata": {},
     "output_type": "execute_result"
    }
   ],
   "source": [
    "pred = trn_ind @ cfs\n",
    "pred.shape"
   ]
  },
  {
   "cell_type": "code",
   "execution_count": 24,
   "id": "473bf2fc-5195-40b3-bdeb-ec4a69ef3a94",
   "metadata": {},
   "outputs": [],
   "source": [
    "def calc_preds(ind, cfs):\n",
    "    return torch.sigmoid(ind @ cfs)"
   ]
  },
  {
   "cell_type": "code",
   "execution_count": 25,
   "id": "085672aa-b46d-4b16-b644-0e8f628b18eb",
   "metadata": {},
   "outputs": [
    {
     "data": {
      "text/plain": [
       "tensor(0.6730, grad_fn=<MeanBackward0>)"
      ]
     },
     "execution_count": 25,
     "metadata": {},
     "output_type": "execute_result"
    }
   ],
   "source": [
    "# Loss - Mean Absolute Value\n",
    "abs(pred-trn_dep).mean()"
   ]
  },
  {
   "cell_type": "code",
   "execution_count": 26,
   "id": "d2c75e8a-152b-47cd-830d-a45267dda3d7",
   "metadata": {},
   "outputs": [],
   "source": [
    "def calc_loss(ind, dep, cfs):\n",
    "    # return abs(pred-dep).mean()\n",
    "    return torch.abs(calc_preds(ind, cfs) - dep).mean() # Cleaner way to do it from the lesson"
   ]
  },
  {
   "cell_type": "code",
   "execution_count": 27,
   "id": "d754f38d-d39c-49d0-9d2d-1370cf38c328",
   "metadata": {},
   "outputs": [],
   "source": [
    "loss = calc_loss (trn_ind, trn_dep, cfs)"
   ]
  },
  {
   "cell_type": "code",
   "execution_count": 28,
   "id": "c2f52150-458f-42b0-b341-37dc648a123c",
   "metadata": {},
   "outputs": [],
   "source": [
    "loss.backward()"
   ]
  },
  {
   "cell_type": "code",
   "execution_count": 29,
   "id": "5b1f2167-0b2c-446e-bb38-0b126a21589e",
   "metadata": {},
   "outputs": [
    {
     "data": {
      "text/plain": [
       "tensor([ 0.0220,  0.0044,  0.0013,  0.0163, -0.0311,  0.0881, -0.0121,  0.0054,  0.0638, -0.0042,  0.0042,  0.0571])"
      ]
     },
     "execution_count": 29,
     "metadata": {},
     "output_type": "execute_result"
    }
   ],
   "source": [
    "cfs.grad"
   ]
  },
  {
   "cell_type": "code",
   "execution_count": 30,
   "id": "482eca9d-bcc1-43ca-a777-046203d8d921",
   "metadata": {},
   "outputs": [],
   "source": [
    "# Step\n",
    "with torch.no_grad():\n",
    "    cfs.sub_(cfs.grad*0.1)"
   ]
  },
  {
   "cell_type": "code",
   "execution_count": 31,
   "id": "e43e67fc-5e90-42f2-9715-cca5d262554d",
   "metadata": {},
   "outputs": [
    {
     "data": {
      "text/plain": [
       "tensor([ 0.7366,  0.1350,  0.4821, -0.1428,  0.7740,  0.1390, -0.4656,  0.2544, -0.4671, -0.1169, -0.4066,  0.6577], requires_grad=True)"
      ]
     },
     "execution_count": 31,
     "metadata": {},
     "output_type": "execute_result"
    }
   ],
   "source": [
    "cfs"
   ]
  },
  {
   "cell_type": "code",
   "execution_count": 32,
   "id": "7e602d4b-b6e6-48ed-9cfb-178f550f75b8",
   "metadata": {},
   "outputs": [],
   "source": [
    "def update_coeffs(cfs, loss, lr):\n",
    "    loss.backward()\n",
    "    with torch.no_grad():\n",
    "        cfs.sub_(cfs.grad*lr)"
   ]
  },
  {
   "cell_type": "code",
   "execution_count": 33,
   "id": "21ff7053-80b8-4b88-b948-4b2dc05abd56",
   "metadata": {},
   "outputs": [],
   "source": [
    "# Epoch\n",
    "def run_epoch(ind, dep, cfs, lr):\n",
    "    loss = calc_loss(ind, dep, cfs)\n",
    "    update_coeffs(cfs, loss, lr)\n",
    "    # print(f\"{loss:.3f}\", end=\"; \")"
   ]
  },
  {
   "cell_type": "code",
   "execution_count": 34,
   "id": "592d15b0-8a19-4358-b834-8beb2eb1b018",
   "metadata": {},
   "outputs": [],
   "source": [
    "cfs = init_coeffs(12)\n",
    "lr = 0.1\n",
    "for i in range(5):\n",
    "    run_epoch(trn_ind, trn_dep, cfs, lr)"
   ]
  },
  {
   "cell_type": "markdown",
   "id": "565bbae9-637d-450b-b50d-ddc4c0da6dcb",
   "metadata": {},
   "source": [
    "# Training the Model\n",
    "Going to use a random splitter to create a validation split."
   ]
  },
  {
   "cell_type": "code",
   "execution_count": 35,
   "id": "abab7bea-a701-4ec6-b7e5-90cb4571c239",
   "metadata": {},
   "outputs": [],
   "source": [
    "trn_split, val_split = RandomSplitter(seed=None)(train_df)"
   ]
  },
  {
   "cell_type": "code",
   "execution_count": 36,
   "id": "ced8c465-e8ed-4a4f-a439-8b4113feca9d",
   "metadata": {},
   "outputs": [],
   "source": [
    "train_ind, val_ind = trn_ind[trn_split], trn_ind[val_split]\n",
    "train_dep, val_dep = trn_dep[trn_split], trn_dep[val_split]"
   ]
  },
  {
   "cell_type": "code",
   "execution_count": 37,
   "id": "f2cee305-b213-4211-8e3c-f37a0c647ff7",
   "metadata": {},
   "outputs": [
    {
     "data": {
      "text/plain": [
       "(713, 178)"
      ]
     },
     "execution_count": 37,
     "metadata": {},
     "output_type": "execute_result"
    }
   ],
   "source": [
    "len(train_ind), len (val_ind)"
   ]
  },
  {
   "cell_type": "code",
   "execution_count": 38,
   "id": "c6e88ce8-f0dc-44ab-bf99-8bcad3271fad",
   "metadata": {},
   "outputs": [],
   "source": [
    "# Need to caclculate accuracy\n",
    "def calc_accuracy(cfs, val_ind, val_dep):\n",
    "    return (((val_ind @ cfs) > 0.5) == val_dep).float().mean()"
   ]
  },
  {
   "cell_type": "code",
   "execution_count": 39,
   "id": "8b5ec544-3f81-4047-bfa6-2ada35153a81",
   "metadata": {},
   "outputs": [],
   "source": [
    "def train_model(ind, dep, epochs, lr):\n",
    "    cfs = init_coeffs(12)\n",
    "    for _ in range(epochs):\n",
    "        # print(cfs)\n",
    "        run_epoch(ind, dep, cfs, lr)\n",
    "        acc = calc_accuracy(cfs, val_ind, val_dep)\n",
    "        print(f\"{acc:.3f}\", end=\"; \")\n",
    "    "
   ]
  },
  {
   "cell_type": "code",
   "execution_count": 40,
   "id": "dac039b2-7ac1-4e0b-b986-e3119ab64f6d",
   "metadata": {},
   "outputs": [
    {
     "name": "stdout",
     "output_type": "stream",
     "text": [
      "0.685; 0.680; 0.680; 0.669; 0.742; 0.764; 0.775; 0.781; 0.770; 0.775; 0.775; 0.798; 0.815; 0.815; 0.815; 0.815; 0.815; 0.815; 0.815; 0.815; "
     ]
    }
   ],
   "source": [
    "train_model(train_ind, train_dep, 20, 1)"
   ]
  },
  {
   "cell_type": "markdown",
   "id": "bec4c4aa-18c0-4042-b589-b055f7992aa1",
   "metadata": {},
   "source": [
    "# Linear Regression Results\n",
    "After running this model several times with various learning rates and number of epochs, the highest accuracy I was able to get is 0.826"
   ]
  },
  {
   "cell_type": "code",
   "execution_count": 41,
   "id": "4370347a-75b0-4638-9030-5de35cb82fb4",
   "metadata": {},
   "outputs": [
    {
     "data": {
      "text/plain": [
       "tensor([[0.4539, 0.0000, 0.0000,  ..., 0.0000, 1.0000, 0.0000],\n",
       "        [0.6184, 0.1250, 0.0000,  ..., 0.0000, 0.0000, 1.0000],\n",
       "        [0.8158, 0.0000, 0.0000,  ..., 0.0000, 1.0000, 0.0000],\n",
       "        ...,\n",
       "        [0.5066, 0.0000, 0.0000,  ..., 0.0000, 0.0000, 1.0000],\n",
       "        [0.2763, 0.0000, 0.0000,  ..., 0.0000, 0.0000, 1.0000],\n",
       "        [0.2763, 0.1250, 0.1111,  ..., 1.0000, 0.0000, 0.0000]])"
      ]
     },
     "execution_count": 41,
     "metadata": {},
     "output_type": "execute_result"
    }
   ],
   "source": [
    "# Creating a submission\n",
    "\n",
    "# Process the test data\n",
    "test_df = pd.read_csv(\"titanic/test.csv\")\n",
    "modes = test_df.mode().iloc[0]\n",
    "test_df = test_df.fillna(modes)\n",
    "test_df[\"LogFare\"] = np.log(test_df[\"Fare\"] + 1)\n",
    "test_df = pd.get_dummies(test_df, columns=[\"Sex\", \"Pclass\", \"Embarked\"])\n",
    "\n",
    "test = tensor(test_df[['Age', 'SibSp', 'Parch', 'LogFare', 'Sex_female', 'Sex_male', 'Pclass_1', 'Pclass_2', 'Pclass_3', 'Embarked_C', 'Embarked_Q', 'Embarked_S']].values.astype(float), dtype=torch.float)\n",
    "\n",
    "max_vals = test.max(dim=0).values\n",
    "test = test / max_vals\n",
    "test"
   ]
  },
  {
   "cell_type": "code",
   "execution_count": 42,
   "id": "dff2e497-c093-49d3-b51a-00ff47f94d06",
   "metadata": {},
   "outputs": [
    {
     "data": {
      "text/plain": [
       "array([0, 1, 0, 0, 1, 0, 0, 0, 1, 0, 0, 0, 1, 0, 1, 0, 0, 0, 1, 1, 0, 0, 1, 0, 1, 0, 1, 0, 0, 0, 0, 0, 1, 1, 0, 0, 1, 1, 0, 0, 0, 0, 0, 0, 1, 0, 0, 0, 1, 1, 0, 0, 0, 1, 0, 0, 0, 0, 0, 1, 0, 0, 0, 1,\n",
       "       0, 0, 1, 0, 0, 1, 1, 0, 1, 0, 1, 0, 0, 1, 0, 1, 0, 0, 0, 0, 0, 0, 0, 1, 1, 0, 1, 0, 1, 0, 0, 0, 1, 0, 1, 0, 1, 0, 0, 0, 1, 0, 0, 0, 0, 0, 0, 1, 1, 1, 1, 0, 0, 1, 0, 0, 0, 0, 1, 0, 0, 1, 0, 0,\n",
       "       0, 0, 0, 0, 1, 0, 0, 0, 0, 0, 1, 0, 1, 1, 0, 0, 0, 0, 0, 0, 0, 0, 1, 0, 0, 1, 0, 0, 1, 1, 0, 1, 1, 0, 0, 0, 0, 1, 0, 0, 1, 1, 0, 0, 0, 0, 0, 0, 0, 0, 0, 1, 0, 0, 1, 0, 1, 0, 0, 0, 1, 0, 0, 0,\n",
       "       0, 0, 0, 0, 0, 1, 0, 1, 0, 0, 0, 0, 0, 0, 0, 0, 1, 0, 0, 0, 0, 0, 1, 0, 1, 0, 1, 0, 0, 0, 0, 0, 1, 1, 0, 1, 0, 0, 0, 1, 0, 0, 0, 0, 0, 0, 0, 1, 1, 0, 0, 0, 0, 0, 0, 0, 0, 1, 0, 0, 0, 0, 0, 0,\n",
       "       0, 0, 0, 0, 0, 0, 0, 1, 0, 0, 1, 0, 1, 0, 0, 0, 1, 0, 0, 0, 0, 0, 0, 0, 1, 0, 1, 1, 1, 0, 0, 0, 0, 0, 0, 0, 0, 0, 0, 0, 0, 0, 0, 0, 0, 0, 0, 0, 1, 1, 0, 0, 0, 1, 0, 0, 0, 0, 1, 1, 0, 0, 0, 0,\n",
       "       0, 0, 0, 0, 1, 0, 0, 0, 0, 0, 0, 0, 0, 1, 0, 0, 0, 0, 0, 0, 0, 0, 0, 0, 0, 1, 0, 1, 0, 0, 1, 0, 0, 0, 1, 0, 1, 0, 0, 1, 0, 0, 0, 0, 1, 1, 0, 1, 1, 0, 0, 1, 0, 0, 1, 1, 1, 0, 0, 0, 0, 0, 1, 1,\n",
       "       0, 0, 0, 0, 0, 0, 0, 1, 0, 0, 0, 1, 0, 1, 0, 0, 1, 0, 1, 0, 0, 0, 0, 0, 1, 1, 1, 0, 1, 0, 1, 0, 0, 0], dtype=int32)"
      ]
     },
     "execution_count": 42,
     "metadata": {},
     "output_type": "execute_result"
    }
   ],
   "source": [
    "test_pred = calc_preds(test, cfs)\n",
    "test_pred = (test_pred > 0.5).int()\n",
    "test_pred = test_pred.detach().numpy()\n",
    "test_pred"
   ]
  },
  {
   "cell_type": "code",
   "execution_count": 43,
   "id": "3092db67-4d5f-4be1-85b5-160c7eeff070",
   "metadata": {},
   "outputs": [
    {
     "data": {
      "text/html": [
       "<div>\n",
       "<style scoped>\n",
       "    .dataframe tbody tr th:only-of-type {\n",
       "        vertical-align: middle;\n",
       "    }\n",
       "\n",
       "    .dataframe tbody tr th {\n",
       "        vertical-align: top;\n",
       "    }\n",
       "\n",
       "    .dataframe thead th {\n",
       "        text-align: right;\n",
       "    }\n",
       "</style>\n",
       "<table border=\"1\" class=\"dataframe\">\n",
       "  <thead>\n",
       "    <tr style=\"text-align: right;\">\n",
       "      <th></th>\n",
       "      <th>PassengerId</th>\n",
       "      <th>Survived</th>\n",
       "    </tr>\n",
       "  </thead>\n",
       "  <tbody>\n",
       "    <tr>\n",
       "      <th>0</th>\n",
       "      <td>892</td>\n",
       "      <td>0</td>\n",
       "    </tr>\n",
       "    <tr>\n",
       "      <th>1</th>\n",
       "      <td>893</td>\n",
       "      <td>1</td>\n",
       "    </tr>\n",
       "    <tr>\n",
       "      <th>2</th>\n",
       "      <td>894</td>\n",
       "      <td>0</td>\n",
       "    </tr>\n",
       "    <tr>\n",
       "      <th>3</th>\n",
       "      <td>895</td>\n",
       "      <td>0</td>\n",
       "    </tr>\n",
       "    <tr>\n",
       "      <th>4</th>\n",
       "      <td>896</td>\n",
       "      <td>1</td>\n",
       "    </tr>\n",
       "  </tbody>\n",
       "</table>\n",
       "</div>"
      ],
      "text/plain": [
       "   PassengerId  Survived\n",
       "0          892         0\n",
       "1          893         1\n",
       "2          894         0\n",
       "3          895         0\n",
       "4          896         1"
      ]
     },
     "execution_count": 43,
     "metadata": {},
     "output_type": "execute_result"
    }
   ],
   "source": [
    "submission = pd.DataFrame({'PassengerId':test_df['PassengerId'],'Survived':test_pred})\n",
    "submission.head()"
   ]
  },
  {
   "cell_type": "code",
   "execution_count": 44,
   "id": "5ba816eb-293b-4b06-a9a6-5f22f3461ef6",
   "metadata": {},
   "outputs": [],
   "source": [
    "submission.to_csv(\"submission.csv\",index=False)"
   ]
  },
  {
   "attachments": {
    "7d40e0be-b2e6-41a4-b104-bf5d325d855f.png": {
     "image/png": "[encoded data removed]"
    }
   },
   "cell_type": "markdown",
   "id": "1d7f4cb3-b6b4-44b9-94f8-fd6f42fd0581",
   "metadata": {},
   "source": [
    "## Linear Submission Results\n",
    "![image.png](attachment:7d40e0be-b2e6-41a4-b104-bf5d325d855f.png)"
   ]
  },
  {
   "cell_type": "markdown",
   "id": "5b154804-9375-471c-bcaf-3bdcbd7b2a56",
   "metadata": {},
   "source": [
    "# Neural Nets\n",
    "Going to take what I've done so far an try and make a 2 layer neural net.\n",
    "## Steps\n",
    "1. Initialize two layers of cfs\n",
    "2. Add some non-linearity between the layers\n",
    "3. Add a bias to the second layer"
   ]
  },
  {
   "cell_type": "code",
   "execution_count": 45,
   "id": "191097cb-5f32-41cb-8c87-87bb8724f3c3",
   "metadata": {},
   "outputs": [
    {
     "data": {
      "text/plain": [
       "tensor([[ 1.6994e-01, -3.2006e-01, -7.7691e-01, -3.1486e-01, -4.2204e-01, -3.2542e-01, -9.0212e-01,  2.1543e-01, -7.3472e-01, -7.7880e-01],\n",
       "        [-8.1703e-01,  4.1738e-01, -6.0203e-01, -4.1275e-01,  7.8384e-01,  5.3096e-01,  5.7339e-01, -9.4951e-01, -7.1710e-01, -3.7751e-01],\n",
       "        [ 8.2610e-01,  1.0230e-01, -7.4790e-01,  6.2618e-03, -7.7667e-01, -2.1910e-01, -2.7498e-01,  8.6566e-01,  3.0974e-01, -1.7437e-01],\n",
       "        [ 1.6893e-01, -2.8867e-01,  3.9290e-01,  3.9556e-01,  2.6855e-01, -3.8978e-01,  8.5315e-01, -1.4437e-01, -3.8932e-01,  6.2631e-01],\n",
       "        [ 8.1506e-01,  9.9516e-01,  2.9626e-01, -3.4089e-01,  5.0789e-01,  8.5795e-01, -9.8083e-01, -1.2389e-01, -6.8197e-01,  1.8636e-01],\n",
       "        [ 4.1358e-01, -2.0659e-01, -8.3657e-02,  4.5011e-01, -1.6807e-01, -8.3978e-01,  8.0014e-01, -5.0331e-01, -1.0986e-01,  9.4326e-02],\n",
       "        [-6.0097e-02, -9.4069e-01,  4.5880e-01, -4.5423e-01, -5.1866e-01,  2.3892e-01, -5.2186e-01, -4.6216e-01, -3.3695e-01, -3.7568e-01],\n",
       "        [-4.1764e-01, -2.6969e-01,  2.5988e-01, -8.0922e-01, -6.0528e-01,  1.4591e-02,  1.3907e-01,  5.5229e-01, -7.0244e-01,  3.1920e-01],\n",
       "        [ 5.6839e-01,  5.5526e-01, -9.3142e-01, -3.8160e-01, -8.5957e-01, -6.3281e-01,  5.5698e-01, -1.4932e-01,  4.2471e-01, -5.8701e-01],\n",
       "        [ 1.5196e-01, -6.0486e-01,  4.9989e-01, -4.3738e-01, -2.5076e-01, -8.6763e-01,  3.3035e-03,  9.4948e-01,  4.8538e-01, -5.3354e-01],\n",
       "        [ 1.3449e-02, -1.0965e-01, -8.0507e-01,  7.8409e-01,  1.6121e-02,  2.1060e-01, -4.0383e-01, -4.6792e-01,  1.6489e-01,  3.6971e-01],\n",
       "        [ 2.2430e-01, -4.8195e-01,  9.7090e-01, -1.4720e-01, -6.1242e-01, -4.6771e-01,  9.8442e-01,  4.8161e-05, -1.3574e-01, -4.1616e-01]])"
      ]
     },
     "execution_count": 45,
     "metadata": {},
     "output_type": "execute_result"
    }
   ],
   "source": [
    "layer1 = torch.rand(12, 10)*2 -1\n",
    "layer1"
   ]
  },
  {
   "cell_type": "code",
   "execution_count": 46,
   "id": "79ae23f2-1bbe-4d5c-83fe-9b135131b107",
   "metadata": {},
   "outputs": [],
   "source": [
    "def init_coeffs(inputs, hidden):\n",
    "    layer1 = torch.rand(inputs, hidden)*2 -1\n",
    "    layer2 = torch.rand(hidden, 1)\n",
    "    bias = torch.rand(1)\n",
    "    return layer1.requires_grad_(), layer2.requires_grad_(), bias.requires_grad_()"
   ]
  },
  {
   "cell_type": "code",
   "execution_count": 47,
   "id": "774d3a0b-07fc-47a3-a4a1-540bac7ff733",
   "metadata": {},
   "outputs": [
    {
     "data": {
      "text/plain": [
       "(torch.Size([12, 10]),\n",
       " torch.Size([10, 1]),\n",
       " tensor([0.5778], requires_grad=True))"
      ]
     },
     "execution_count": 47,
     "metadata": {},
     "output_type": "execute_result"
    }
   ],
   "source": [
    "l1, l2, b = init_coeffs(12, 10)\n",
    "l1.shape, l2.shape, b"
   ]
  },
  {
   "cell_type": "code",
   "execution_count": 48,
   "id": "67d3046b-0e3f-4d9b-a5eb-4cd72ffc0a37",
   "metadata": {},
   "outputs": [
    {
     "data": {
      "text/plain": [
       "tensor([[-0.7256, -0.6126, -1.3678,  ...,  0.3722, -0.1477,  3.0304],\n",
       "        [-1.2304, -0.6174, -0.4150,  ...,  0.9324,  0.1310,  0.1801],\n",
       "        [ 0.9813,  0.1028, -2.1312,  ...,  0.2644,  0.9651,  2.9535],\n",
       "        ...,\n",
       "        [-0.4270, -0.6569, -1.5904,  ...,  0.7718,  0.4231,  2.8540],\n",
       "        [ 0.5133, -0.2144, -1.8958,  ..., -0.0580,  0.1622,  3.4181],\n",
       "        [-1.8549, -1.2734, -0.5540,  ...,  0.7355, -0.8149,  0.8131]], grad_fn=<MmBackward0>)"
      ]
     },
     "execution_count": 48,
     "metadata": {},
     "output_type": "execute_result"
    }
   ],
   "source": [
    "import torch.nn.functional as F\n",
    "res1 = train_ind @ l1\n",
    "res1"
   ]
  },
  {
   "cell_type": "code",
   "execution_count": 49,
   "id": "9f3cf34d-1561-49dc-98d3-bb81ea67d355",
   "metadata": {},
   "outputs": [
    {
     "data": {
      "text/plain": [
       "tensor([[0.0000, 0.0000, 0.0000,  ..., 0.3722, 0.0000, 3.0304],\n",
       "        [0.0000, 0.0000, 0.0000,  ..., 0.9324, 0.1310, 0.1801],\n",
       "        [0.9813, 0.1028, 0.0000,  ..., 0.2644, 0.9651, 2.9535],\n",
       "        ...,\n",
       "        [0.0000, 0.0000, 0.0000,  ..., 0.7718, 0.4231, 2.8540],\n",
       "        [0.5133, 0.0000, 0.0000,  ..., 0.0000, 0.1622, 3.4181],\n",
       "        [0.0000, 0.0000, 0.0000,  ..., 0.7355, 0.0000, 0.8131]], grad_fn=<ReluBackward0>)"
      ]
     },
     "execution_count": 49,
     "metadata": {},
     "output_type": "execute_result"
    }
   ],
   "source": [
    "relu = F.relu(res1)\n",
    "relu"
   ]
  },
  {
   "cell_type": "code",
   "execution_count": 50,
   "id": "d46c3e2a-767b-4df0-86ae-f052dd171158",
   "metadata": {},
   "outputs": [
    {
     "data": {
      "text/plain": [
       "torch.Size([713, 1])"
      ]
     },
     "execution_count": 50,
     "metadata": {},
     "output_type": "execute_result"
    }
   ],
   "source": [
    "res2 = relu @ l2 + b\n",
    "res2.shape"
   ]
  },
  {
   "cell_type": "code",
   "execution_count": 51,
   "id": "2e3364de-4b02-43fb-901a-ec9f060fcdc3",
   "metadata": {},
   "outputs": [],
   "source": [
    "def calc_preds(ind, layer1, layer2, bias):\n",
    "    res1 = ind @ layer1\n",
    "    relu = F.relu(res1)\n",
    "    res2 = relu @ layer2 + bias\n",
    "    return torch.sigmoid(res2)"
   ]
  },
  {
   "cell_type": "code",
   "execution_count": 52,
   "id": "05eb5fe5-03ec-4254-8621-055dec6786fe",
   "metadata": {},
   "outputs": [
    {
     "data": {
      "text/plain": [
       "torch.Size([713, 1])"
      ]
     },
     "execution_count": 52,
     "metadata": {},
     "output_type": "execute_result"
    }
   ],
   "source": [
    "pred = calc_preds(train_ind, l1, l2, b)\n",
    "pred.shape"
   ]
  },
  {
   "cell_type": "code",
   "execution_count": 53,
   "id": "66f8e459-8b8b-4451-820a-a2712734e3e5",
   "metadata": {},
   "outputs": [],
   "source": [
    "def calc_loss(ind, dep, layer1, layer2, bias):\n",
    "    return torch.abs(calc_preds(ind, layer1, layer2, bias) - dep).mean()"
   ]
  },
  {
   "cell_type": "code",
   "execution_count": 54,
   "id": "d280aab3-4d5c-457f-bfe3-bbc878e93336",
   "metadata": {},
   "outputs": [
    {
     "data": {
      "text/plain": [
       "tensor(0.5890, grad_fn=<MeanBackward0>)"
      ]
     },
     "execution_count": 54,
     "metadata": {},
     "output_type": "execute_result"
    }
   ],
   "source": [
    "loss = calc_loss(train_ind, train_dep, l1, l2, b)\n",
    "loss"
   ]
  },
  {
   "cell_type": "code",
   "execution_count": 55,
   "id": "12d9a58e-3d97-4f3a-bef9-b97e9b83c788",
   "metadata": {},
   "outputs": [],
   "source": [
    "loss.backward()"
   ]
  },
  {
   "cell_type": "code",
   "execution_count": 56,
   "id": "820dda51-9936-48ec-95b8-697eeeddb27f",
   "metadata": {},
   "outputs": [
    {
     "data": {
      "text/plain": [
       "(tensor([[4.4760e-04, 4.2668e-04, 4.3758e-05, 1.5002e-03, 9.4473e-05, 6.6550e-04, 2.9355e-03, 2.0131e-03, 5.4168e-04, 2.5644e-03],\n",
       "         [6.1987e-05, 7.1274e-05, 2.0305e-04, 2.9319e-04, 6.6410e-06, 1.0850e-04, 5.2342e-04, 3.3766e-04, 1.0584e-04, 4.3049e-04],\n",
       "         [5.7573e-05, 3.4174e-05, 8.4938e-05, 3.1082e-04, 2.5670e-06, 8.5588e-05, 4.3497e-04, 2.7381e-04, 1.9247e-04, 3.5732e-04],\n",
       "         [6.9229e-04, 5.7800e-04, 1.9815e-04, 1.9866e-03, 9.7254e-05, 8.1445e-04, 3.6351e-03, 2.4435e-03, 8.8936e-04, 3.1479e-03],\n",
       "         [4.7359e-04, 5.6460e-04, 1.0984e-05, 2.6751e-03, 5.1850e-05, 4.3137e-04, 1.7379e-03, 1.3429e-03, 9.4567e-04, 1.4323e-03],\n",
       "         [6.6681e-04, 8.7356e-04, 3.1874e-04, 1.9414e-03, 2.1912e-04, 1.5308e-03, 6.7826e-03, 4.6488e-03, 6.4817e-04, 6.1024e-03],\n",
       "         [7.9880e-04, 2.7878e-04, 0.0000e+00, 4.2205e-04, 7.0778e-06, 2.4118e-04, 1.2833e-03, 5.7529e-04, 9.2350e-04, 9.5577e-04],\n",
       "         [8.1799e-05, 2.1321e-04, 0.0000e+00, 8.5758e-04, 8.4225e-07, 1.3618e-04, 7.8381e-04, 4.3295e-04, 1.6040e-04, 5.4802e-04],\n",
       "         [2.5980e-04, 9.4618e-04, 3.2972e-04, 3.3369e-03, 2.6305e-04, 1.5849e-03, 6.4535e-03, 4.9835e-03, 5.0993e-04, 6.0308e-03],\n",
       "         [1.0926e-03, 2.2812e-04, 0.0000e+00, 1.5592e-03, 1.0131e-04, 3.2209e-04, 4.4036e-04, 8.3150e-04, 6.8750e-04, 1.2801e-03],\n",
       "         [0.0000e+00, 9.7775e-04, 4.9494e-05, 6.4721e-04, 1.5997e-04, 2.4871e-04, 0.0000e+00, 7.7863e-04, 0.0000e+00, 7.0839e-04],\n",
       "         [4.7780e-05, 2.3228e-04, 2.8023e-04, 2.4101e-03, 9.6897e-06, 1.3914e-03, 8.0802e-03, 4.3816e-03, 9.0634e-04, 5.5462e-03]]),\n",
       " tensor([[5.6736e-04],\n",
       "         [4.9301e-04],\n",
       "         [8.5918e-05],\n",
       "         [5.1255e-03],\n",
       "         [1.4107e-03],\n",
       "         [1.3473e-02],\n",
       "         [1.4265e-02],\n",
       "         [1.3928e-02],\n",
       "         [1.1003e-03],\n",
       "         [2.1680e-02]]),\n",
       " tensor([0.0203]))"
      ]
     },
     "execution_count": 56,
     "metadata": {},
     "output_type": "execute_result"
    }
   ],
   "source": [
    "l1.grad, l2.grad, b.grad"
   ]
  },
  {
   "cell_type": "code",
   "execution_count": 57,
   "id": "9e36d271-be44-4349-8d57-b74bd1256be1",
   "metadata": {},
   "outputs": [],
   "source": [
    "def update_coeffs(layer1, layer2, bias, loss, lr):\n",
    "    loss.backward()\n",
    "    with torch.no_grad():\n",
    "        layer1.sub_(layer1.grad*lr)\n",
    "        layer2.sub_(layer2.grad*lr)\n",
    "        bias.sub_(bias.grad*lr)"
   ]
  },
  {
   "cell_type": "code",
   "execution_count": 58,
   "id": "b4785c1e-02ba-49d4-95c8-bdfd3a87c77c",
   "metadata": {},
   "outputs": [
    {
     "data": {
      "text/plain": [
       "tensor(0.5886, grad_fn=<MeanBackward0>)"
      ]
     },
     "execution_count": 58,
     "metadata": {},
     "output_type": "execute_result"
    }
   ],
   "source": [
    "loss = calc_loss(train_ind, train_dep, l1, l2, b)\n",
    "update_coeffs(l1, l2, b, loss, 0.1)\n",
    "loss = calc_loss(train_ind, train_dep, l1, l2, b)\n",
    "loss"
   ]
  },
  {
   "cell_type": "markdown",
   "id": "69c20382-251a-49af-b00c-211672da1eb9",
   "metadata": {},
   "source": [
    "The loss has improved, so I think we are ready to train this model."
   ]
  },
  {
   "cell_type": "code",
   "execution_count": 59,
   "id": "1d572997-c618-4e99-90b3-6de4dd532490",
   "metadata": {},
   "outputs": [],
   "source": [
    "# Epoch\n",
    "def run_epoch(ind, dep, layer1, layer2, bias, lr):\n",
    "    loss = calc_loss(ind, dep, layer1, layer2, bias)\n",
    "    update_coeffs(layer1, layer2, bias, loss, lr)\n",
    "    # print(f\"loss: {loss:.3f}\", end=\", \")\n",
    "\n",
    "# Need to caclculate accuracy\n",
    "def calc_accuracy(layer1, layer2, bias, val_ind, val_dep):\n",
    "    return ((calc_preds(val_ind, layer1, layer2, bias) > 0.5) == val_dep).float().mean()\n",
    "\n",
    "def train_model(hidden, ind, dep, epochs, lr):\n",
    "    l1, l2, b = init_coeffs(12, hidden)\n",
    "    for _ in range(epochs):\n",
    "        run_epoch(ind, dep, l1, l2, b, lr)\n",
    "        acc = calc_accuracy(l1, l2, b, val_ind, val_dep)\n",
    "        print(f\"{acc:.3f}\", end=\"; \")"
   ]
  },
  {
   "cell_type": "code",
   "execution_count": 60,
   "id": "62521dd6-9399-466d-864b-4f878063306e",
   "metadata": {},
   "outputs": [
    {
     "name": "stdout",
     "output_type": "stream",
     "text": [
      "0.371; 0.371; 0.371; 0.371; 0.371; 0.371; 0.488; 0.558; 0.599; 0.629; 0.629; 0.629; 0.629; 0.629; 0.629; 0.629; 0.629; 0.629; 0.629; 0.629; "
     ]
    }
   ],
   "source": [
    "train_model(10, train_ind, train_dep, 20, 1)"
   ]
  },
  {
   "cell_type": "markdown",
   "id": "2668b53d-9690-4d81-ba20-e5b99cd14ef9",
   "metadata": {},
   "source": [
    "## Results\n",
    "The model is training but it's only getting to bout 61% accuracy which is worst than our linear model.\n",
    "\n",
    "Jeremy mentioned in the video that I might need to play around with the coeff inits to get something that works better"
   ]
  },
  {
   "cell_type": "code",
   "execution_count": 61,
   "id": "bafcbbe5-59b6-434c-ba90-be488a392e65",
   "metadata": {},
   "outputs": [],
   "source": [
    "def init_coeffs(inputs, hidden):\n",
    "    layer1 = torch.rand(inputs, hidden)*2 -1\n",
    "    layer2 = torch.rand(hidden, 1)*2 -1\n",
    "    bias = torch.rand(1)\n",
    "    return layer1.requires_grad_(), layer2.requires_grad_(), bias.requires_grad_()"
   ]
  },
  {
   "cell_type": "code",
   "execution_count": 62,
   "id": "9cd06d35-6eac-4450-a80d-b9c83475ae5b",
   "metadata": {},
   "outputs": [
    {
     "name": "stdout",
     "output_type": "stream",
     "text": [
      "0.488; 0.575; 0.629; 0.629; 0.629; 0.629; 0.629; 0.629; 0.629; 0.629; 0.629; 0.629; 0.629; 0.629; 0.629; 0.629; 0.629; 0.629; 0.629; 0.629; "
     ]
    }
   ],
   "source": [
    "train_model(10, train_ind, train_dep, 20, 1)"
   ]
  },
  {
   "cell_type": "code",
   "execution_count": 151,
   "id": "f5816833-486b-493e-bd28-563b64e26b86",
   "metadata": {},
   "outputs": [],
   "source": [
    "# Process the test data\n",
    "def proc_data(df):\n",
    "    modes = df.mode().iloc[0]\n",
    "    df = df.fillna(modes)\n",
    "    df[\"LogFare\"] = np.log(df[\"Fare\"] + 1)\n",
    "    df = pd.get_dummies(df, columns=[\"Sex\", \"Pclass\", \"Embarked\"])\n",
    "    \n",
    "    ten_ind = tensor(df[['Age', 'SibSp', 'Parch', 'LogFare', 'Sex_female', 'Sex_male', 'Pclass_1', 'Pclass_2', 'Pclass_3', 'Embarked_C', 'Embarked_Q', 'Embarked_S']].values.astype(float), dtype=torch.float)\n",
    "    max_vals = ten_ind.max(dim=0).values\n",
    "    ten_ind = ten_ind / max_vals\n",
    "\n",
    "    # For train vs test data\n",
    "    if \"Survived\" in df:\n",
    "        ten_dep = tensor(df[\"Survived\"].values, dtype=torch.float)\n",
    "        return ten_ind, ten_dep\n",
    "    return ten_ind"
   ]
  },
  {
   "cell_type": "code",
   "execution_count": 152,
   "id": "c3a93c54-4177-4394-b797-522baa84cbd3",
   "metadata": {},
   "outputs": [
    {
     "data": {
      "text/plain": [
       "tensor([[0.2625, 0.0000, 0.0000,  ..., 0.0000, 0.0000, 1.0000],\n",
       "        [0.3000, 0.0000, 0.0000,  ..., 0.0000, 0.0000, 1.0000],\n",
       "        [0.3562, 0.0000, 0.0000,  ..., 1.0000, 0.0000, 0.0000],\n",
       "        ...,\n",
       "        [0.2500, 0.0000, 0.0000,  ..., 0.0000, 0.0000, 1.0000],\n",
       "        [0.4125, 0.0000, 0.0000,  ..., 1.0000, 0.0000, 0.0000],\n",
       "        [0.3000, 0.0000, 0.3333,  ..., 1.0000, 0.0000, 0.0000]])"
      ]
     },
     "execution_count": 152,
     "metadata": {},
     "output_type": "execute_result"
    }
   ],
   "source": [
    "# Make sure the data is as we expect\n",
    "train_df = pd.read_csv(\"titanic/train.csv\")\n",
    "trn_ind, trn_dep = proc_data(train_df)\n",
    "trn_split, val_split = RandomSplitter(seed=None)(train_df)\n",
    "train_ind, val_ind = trn_ind[trn_split], trn_ind[val_split]\n",
    "train_dep, val_dep = trn_dep[trn_split], trn_dep[val_split]\n",
    "train_ind"
   ]
  },
  {
   "cell_type": "code",
   "execution_count": 65,
   "id": "dc2a9156-060b-409c-986f-315effb1fde4",
   "metadata": {},
   "outputs": [
    {
     "name": "stdout",
     "output_type": "stream",
     "text": [
      "0.454; 0.513; 0.581; 0.602; 0.618; 0.618; 0.618; 0.618; 0.618; 0.618; 0.618; 0.618; 0.618; 0.618; 0.618; 0.618; 0.618; 0.618; 0.618; 0.618; "
     ]
    }
   ],
   "source": [
    "train_model(10, train_ind, train_dep, 20, 1)"
   ]
  },
  {
   "cell_type": "code",
   "execution_count": 66,
   "id": "799339bc-bab0-4aba-b007-130aeed764c3",
   "metadata": {},
   "outputs": [],
   "source": [
    "# This is exactly what jeremy did in the video\n",
    "def init_coeffs(inputs, hidden):\n",
    "    layer1 = (torch.rand(inputs, hidden)-0.5)/hidden\n",
    "    layer2 = torch.rand(hidden, 1)-0.3\n",
    "    bias = torch.rand(1)[0]\n",
    "    return layer1.requires_grad_(), layer2.requires_grad_(), bias.requires_grad_()"
   ]
  },
  {
   "cell_type": "code",
   "execution_count": 67,
   "id": "486a14cc-bda7-4204-9bbd-9de94490f2b4",
   "metadata": {},
   "outputs": [
    {
     "name": "stdout",
     "output_type": "stream",
     "text": [
      "0.382; 0.382; 0.618; 0.618; 0.618; 0.618; 0.618; 0.618; 0.618; 0.618; 0.618; 0.618; 0.618; 0.618; 0.618; 0.618; 0.618; 0.618; 0.618; 0.618; "
     ]
    }
   ],
   "source": [
    "train_model(20, train_ind, train_dep, 20, 1)"
   ]
  },
  {
   "cell_type": "markdown",
   "id": "2585a1ea-58d7-4872-b090-8af1f45213e5",
   "metadata": {},
   "source": [
    "In the video, Jeremy was able to get about the same accuracy with the neural net as he did with the linear model, but for some reason, I'm only able to get about 60%.\n",
    "\n",
    "There are some slight differences in our implementations, I will try doing it exactly as he did and see if there is improvement."
   ]
  },
  {
   "cell_type": "code",
   "execution_count": 68,
   "id": "85fb8507-82b4-4c26-8166-cd38a0b82938",
   "metadata": {},
   "outputs": [],
   "source": [
    "# This is exactly how Jeremy implements\n",
    "\n",
    "n_coeff = 12\n",
    "\n",
    "def init_coeffs(n_hidden=20):\n",
    "    layer1 = (torch.rand(n_coeff, n_hidden)-0.5)/n_hidden\n",
    "    layer2 = torch.rand(n_hidden, 1)-0.3\n",
    "    const = torch.rand(1)[0]\n",
    "    return layer1.requires_grad_(),layer2.requires_grad_(),const.requires_grad_()\n",
    "\n",
    "import torch.nn.functional as F\n",
    "\n",
    "def calc_preds(coeffs, indeps):\n",
    "    l1,l2,const = coeffs\n",
    "    res = F.relu(indeps@l1)\n",
    "    res = res@l2 + const\n",
    "    return torch.sigmoid(res)\n",
    "\n",
    "def calc_loss(coeffs, indeps, deps): return torch.abs(calc_preds(coeffs, indeps)-deps).mean()\n",
    "\n",
    "def update_coeffs(coeffs, lr):\n",
    "    for layer in coeffs:\n",
    "        layer.sub_(layer.grad * lr)\n",
    "        layer.grad.zero_()\n",
    "\n",
    "def one_epoch(coeffs, lr):\n",
    "    loss = calc_loss(coeffs, train_ind, train_dep)\n",
    "    loss.backward()\n",
    "    with torch.no_grad(): update_coeffs(coeffs, lr)\n",
    "    print(f\"{loss:.3f}\", end=\"; \")\n",
    "\n",
    "def train_model(epochs=30, lr=0.01):\n",
    "    torch.manual_seed(442)\n",
    "    coeffs = init_coeffs()\n",
    "    for i in range(epochs): one_epoch(coeffs, lr=lr)\n",
    "    return coeffs\n",
    "\n",
    "def acc(coeffs): return (val_dep.bool()==(calc_preds(coeffs, val_ind)>0.5)).float().mean()"
   ]
  },
  {
   "cell_type": "code",
   "execution_count": 69,
   "id": "a55c57e3-5dc4-460c-8b73-a9892cab550b",
   "metadata": {},
   "outputs": [
    {
     "name": "stdout",
     "output_type": "stream",
     "text": [
      "0.542; 0.469; 0.395; 0.388; 0.386; 0.386; 0.385; 0.385; 0.385; 0.385; 0.385; 0.385; 0.385; 0.385; 0.385; 0.385; 0.385; 0.385; 0.385; 0.385; 0.385; 0.385; 0.384; 0.384; 0.384; 0.384; 0.384; 0.384; 0.384; 0.384; "
     ]
    },
    {
     "data": {
      "text/plain": [
       "tensor(0.6180)"
      ]
     },
     "execution_count": 69,
     "metadata": {},
     "output_type": "execute_result"
    }
   ],
   "source": [
    "coeffs = train_model(lr=20)\n",
    "acc(coeffs)"
   ]
  },
  {
   "cell_type": "code",
   "execution_count": 72,
   "id": "172f87b6-03ce-4ebc-b6d1-40100fa7b093",
   "metadata": {},
   "outputs": [
    {
     "name": "stdout",
     "output_type": "stream",
     "text": [
      "0.382; 0.382; 0.382; 0.382; 0.382; 0.382; 0.382; 0.382; 0.382; 0.382; 0.382; 0.382; 0.382; 0.419; 0.618; 0.618; 0.618; 0.618; 0.618; 0.618; "
     ]
    }
   ],
   "source": [
    "# Back to my way...\n",
    "def init_coeffs(inputs, hidden):\n",
    "    layer1 = (torch.rand(inputs, hidden)-0.5)/hidden\n",
    "    layer2 = torch.rand(hidden, 1)-0.3\n",
    "    bias = torch.rand(1)\n",
    "    return layer1.requires_grad_(), layer2.requires_grad_(), bias.requires_grad_()\n",
    "\n",
    "def calc_preds(ind, layer1, layer2, bias):\n",
    "    res1 = ind @ layer1\n",
    "    relu = F.relu(res1)\n",
    "    res2 = (relu @ layer2) + bias\n",
    "    return torch.sigmoid(res2)\n",
    "\n",
    "def calc_loss(ind, dep, layer1, layer2, bias):\n",
    "    return torch.abs(calc_preds(ind, layer1, layer2, bias) - dep).mean()\n",
    "\n",
    "def update_coeffs(layer1, layer2, bias, loss, lr):\n",
    "    loss.backward()\n",
    "    with torch.no_grad():\n",
    "        layer1.sub_(layer1.grad*lr)\n",
    "        layer1.grad.zero_()\n",
    "        layer2.sub_(layer2.grad*lr)\n",
    "        layer2.grad.zero_()\n",
    "        bias.sub_(bias.grad*lr)\n",
    "        bias.grad.zero_()\n",
    "\n",
    "# Epoch\n",
    "def run_epoch(ind, dep, layer1, layer2, bias, lr):\n",
    "    loss = calc_loss(ind, dep, layer1, layer2, bias)\n",
    "    update_coeffs(layer1, layer2, bias, loss, lr)\n",
    "    # print(f\"loss: {loss:.3f}\", end=\", \")\n",
    "\n",
    "# Need to caclculate accuracy\n",
    "def calc_accuracy(layer1, layer2, bias, val_ind, val_dep):\n",
    "    return ((calc_preds(val_ind, layer1, layer2, bias) > 0.5) == val_dep).float().mean()\n",
    "\n",
    "def train_model(hidden, ind, dep, epochs, lr):\n",
    "    l1, l2, b = init_coeffs(12, hidden)\n",
    "    for _ in range(epochs):\n",
    "        run_epoch(ind, dep, l1, l2, b, lr)\n",
    "        acc = calc_accuracy(l1, l2, b, val_ind, val_dep)\n",
    "        print(f\"{acc:.3f}\", end=\"; \")\n",
    "\n",
    "train_model(20, train_ind, train_dep, 20, 1)"
   ]
  },
  {
   "cell_type": "markdown",
   "id": "27a30a60-2edd-45c8-9ae6-1062276739c9",
   "metadata": {},
   "source": [
    "# No Change\n",
    "Doing the process apparently the exact same as Jeremy did in the video does yeild any better results.\n",
    "\n",
    "There must be some subtle difference or perhaps I missing a data processing step. I'm not sure but either way, I don't think it is worth my time to comb through the video and try and figure it out."
   ]
  },
  {
   "cell_type": "markdown",
   "id": "e8bf2131-84fe-44cb-87ec-1057ae64d2f4",
   "metadata": {},
   "source": [
    "# Deep Learning\n",
    "The cool kids use neural networks with n hidden layers"
   ]
  },
  {
   "cell_type": "code",
   "execution_count": 73,
   "id": "986fa1a5-609c-4f12-9db8-843bc2a37b5a",
   "metadata": {},
   "outputs": [],
   "source": [
    "def init_coeffs(layers):\n",
    "    coeffs = []\n",
    "    for i in range(len(layers) -1):\n",
    "        coeffs.append((torch.rand(layers[i], layers[i+1])-0.5)/layers[i+1])\n",
    "    coeffs.append(torch.rand(1)) # Bias\n",
    "\n",
    "    for layer in coeffs:\n",
    "        layer.requires_grad_()\n",
    "    return coeffs"
   ]
  },
  {
   "cell_type": "code",
   "execution_count": 89,
   "id": "954d7f88-364c-4425-8b02-807e6902fee1",
   "metadata": {},
   "outputs": [
    {
     "name": "stdout",
     "output_type": "stream",
     "text": [
      "tensor([[-0.0163, -0.0126, -0.0055,  0.0175,  0.0087,  0.0080, -0.0068, -0.0273, -0.0195, -0.0041, -0.0071, -0.0142,  0.0195,  0.0234,  0.0212,  0.0037],\n",
      "        [-0.0135, -0.0155, -0.0067, -0.0044, -0.0116, -0.0211, -0.0106,  0.0194, -0.0046, -0.0202, -0.0223, -0.0136, -0.0240,  0.0011,  0.0062,  0.0150],\n",
      "        [ 0.0027, -0.0036,  0.0222, -0.0112,  0.0094, -0.0195,  0.0301, -0.0152,  0.0306,  0.0128,  0.0140,  0.0083, -0.0270, -0.0079,  0.0061,  0.0161],\n",
      "        [ 0.0086,  0.0136,  0.0220,  0.0253, -0.0258,  0.0184, -0.0140,  0.0261, -0.0195, -0.0298, -0.0263, -0.0013,  0.0092,  0.0007,  0.0138, -0.0199],\n",
      "        [-0.0253,  0.0301,  0.0076,  0.0265, -0.0124, -0.0151, -0.0306,  0.0050,  0.0097, -0.0049,  0.0247,  0.0060, -0.0089,  0.0164, -0.0150, -0.0079],\n",
      "        [ 0.0199,  0.0011,  0.0025,  0.0143, -0.0079, -0.0121, -0.0117, -0.0303,  0.0267,  0.0189, -0.0065,  0.0131, -0.0179, -0.0037,  0.0099, -0.0033],\n",
      "        [ 0.0256,  0.0242,  0.0205,  0.0221,  0.0295, -0.0190, -0.0301,  0.0119, -0.0084, -0.0075,  0.0275, -0.0081,  0.0063, -0.0210, -0.0163, -0.0151],\n",
      "        [ 0.0201,  0.0220, -0.0286,  0.0014,  0.0261, -0.0310, -0.0009, -0.0198,  0.0137, -0.0249, -0.0273, -0.0300,  0.0194, -0.0283,  0.0124,  0.0250],\n",
      "        [-0.0074,  0.0079,  0.0214, -0.0077, -0.0148,  0.0238, -0.0303, -0.0074, -0.0188,  0.0070,  0.0138,  0.0121, -0.0119, -0.0211, -0.0231, -0.0061],\n",
      "        [ 0.0128, -0.0293, -0.0036,  0.0081,  0.0242,  0.0116, -0.0283, -0.0240, -0.0059,  0.0185,  0.0245,  0.0155, -0.0247,  0.0015, -0.0045, -0.0279],\n",
      "        [ 0.0178, -0.0051, -0.0208,  0.0105,  0.0135,  0.0307,  0.0146, -0.0244, -0.0153,  0.0235,  0.0018,  0.0040, -0.0141,  0.0308,  0.0220,  0.0119],\n",
      "        [ 0.0249,  0.0268,  0.0114,  0.0027, -0.0181,  0.0095,  0.0259, -0.0261,  0.0087,  0.0272,  0.0063,  0.0157,  0.0030, -0.0190,  0.0153, -0.0163]], requires_grad=True)\n",
      "tensor([[-0.0483,  0.0427, -0.0585,  0.0445, -0.0532,  0.0498,  0.0376, -0.0335],\n",
      "        [ 0.0443,  0.0172, -0.0084, -0.0190, -0.0356,  0.0068, -0.0206, -0.0307],\n",
      "        [ 0.0180,  0.0426, -0.0126,  0.0192,  0.0332,  0.0006, -0.0073, -0.0133],\n",
      "        [-0.0188,  0.0136,  0.0102,  0.0326,  0.0258,  0.0208, -0.0056,  0.0206],\n",
      "        [ 0.0290, -0.0561, -0.0263,  0.0385, -0.0610,  0.0011,  0.0076,  0.0025],\n",
      "        [ 0.0157,  0.0446,  0.0077,  0.0214, -0.0564,  0.0243, -0.0033, -0.0316],\n",
      "        [-0.0603, -0.0534, -0.0455,  0.0484, -0.0585, -0.0160, -0.0604, -0.0592],\n",
      "        [ 0.0286,  0.0206,  0.0474,  0.0417, -0.0070,  0.0524,  0.0030,  0.0317],\n",
      "        [-0.0029,  0.0243, -0.0380, -0.0527, -0.0116, -0.0386, -0.0621,  0.0047],\n",
      "        [-0.0383, -0.0081,  0.0473,  0.0023,  0.0200,  0.0533,  0.0307, -0.0522],\n",
      "        [ 0.0498, -0.0089,  0.0591,  0.0004,  0.0239,  0.0498, -0.0157,  0.0389],\n",
      "        [-0.0276, -0.0622, -0.0084, -0.0186,  0.0477, -0.0444,  0.0292,  0.0510],\n",
      "        [-0.0250,  0.0243,  0.0142,  0.0363, -0.0319, -0.0280,  0.0573,  0.0496],\n",
      "        [-0.0323,  0.0049, -0.0580, -0.0621,  0.0592,  0.0374,  0.0336, -0.0034],\n",
      "        [-0.0377,  0.0617, -0.0027, -0.0409, -0.0400, -0.0045,  0.0224,  0.0229],\n",
      "        [-0.0134, -0.0514, -0.0409,  0.0491, -0.0445, -0.0165, -0.0395, -0.0272]], requires_grad=True)\n",
      "tensor([[-0.0017, -0.0136,  0.0383, -0.0365],\n",
      "        [-0.0178,  0.1055,  0.0632,  0.0033],\n",
      "        [-0.0666,  0.0837, -0.0576, -0.1133],\n",
      "        [ 0.0710, -0.0140,  0.0576, -0.0084],\n",
      "        [-0.0199,  0.1177, -0.1181,  0.0074],\n",
      "        [ 0.0532,  0.0600,  0.1048,  0.1237],\n",
      "        [ 0.1045,  0.0316, -0.0445, -0.0565],\n",
      "        [ 0.1013,  0.0112, -0.0850, -0.0804]], requires_grad=True)\n",
      "tensor([[-0.2447],\n",
      "        [ 0.3027],\n",
      "        [ 0.4291],\n",
      "        [-0.3281]], requires_grad=True)\n",
      "tensor([0.5939], requires_grad=True)\n"
     ]
    }
   ],
   "source": [
    "cfs = init_coeffs([12, 16, 8, 4, 1])\n",
    "for layer in cfs:\n",
    "    print(layer)"
   ]
  },
  {
   "cell_type": "code",
   "execution_count": 133,
   "id": "2ff80144-d061-4735-b8e9-d453a447150c",
   "metadata": {},
   "outputs": [],
   "source": [
    "def calc_preds(ind, cfs):\n",
    "    res = ind @ cfs[0]\n",
    "    for i in range(1, len(cfs)-1):\n",
    "        res = res @ cfs[i]\n",
    "        res = F.relu(res)\n",
    "    res = res + cfs[-1]\n",
    "    return torch.sigmoid(res)"
   ]
  },
  {
   "cell_type": "code",
   "execution_count": 132,
   "id": "dcd51492-e7cc-49fb-ad34-0848ba4f298c",
   "metadata": {},
   "outputs": [
    {
     "name": "stdout",
     "output_type": "stream",
     "text": [
      "torch.Size([16, 8])\n",
      "torch.Size([8, 4])\n",
      "torch.Size([4, 1])\n"
     ]
    },
    {
     "data": {
      "text/plain": [
       "torch.Size([713, 1])"
      ]
     },
     "execution_count": 132,
     "metadata": {},
     "output_type": "execute_result"
    }
   ],
   "source": [
    "pred = calc_preds(train_ind, cfs)\n",
    "pred.shape"
   ]
  },
  {
   "cell_type": "code",
   "execution_count": 96,
   "id": "b48d0bef-c6af-43b5-8b2e-28cfe7f0d637",
   "metadata": {},
   "outputs": [],
   "source": [
    "def calc_loss(ind, dep, cfs):\n",
    "    return torch.abs(calc_preds(ind, cfs) - dep).mean()"
   ]
  },
  {
   "cell_type": "code",
   "execution_count": 103,
   "id": "604e0270-4c02-409b-91c0-79f6bfcd55c0",
   "metadata": {},
   "outputs": [
    {
     "data": {
      "text/plain": [
       "tensor(0.5218, grad_fn=<MeanBackward0>)"
      ]
     },
     "execution_count": 103,
     "metadata": {},
     "output_type": "execute_result"
    }
   ],
   "source": [
    "loss = calc_loss(train_ind, train_dep, cfs)\n",
    "loss"
   ]
  },
  {
   "cell_type": "code",
   "execution_count": 104,
   "id": "56a66c90-e9cf-4ec3-9373-bd8b68db6890",
   "metadata": {},
   "outputs": [],
   "source": [
    "def update_coeffs(cfs, loss, lr):\n",
    "    loss.backward()\n",
    "    for cf in cfs:\n",
    "        with torch.no_grad():\n",
    "            cf.sub_(cf.grad*lr)\n",
    "            cf.grad.zero_()"
   ]
  },
  {
   "cell_type": "code",
   "execution_count": 105,
   "id": "89c25408-a014-4991-8076-12ea3cad6f08",
   "metadata": {},
   "outputs": [
    {
     "data": {
      "text/plain": [
       "tensor(0.5111, grad_fn=<MeanBackward0>)"
      ]
     },
     "execution_count": 105,
     "metadata": {},
     "output_type": "execute_result"
    }
   ],
   "source": [
    "lr = 0.1\n",
    "update_coeffs(cfs, loss, lr)\n",
    "loss = calc_loss(train_ind, train_dep, cfs)\n",
    "loss"
   ]
  },
  {
   "cell_type": "code",
   "execution_count": 125,
   "id": "82a55424-5f1d-4938-894c-59c57a6b0c2a",
   "metadata": {},
   "outputs": [],
   "source": [
    "# Epoch\n",
    "def run_epoch(ind, dep, cfs, lr):\n",
    "    loss = calc_loss(ind, dep, cfs)\n",
    "    update_coeffs(cfs, loss, lr)\n",
    "    # print(f\"loss: {loss:.3f}\", end=\", \")\n",
    "\n",
    "# Need to caclculate accuracy\n",
    "def calc_accuracy(cfs, val_ind, val_dep):\n",
    "    return ((calc_preds(val_ind, cfs) > 0.5) == val_dep).float().mean()\n",
    "\n",
    "def train_model(layers, ind, dep, epochs, lr):\n",
    "    cfs = init_coeffs(layers)\n",
    "    for _ in range(epochs):\n",
    "        run_epoch(ind, dep, cfs, lr)\n",
    "        acc = calc_accuracy(cfs, val_ind, val_dep)\n",
    "        print(f\"{acc:.3f}\", end=\"; \")\n",
    "    return cfs"
   ]
  },
  {
   "cell_type": "code",
   "execution_count": 128,
   "id": "bc1eb715-454a-4b9e-9c8e-eea25af97faa",
   "metadata": {},
   "outputs": [
    {
     "name": "stdout",
     "output_type": "stream",
     "text": [
      "0.382; 0.382; 0.382; 0.382; 0.382; 0.382; 0.382; 0.382; 0.382; 0.382; 0.618; 0.618; 0.618; 0.618; 0.618; 0.618; 0.618; 0.618; 0.618; 0.618; 0.618; 0.618; 0.618; 0.618; 0.618; 0.618; 0.618; 0.618; 0.618; 0.618; 0.618; 0.618; 0.618; 0.618; 0.618; 0.618; 0.618; 0.618; 0.618; 0.618; 0.618; 0.618; 0.618; 0.618; 0.618; 0.618; 0.618; 0.618; 0.618; 0.618; 0.618; 0.618; 0.618; 0.618; 0.618; 0.618; 0.618; 0.618; 0.618; 0.618; 0.618; 0.618; 0.618; 0.618; 0.618; 0.618; 0.618; 0.618; 0.618; 0.618; 0.618; 0.618; 0.618; 0.618; 0.618; 0.618; 0.618; 0.618; 0.618; 0.618; 0.618; 0.618; 0.618; 0.618; 0.618; 0.618; 0.618; 0.618; 0.618; 0.618; 0.618; 0.618; 0.618; 0.618; 0.618; 0.618; 0.618; 0.618; 0.618; 0.618; "
     ]
    }
   ],
   "source": [
    "cfs = train_model([12, 16, 8, 4, 1], train_ind, train_dep, 100, 1)"
   ]
  },
  {
   "cell_type": "markdown",
   "id": "78917f3b-c8c1-4263-b85b-413bbb2f9b74",
   "metadata": {},
   "source": [
    "# Neural Net Results\n",
    "I got to the exact same accuracy I was able to get with just a simple neural net, which I guess means that my implementation is consistent but I still don't understand why it's underperforming relative to my linear regression model.\n",
    "\n",
    "# Ensembling\n",
    "The final topic covered in lesson 5 was the idea of enembling. Lets see if I can make my shitty models less shitty by combining them."
   ]
  },
  {
   "cell_type": "code",
   "execution_count": 129,
   "id": "bfa3563b-00bf-4acc-9818-4de4f5cac3f6",
   "metadata": {},
   "outputs": [],
   "source": [
    "def calc_ensemble_acc(models, val_ind, val_dep):\n",
    "    preds = []\n",
    "    for model in models:\n",
    "        preds.append(calc_preds(val_ind, model))\n",
    "    preds_tensor = torch.stack(preds).mean(dim=0)\n",
    "    pred_classes = (preds_tensor > 0.5).float()\n",
    "    accuracy = (pred_classes == val_dep).float().mean()\n",
    "    return accuracy\n",
    "\n",
    "def ensemble(num_models, model_depth):\n",
    "    models = []\n",
    "    for i in range(num_models):\n",
    "        random_list = [12] + [random.randint(12, model_depth*8) for _ in range(model_depth - 2)] + [1]\n",
    "        models.append(train_model([12, 16, 8, 4, 1], train_ind, train_dep, 10, 1))\n",
    "    acc = calc_ensemble_acc(models, val_ind, val_dep)\n",
    "    print(acc)"
   ]
  },
  {
   "cell_type": "code",
   "execution_count": 130,
   "id": "098f8e42-c91e-482f-ba08-170b14768436",
   "metadata": {},
   "outputs": [
    {
     "name": "stdout",
     "output_type": "stream",
     "text": [
      "0.382; 0.382; 0.382; 0.382; 0.382; 0.382; 0.382; 0.382; 0.382; 0.382; 0.382; 0.382; 0.382; 0.382; 0.382; 0.382; 0.382; 0.382; 0.382; 0.382; 0.382; 0.382; 0.382; 0.382; 0.382; 0.382; 0.382; 0.382; 0.382; 0.382; 0.382; 0.382; 0.382; 0.382; 0.382; 0.382; 0.382; 0.382; 0.382; 0.618; 0.618; 0.618; 0.618; 0.618; 0.618; 0.618; 0.618; 0.618; 0.618; 0.618; 0.618; 0.618; 0.618; 0.618; 0.618; 0.618; 0.618; 0.618; 0.618; 0.618; 0.618; 0.618; 0.618; 0.618; 0.618; 0.618; 0.618; 0.618; 0.618; 0.618; 0.618; 0.618; 0.618; 0.618; 0.618; 0.618; 0.618; 0.618; 0.618; 0.618; 0.618; 0.618; 0.618; 0.618; 0.618; 0.618; 0.618; 0.618; 0.618; 0.618; 0.618; 0.618; 0.618; 0.618; 0.618; 0.618; 0.618; 0.618; 0.618; 0.618; 0.382; 0.382; 0.382; 0.382; 0.382; 0.382; 0.382; 0.382; 0.382; 0.382; 0.382; 0.382; 0.382; 0.382; 0.382; 0.382; 0.382; 0.382; 0.382; 0.382; 0.382; 0.382; 0.382; 0.382; 0.382; 0.382; 0.382; 0.382; 0.382; 0.382; 0.382; 0.382; 0.382; 0.382; 0.382; 0.382; 0.382; 0.382; 0.382; 0.382; 0.382; 0.382; 0.382; 0.382; 0.382; 0.382; 0.382; 0.382; 0.382; 0.382; 0.382; 0.382; 0.382; 0.382; 0.382; 0.382; 0.382; 0.382; 0.382; 0.382; 0.382; 0.382; 0.382; 0.382; 0.382; 0.382; 0.382; 0.382; 0.382; 0.382; 0.382; 0.382; 0.382; 0.382; 0.382; 0.382; 0.382; 0.382; 0.382; 0.382; 0.382; 0.382; 0.382; 0.382; 0.382; 0.382; 0.382; 0.382; 0.382; 0.382; 0.382; 0.382; 0.382; 0.382; 0.382; 0.382; 0.382; 0.382; 0.382; 0.382; 0.382; 0.382; 0.382; 0.382; 0.382; 0.382; 0.382; 0.382; 0.382; 0.382; 0.382; 0.382; 0.382; 0.382; 0.382; 0.382; 0.382; 0.382; 0.382; 0.382; 0.382; 0.382; 0.382; 0.382; 0.382; 0.382; 0.382; 0.382; 0.382; 0.382; 0.382; 0.382; 0.382; 0.382; 0.382; 0.382; 0.382; 0.382; 0.382; 0.382; 0.382; 0.382; 0.382; 0.382; 0.382; 0.382; 0.382; 0.382; 0.382; 0.382; 0.382; 0.382; 0.382; 0.382; 0.382; 0.382; 0.382; 0.382; 0.382; 0.382; 0.382; 0.382; 0.382; 0.382; 0.382; 0.382; 0.382; 0.382; 0.382; 0.382; 0.382; 0.382; 0.382; 0.382; 0.382; 0.382; 0.382; 0.382; 0.382; 0.382; 0.382; 0.382; 0.382; 0.382; 0.382; 0.382; 0.382; 0.382; 0.382; 0.382; 0.382; 0.382; 0.618; 0.618; 0.618; 0.618; 0.618; 0.618; 0.618; 0.618; 0.382; 0.382; 0.382; 0.382; 0.382; 0.618; 0.618; 0.618; 0.618; 0.618; 0.618; 0.618; 0.618; 0.618; 0.618; 0.618; 0.618; 0.618; 0.618; 0.618; 0.618; 0.618; 0.618; 0.618; 0.618; 0.618; 0.618; 0.618; 0.618; 0.618; 0.618; 0.618; 0.618; 0.618; 0.618; 0.618; 0.618; 0.618; 0.618; 0.618; 0.618; 0.618; 0.618; 0.618; 0.618; 0.618; 0.618; 0.618; 0.618; 0.618; 0.618; 0.618; 0.618; 0.618; 0.618; 0.618; 0.618; 0.618; 0.618; 0.618; 0.618; 0.618; 0.618; 0.618; 0.618; 0.618; 0.618; 0.618; 0.618; 0.618; 0.618; 0.618; 0.618; 0.618; 0.618; 0.618; 0.618; 0.618; 0.618; 0.618; 0.618; 0.618; 0.618; 0.618; 0.618; 0.618; 0.618; 0.618; 0.618; 0.618; 0.618; 0.618; 0.618; 0.618; 0.618; 0.618; 0.618; 0.618; 0.618; 0.618; 0.382; 0.382; 0.382; 0.382; 0.382; 0.382; 0.382; 0.382; 0.382; 0.382; 0.382; 0.382; 0.382; 0.382; 0.382; 0.382; 0.382; 0.382; 0.382; 0.382; 0.382; 0.382; 0.382; 0.382; 0.382; 0.382; 0.382; 0.382; 0.382; 0.382; 0.382; 0.382; 0.382; 0.382; 0.382; 0.382; 0.382; 0.382; 0.382; 0.382; 0.382; 0.382; 0.382; 0.382; 0.382; 0.382; 0.382; 0.382; 0.382; 0.382; 0.382; 0.382; 0.382; 0.382; 0.382; 0.382; 0.382; 0.382; 0.382; 0.382; 0.382; 0.382; 0.382; 0.382; 0.382; 0.382; 0.382; 0.382; 0.382; 0.382; 0.382; 0.382; 0.382; 0.382; 0.382; 0.382; 0.382; 0.382; 0.382; 0.382; 0.382; 0.382; 0.382; 0.382; 0.382; 0.382; 0.382; 0.382; 0.382; 0.382; 0.618; 0.618; 0.618; 0.618; 0.618; 0.618; 0.618; 0.618; 0.618; 0.618; tensor(0.6180)\n"
     ]
    }
   ],
   "source": [
    "ensemble(5, 5)"
   ]
  },
  {
   "cell_type": "markdown",
   "id": "26fe41c9-1219-4b4f-8fbb-948745b1644a",
   "metadata": {},
   "source": [
    "# Ensembling Results\n",
    "Welp, I suck very consistently at least. Getting the exact same accuracy with an ensemble as I was will a deep network as I was with a neural net."
   ]
  },
  {
   "cell_type": "code",
   "execution_count": 162,
   "id": "93234c7e-a0a9-4ca7-a9bc-4925516e098a",
   "metadata": {},
   "outputs": [],
   "source": [
    "df = pd.read_csv(path/'train.csv')\n",
    "modes = df.mode().iloc[0]\n",
    "df.fillna(modes, inplace=True)\n",
    "df['LogFare'] = np.log(df['Fare']+1)\n",
    "df = pd.get_dummies(df, columns=[\"Sex\",\"Pclass\",\"Embarked\"])\n",
    "added_cols = ['Sex_male', 'Sex_female', 'Pclass_1', 'Pclass_2', 'Pclass_3', 'Embarked_C', 'Embarked_Q', 'Embarked_S']\n",
    "\n",
    "from torch import tensor\n",
    "t_dep = tensor(df.Survived)\n",
    "\n",
    "indep_cols = ['Age', 'SibSp', 'Parch', 'LogFare'] + added_cols\n",
    "\n",
    "# Convert boolean columns to float (or int, depending on your preference)\n",
    "for col in indep_cols:\n",
    "    if df[col].dtype == 'bool':\n",
    "        df[col] = df[col].astype(float)\n",
    "\n",
    "t_indep = tensor(df[indep_cols].values, dtype=torch.float)\n",
    "n_coeff = t_indep.shape[1]\n",
    "\n",
    "vals,indices = t_indep.max(dim=0)\n",
    "t_indep = t_indep / vals\n",
    "\n",
    "from fastai.data.transforms import RandomSplitter\n",
    "trn_split,val_split=RandomSplitter(seed=42)(df)\n",
    "trn_indep,val_indep = t_indep[trn_split],t_indep[val_split]\n",
    "trn_dep,val_dep = t_dep[trn_split],t_dep[val_split]\n",
    "\n",
    "trn_dep = trn_dep[:,None]\n",
    "val_dep = val_dep[:,None]"
   ]
  },
  {
   "cell_type": "code",
   "execution_count": 166,
   "id": "710f49cc-409b-4cd1-82bc-4b6211f516bb",
   "metadata": {},
   "outputs": [],
   "source": [
    "# Copied from Jeremy's notebook\n",
    "def init_coeffs():\n",
    "    hiddens = [10, 10]  # <-- set this to the size of each hidden layer you want\n",
    "    sizes = [n_coeff] + hiddens + [1]\n",
    "    n = len(sizes)\n",
    "    layers = [(torch.rand(sizes[i], sizes[i+1])-0.3)/sizes[i+1]*4 for i in range(n-1)]\n",
    "    consts = [(torch.rand(1)[0]-0.5)*0.1 for i in range(n-1)]\n",
    "    for l in layers+consts: l.requires_grad_()\n",
    "    return layers,consts\n",
    "\n",
    "def calc_preds(coeffs, indeps):\n",
    "    layers,consts = coeffs\n",
    "    n = len(layers)\n",
    "    res = indeps\n",
    "    for i,l in enumerate(layers):\n",
    "        res = res@l + consts[i]\n",
    "        if i!=n-1: res = F.relu(res)\n",
    "    return torch.sigmoid(res)\n",
    "\n",
    "def update_coeffs(coeffs, lr):\n",
    "    layers,consts = coeffs\n",
    "    for layer in layers+consts:\n",
    "        layer.sub_(layer.grad * lr)\n",
    "        layer.grad.zero_()\n",
    "\n",
    "def calc_loss(coeffs, indeps, deps): return torch.abs(calc_preds(coeffs, indeps)-deps).mean()\n",
    "\n",
    "def one_epoch(coeffs, lr):\n",
    "    loss = calc_loss(coeffs, trn_indep, trn_dep)\n",
    "    loss.backward()\n",
    "    with torch.no_grad(): update_coeffs(coeffs, lr)\n",
    "    print(f\"{loss:.3f}\", end=\"; \")\n",
    "\n",
    "def train_model(epochs=100, lr=0.01):\n",
    "    torch.manual_seed(442)\n",
    "    coeffs = init_coeffs()\n",
    "    for i in range(epochs): one_epoch(coeffs, lr=lr)\n",
    "    return coeffs"
   ]
  },
  {
   "cell_type": "code",
   "execution_count": 167,
   "id": "8ba85273-c336-4102-b7fd-a8952c519a0d",
   "metadata": {},
   "outputs": [
    {
     "name": "stdout",
     "output_type": "stream",
     "text": [
      "0.521; 0.483; 0.427; 0.379; 0.379; 0.379; 0.379; 0.378; 0.378; 0.378; 0.378; 0.378; 0.378; 0.378; 0.378; 0.378; 0.377; 0.376; 0.371; 0.333; 0.239; 0.224; 0.208; 0.204; 0.203; 0.203; 0.207; 0.197; 0.196; 0.195; 0.195; 0.194; 0.194; 0.194; 0.194; 0.194; 0.194; 0.194; 0.193; 0.193; 0.193; 0.193; 0.193; 0.193; 0.193; 0.193; 0.193; 0.193; 0.193; 0.193; 0.193; 0.193; 0.193; 0.193; 0.193; 0.193; 0.193; 0.193; 0.193; 0.193; 0.193; 0.193; 0.193; 0.193; 0.193; 0.193; 0.193; 0.193; 0.193; 0.193; 0.193; 0.193; 0.193; 0.193; 0.193; 0.192; 0.192; 0.192; 0.192; 0.192; 0.192; 0.192; 0.192; 0.192; 0.192; 0.192; 0.192; 0.192; 0.192; 0.192; 0.192; 0.192; 0.192; 0.192; 0.192; 0.192; 0.192; 0.192; 0.192; 0.192; "
     ]
    }
   ],
   "source": [
    "coeffs = train_model(lr=4)"
   ]
  },
  {
   "cell_type": "code",
   "execution_count": 168,
   "id": "532588ed-0b85-4aa9-a8e3-16276eb88509",
   "metadata": {},
   "outputs": [
    {
     "data": {
      "text/plain": [
       "tensor(0.5449)"
      ]
     },
     "execution_count": 168,
     "metadata": {},
     "output_type": "execute_result"
    }
   ],
   "source": [
    "acc(coeffs)"
   ]
  },
  {
   "cell_type": "markdown",
   "id": "9a5838a9-b0cb-42be-8218-284a32682b5e",
   "metadata": {},
   "source": [
    "# Confusion\n",
    "Ok so now I'm really confused. I've even processed the data exactly how Jeremy did in his notebook and have implemented the model the exact same way and I'm still not getting the same reuslt. Am I using different data??"
   ]
  },
  {
   "cell_type": "markdown",
   "id": "4f828960-d7ad-4ebf-9795-b2b85777fb58",
   "metadata": {},
   "source": [
    "# Using a Framework\n",
    "No lets see how easy this is to do with a framework."
   ]
  },
  {
   "cell_type": "code",
   "execution_count": 182,
   "id": "bb41243b-bbe3-4db8-90c4-56fc6f900996",
   "metadata": {},
   "outputs": [
    {
     "name": "stdout",
     "output_type": "stream",
     "text": [
      "titanic.zip: Skipping, found more recently modified local copy (use --force to force download)\n"
     ]
    }
   ],
   "source": [
    "from fastai.tabular.all import *\n",
    "path = Path('titanic')\n",
    "if not path.exists():\n",
    "    import zipfile,kaggle\n",
    "    kaggle.api.competition_download_cli(str(path))\n",
    "    zipfile.ZipFile(f'{path}.zip').extractall(path)\n",
    "\n",
    "df = pd.read_csv(path/'train.csv')"
   ]
  },
  {
   "cell_type": "code",
   "execution_count": 189,
   "id": "ddfa95b0-ab94-466b-8080-fb08d8e05694",
   "metadata": {},
   "outputs": [],
   "source": [
    "def add_features(df):\n",
    "    df['LogFare'] = np.log1p(df['Fare'])\n",
    "    df['Deck'] = df.Cabin.str[0].map(dict(A=\"ABC\", B=\"ABC\", C=\"ABC\", D=\"DE\", E=\"DE\", F=\"FG\", G=\"FG\"))\n",
    "    df['Family'] = df.SibSp+df.Parch\n",
    "    df['Alone'] = df.Family==0\n",
    "    df['TicketFreq'] = df.groupby('Ticket')['Ticket'].transform('count')\n",
    "    df['Title'] = df.Name.str.split(', ', expand=True)[1].str.split('.', expand=True)[0]\n",
    "    df['Title'] = df.Title.map(dict(Mr=\"Mr\",Miss=\"Miss\",Mrs=\"Mrs\",Master=\"Master\"))"
   ]
  },
  {
   "cell_type": "code",
   "execution_count": 203,
   "id": "d8e02533-1221-4edf-9f8f-35b728fdcacd",
   "metadata": {},
   "outputs": [
    {
     "name": "stderr",
     "output_type": "stream",
     "text": [
      "/usr/local/lib/python3.11/dist-packages/fastai/tabular/core.py:312: FutureWarning: A value is trying to be set on a copy of a DataFrame or Series through chained assignment using an inplace method.\n",
      "The behavior will change in pandas 3.0. This inplace method will never work because the intermediate object on which we are setting values always behaves as a copy.\n",
      "\n",
      "For example, when doing 'df[col].method(value, inplace=True)', try using 'df.method({col: value}, inplace=True)' or df[col] = df[col].method(value) instead, to perform the operation inplace on the original object.\n",
      "\n",
      "\n",
      "  to[n].fillna(self.na_dict[n], inplace=True)\n"
     ]
    },
    {
     "data": {
      "text/html": [
       "\n",
       "<style>\n",
       "    /* Turns off some styling */\n",
       "    progress {\n",
       "        /* gets rid of default border in Firefox and Opera. */\n",
       "        border: none;\n",
       "        /* Needs to be in here for Safari polyfill so background images work as expected. */\n",
       "        background-size: auto;\n",
       "    }\n",
       "    progress:not([value]), progress:not([value])::-webkit-progress-bar {\n",
       "        background: repeating-linear-gradient(45deg, #7e7e7e, #7e7e7e 10px, #5c5c5c 10px, #5c5c5c 20px);\n",
       "    }\n",
       "    .progress-bar-interrupted, .progress-bar-interrupted::-webkit-progress-bar {\n",
       "        background: #F44336;\n",
       "    }\n",
       "</style>\n"
      ],
      "text/plain": [
       "<IPython.core.display.HTML object>"
      ]
     },
     "metadata": {},
     "output_type": "display_data"
    },
    {
     "data": {
      "text/html": [],
      "text/plain": [
       "<IPython.core.display.HTML object>"
      ]
     },
     "metadata": {},
     "output_type": "display_data"
    },
    {
     "data": {
      "text/plain": [
       "SuggestedLRs(slide=0.02290867641568184, valley=0.0020892962347716093)"
      ]
     },
     "execution_count": 203,
     "metadata": {},
     "output_type": "execute_result"
    },
    {
     "data": {
      "image/png": "[encoded data removed]",
      "text/plain": [
       "<Figure size 640x480 with 1 Axes>"
      ]
     },
     "metadata": {},
     "output_type": "display_data"
    }
   ],
   "source": [
    "splits = RandomSplitter(valid_pct=0.2)(range_of(df))\n",
    "add_features(df)\n",
    "procs = [Categorify, FillMissing, Normalize]\n",
    "cat_vars = ['Sex', 'Embarked', 'Pclass', 'Deck', 'Title']\n",
    "cont_vars = ['Age', 'SibSp', 'Parch', 'LogFare', 'Family', 'TicketFreq', 'Alone']\n",
    "dep_var = 'Survived'\n",
    "to = TabularPandas(df, procs, cat_vars, cont_vars, y_names=dep_var, splits=splits, y_block = CategoryBlock())\n",
    "dls = to.dataloaders(bs=64)\n",
    "learn = tabular_learner(dls, metrics=accuracy, layers=[200,100])\n",
    "learn.lr_find(suggest_funcs=(slide, valley))"
   ]
  },
  {
   "cell_type": "code",
   "execution_count": 204,
   "id": "c769a243-d51c-470f-9cec-81044bd2190b",
   "metadata": {},
   "outputs": [
    {
     "data": {
      "text/html": [
       "\n",
       "<style>\n",
       "    /* Turns off some styling */\n",
       "    progress {\n",
       "        /* gets rid of default border in Firefox and Opera. */\n",
       "        border: none;\n",
       "        /* Needs to be in here for Safari polyfill so background images work as expected. */\n",
       "        background-size: auto;\n",
       "    }\n",
       "    progress:not([value]), progress:not([value])::-webkit-progress-bar {\n",
       "        background: repeating-linear-gradient(45deg, #7e7e7e, #7e7e7e 10px, #5c5c5c 10px, #5c5c5c 20px);\n",
       "    }\n",
       "    .progress-bar-interrupted, .progress-bar-interrupted::-webkit-progress-bar {\n",
       "        background: #F44336;\n",
       "    }\n",
       "</style>\n"
      ],
      "text/plain": [
       "<IPython.core.display.HTML object>"
      ]
     },
     "metadata": {},
     "output_type": "display_data"
    },
    {
     "data": {
      "text/html": [
       "<table border=\"1\" class=\"dataframe\">\n",
       "  <thead>\n",
       "    <tr style=\"text-align: left;\">\n",
       "      <th>epoch</th>\n",
       "      <th>train_loss</th>\n",
       "      <th>valid_loss</th>\n",
       "      <th>accuracy</th>\n",
       "      <th>time</th>\n",
       "    </tr>\n",
       "  </thead>\n",
       "  <tbody>\n",
       "    <tr>\n",
       "      <td>0</td>\n",
       "      <td>0.661891</td>\n",
       "      <td>0.668956</td>\n",
       "      <td>0.578652</td>\n",
       "      <td>00:00</td>\n",
       "    </tr>\n",
       "    <tr>\n",
       "      <td>1</td>\n",
       "      <td>0.626408</td>\n",
       "      <td>0.592311</td>\n",
       "      <td>0.724719</td>\n",
       "      <td>00:00</td>\n",
       "    </tr>\n",
       "    <tr>\n",
       "      <td>2</td>\n",
       "      <td>0.583618</td>\n",
       "      <td>0.516101</td>\n",
       "      <td>0.769663</td>\n",
       "      <td>00:00</td>\n",
       "    </tr>\n",
       "    <tr>\n",
       "      <td>3</td>\n",
       "      <td>0.535895</td>\n",
       "      <td>0.414342</td>\n",
       "      <td>0.814607</td>\n",
       "      <td>00:00</td>\n",
       "    </tr>\n",
       "    <tr>\n",
       "      <td>4</td>\n",
       "      <td>0.496229</td>\n",
       "      <td>0.461359</td>\n",
       "      <td>0.769663</td>\n",
       "      <td>00:00</td>\n",
       "    </tr>\n",
       "    <tr>\n",
       "      <td>5</td>\n",
       "      <td>0.473085</td>\n",
       "      <td>0.434680</td>\n",
       "      <td>0.792135</td>\n",
       "      <td>00:00</td>\n",
       "    </tr>\n",
       "    <tr>\n",
       "      <td>6</td>\n",
       "      <td>0.448981</td>\n",
       "      <td>0.421928</td>\n",
       "      <td>0.808989</td>\n",
       "      <td>00:00</td>\n",
       "    </tr>\n",
       "    <tr>\n",
       "      <td>7</td>\n",
       "      <td>0.433797</td>\n",
       "      <td>0.484085</td>\n",
       "      <td>0.808989</td>\n",
       "      <td>00:00</td>\n",
       "    </tr>\n",
       "    <tr>\n",
       "      <td>8</td>\n",
       "      <td>0.419868</td>\n",
       "      <td>0.435327</td>\n",
       "      <td>0.820225</td>\n",
       "      <td>00:00</td>\n",
       "    </tr>\n",
       "    <tr>\n",
       "      <td>9</td>\n",
       "      <td>0.405962</td>\n",
       "      <td>0.415005</td>\n",
       "      <td>0.814607</td>\n",
       "      <td>00:00</td>\n",
       "    </tr>\n",
       "    <tr>\n",
       "      <td>10</td>\n",
       "      <td>0.397872</td>\n",
       "      <td>0.409659</td>\n",
       "      <td>0.820225</td>\n",
       "      <td>00:00</td>\n",
       "    </tr>\n",
       "    <tr>\n",
       "      <td>11</td>\n",
       "      <td>0.386989</td>\n",
       "      <td>0.439381</td>\n",
       "      <td>0.808989</td>\n",
       "      <td>00:00</td>\n",
       "    </tr>\n",
       "    <tr>\n",
       "      <td>12</td>\n",
       "      <td>0.378049</td>\n",
       "      <td>0.443613</td>\n",
       "      <td>0.814607</td>\n",
       "      <td>00:00</td>\n",
       "    </tr>\n",
       "    <tr>\n",
       "      <td>13</td>\n",
       "      <td>0.364681</td>\n",
       "      <td>0.444555</td>\n",
       "      <td>0.803371</td>\n",
       "      <td>00:00</td>\n",
       "    </tr>\n",
       "    <tr>\n",
       "      <td>14</td>\n",
       "      <td>0.354046</td>\n",
       "      <td>0.445090</td>\n",
       "      <td>0.792135</td>\n",
       "      <td>00:00</td>\n",
       "    </tr>\n",
       "    <tr>\n",
       "      <td>15</td>\n",
       "      <td>0.341730</td>\n",
       "      <td>0.448724</td>\n",
       "      <td>0.825843</td>\n",
       "      <td>00:00</td>\n",
       "    </tr>\n",
       "    <tr>\n",
       "      <td>16</td>\n",
       "      <td>0.332322</td>\n",
       "      <td>0.449685</td>\n",
       "      <td>0.814607</td>\n",
       "      <td>00:00</td>\n",
       "    </tr>\n",
       "    <tr>\n",
       "      <td>17</td>\n",
       "      <td>0.323584</td>\n",
       "      <td>0.443023</td>\n",
       "      <td>0.814607</td>\n",
       "      <td>00:00</td>\n",
       "    </tr>\n",
       "    <tr>\n",
       "      <td>18</td>\n",
       "      <td>0.314535</td>\n",
       "      <td>0.442751</td>\n",
       "      <td>0.814607</td>\n",
       "      <td>00:00</td>\n",
       "    </tr>\n",
       "    <tr>\n",
       "      <td>19</td>\n",
       "      <td>0.310449</td>\n",
       "      <td>0.443628</td>\n",
       "      <td>0.814607</td>\n",
       "      <td>00:00</td>\n",
       "    </tr>\n",
       "  </tbody>\n",
       "</table>"
      ],
      "text/plain": [
       "<IPython.core.display.HTML object>"
      ]
     },
     "metadata": {},
     "output_type": "display_data"
    }
   ],
   "source": [
    "lr = 0.01\n",
    "# Fit the model (the number of epochs and learning rate should be chosen based on your specific needs and the lr_find results)\n",
    "learn.fit_one_cycle(20, lr)"
   ]
  },
  {
   "cell_type": "markdown",
   "id": "e19895d8-6e28-4407-947d-56b1353d181b",
   "metadata": {},
   "source": [
    "# Framework Results\n",
    "Implementing with a framework took like 3 minutes but it still got the same shit result. The only thing that improved the result was adding the feature engineering step that Jeremy did in the video which I did not do on my own since I didn't take good enough notes on it."
   ]
  },
  {
   "cell_type": "markdown",
   "id": "94b5c945-8e14-4b0e-872b-400b4b0eb584",
   "metadata": {},
   "source": [
    "# Framework Ensemble"
   ]
  },
  {
   "cell_type": "code",
   "execution_count": null,
   "id": "134acb6e-f01f-4e82-924f-5e082eb2d963",
   "metadata": {},
   "outputs": [],
   "source": []
  }
 ],
 "metadata": {
  "kernelspec": {
   "display_name": "Python 3 (ipykernel)",
   "language": "python",
   "name": "python3"
  },
  "language_info": {
   "codemirror_mode": {
    "name": "ipython",
    "version": 3
   },
   "file_extension": ".py",
   "mimetype": "text/x-python",
   "name": "python",
   "nbconvert_exporter": "python",
   "pygments_lexer": "ipython3",
   "version": "3.11.0rc1"
  }
 },
 "nbformat": 4,
 "nbformat_minor": 5
}
