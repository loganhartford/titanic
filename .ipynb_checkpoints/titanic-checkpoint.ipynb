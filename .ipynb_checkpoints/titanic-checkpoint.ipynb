{
 "cells": [
  {
   "cell_type": "markdown",
   "id": "33a1383f-6b44-4748-a772-49f47913a179",
   "metadata": {},
   "source": [
    "# Titanic Dataset\n",
    "The goal of this notebook is going to be to solve the titanic data set using somenew tools I learned about in fastai lesson 5.\n",
    "\n",
    "## Linear Regression\n",
    "First, I'm going to create a linear regression model and try and use PyTorch to make the process as clean as possible. I'll leave comments in places where I did things one way but decided to do them another way after looking back on my ref notebook from the course."
   ]
  },
  {
   "cell_type": "code",
   "execution_count": 1,
   "id": "18f6e24a-9323-4d5a-b9d3-6daa24675d73",
   "metadata": {},
   "outputs": [],
   "source": [
    "# Install stuff\n",
    "#hide\n",
    "!pip install -Uqq fastbook\n",
    "import fastbook\n",
    "fastbook.setup_book()\n",
    "\n",
    "#hide\n",
    "from fastai.vision.all import *\n",
    "from fastbook import *"
   ]
  },
  {
   "cell_type": "code",
   "execution_count": 2,
   "id": "7eaa0f9f-b697-476c-80bd-4d7619066f71",
   "metadata": {},
   "outputs": [
    {
     "name": "stdout",
     "output_type": "stream",
     "text": [
      "Collecting kaggle\n",
      "  Downloading kaggle-1.6.5.tar.gz (84 kB)\n",
      "\u001b[2K     \u001b[90m━━━━━━━━━━━━━━━━━━━━━━━━━━━━━━━━━━━━━━━━\u001b[0m \u001b[32m84.5/84.5 kB\u001b[0m \u001b[31m2.8 MB/s\u001b[0m eta \u001b[36m0:00:00\u001b[0m\n",
      "\u001b[?25h  Preparing metadata (setup.py) ... \u001b[?25ldone\n",
      "\u001b[?25hRequirement already satisfied: six>=1.10 in /usr/lib/python3/dist-packages (from kaggle) (1.16.0)\n",
      "Requirement already satisfied: certifi in /usr/local/lib/python3.11/dist-packages (from kaggle) (2023.11.17)\n",
      "Requirement already satisfied: python-dateutil in /usr/local/lib/python3.11/dist-packages (from kaggle) (2.8.2)\n",
      "Requirement already satisfied: requests in /usr/local/lib/python3.11/dist-packages (from kaggle) (2.31.0)\n",
      "Requirement already satisfied: tqdm in /usr/local/lib/python3.11/dist-packages (from kaggle) (4.66.2)\n",
      "Collecting python-slugify (from kaggle)\n",
      "  Downloading python_slugify-8.0.4-py2.py3-none-any.whl.metadata (8.5 kB)\n",
      "Requirement already satisfied: urllib3 in /usr/local/lib/python3.11/dist-packages (from kaggle) (2.1.0)\n",
      "Requirement already satisfied: bleach in /usr/local/lib/python3.11/dist-packages (from kaggle) (6.1.0)\n",
      "Requirement already satisfied: webencodings in /usr/local/lib/python3.11/dist-packages (from bleach->kaggle) (0.5.1)\n",
      "Collecting text-unidecode>=1.3 (from python-slugify->kaggle)\n",
      "  Downloading text_unidecode-1.3-py2.py3-none-any.whl (78 kB)\n",
      "\u001b[2K     \u001b[90m━━━━━━━━━━━━━━━━━━━━━━━━━━━━━━━━━━━━━━━━\u001b[0m \u001b[32m78.2/78.2 kB\u001b[0m \u001b[31m7.0 MB/s\u001b[0m eta \u001b[36m0:00:00\u001b[0m\n",
      "\u001b[?25hRequirement already satisfied: charset-normalizer<4,>=2 in /usr/local/lib/python3.11/dist-packages (from requests->kaggle) (3.3.2)\n",
      "Requirement already satisfied: idna<4,>=2.5 in /usr/local/lib/python3.11/dist-packages (from requests->kaggle) (3.6)\n",
      "Downloading python_slugify-8.0.4-py2.py3-none-any.whl (10 kB)\n",
      "Building wheels for collected packages: kaggle\n",
      "  Building wheel for kaggle (setup.py) ... \u001b[?25ldone\n",
      "\u001b[?25h  Created wheel for kaggle: filename=kaggle-1.6.5-py3-none-any.whl size=111932 sha256=ceb7912553e35b7c2009449d498c54b158632afa8191a5691ae306a8a016a1b3\n",
      "  Stored in directory: /root/.cache/pip/wheels/f9/e6/2d/7fd3baa2ea8663ec6f6a713e1623cd265f2f3173a1050504af\n",
      "Successfully built kaggle\n",
      "Installing collected packages: text-unidecode, python-slugify, kaggle\n",
      "Successfully installed kaggle-1.6.5 python-slugify-8.0.4 text-unidecode-1.3\n",
      "\u001b[33mWARNING: Running pip as the 'root' user can result in broken permissions and conflicting behaviour with the system package manager. It is recommended to use a virtual environment instead: https://pip.pypa.io/warnings/venv\u001b[0m\u001b[33m\n",
      "\u001b[0m"
     ]
    }
   ],
   "source": [
    "# Download the data from kaggle\n",
    "#hide\n",
    "!pip install kaggle"
   ]
  },
  {
   "cell_type": "code",
   "execution_count": 3,
   "id": "54d829c2-bb61-405f-a269-302e635488b6",
   "metadata": {},
   "outputs": [
    {
     "name": "stdout",
     "output_type": "stream",
     "text": [
      "Downloading titanic.zip to /tf/notebooks\n"
     ]
    },
    {
     "name": "stderr",
     "output_type": "stream",
     "text": [
      "100%|█████████████████████████████████████████████████████████████████████████████████████| 34.1k/34.1k [00:00<00:00, 1.68MB/s]"
     ]
    },
    {
     "name": "stdout",
     "output_type": "stream",
     "text": [
      "\n"
     ]
    },
    {
     "name": "stderr",
     "output_type": "stream",
     "text": [
      "\n"
     ]
    }
   ],
   "source": [
    "# Please don't steal my stuff\n",
    "import os\n",
    "os.environ['KAGGLE_USERNAME'] = 'loganhartford'\n",
    "os.environ['KAGGLE_KEY'] = 'f1183222da4b8b714c2a329ef0734586'\n",
    "\n",
    "path = Path('titanic')\n",
    "if not path.exists():\n",
    "    import zipfile,kaggle\n",
    "    kaggle.api.competition_download_cli(str(path))\n",
    "    zipfile.ZipFile(f'{path}.zip').extractall(path)"
   ]
  },
  {
   "cell_type": "code",
   "execution_count": 31,
   "id": "440a9b7b-3d06-4642-8d70-07db2934d3c8",
   "metadata": {},
   "outputs": [],
   "source": [
    "import pandas as pd\n",
    "train_df = pd.read_csv(\"titanic/train.csv\")\n",
    "test_df = pd.read_csv(\"titanic/test.csv\")"
   ]
  },
  {
   "cell_type": "code",
   "execution_count": 32,
   "id": "2fc7636d-aabd-44e9-b472-b7bf3cb5003f",
   "metadata": {},
   "outputs": [
    {
     "name": "stdout",
     "output_type": "stream",
     "text": [
      "<class 'pandas.core.frame.DataFrame'>\n",
      "RangeIndex: 891 entries, 0 to 890\n",
      "Data columns (total 12 columns):\n",
      " #   Column       Non-Null Count  Dtype  \n",
      "---  ------       --------------  -----  \n",
      " 0   PassengerId  891 non-null    int64  \n",
      " 1   Survived     891 non-null    int64  \n",
      " 2   Pclass       891 non-null    int64  \n",
      " 3   Name         891 non-null    object \n",
      " 4   Sex          891 non-null    object \n",
      " 5   Age          714 non-null    float64\n",
      " 6   SibSp        891 non-null    int64  \n",
      " 7   Parch        891 non-null    int64  \n",
      " 8   Ticket       891 non-null    object \n",
      " 9   Fare         891 non-null    float64\n",
      " 10  Cabin        204 non-null    object \n",
      " 11  Embarked     889 non-null    object \n",
      "dtypes: float64(2), int64(5), object(5)\n",
      "memory usage: 83.7+ KB\n"
     ]
    }
   ],
   "source": [
    "train_df.info()"
   ]
  },
  {
   "cell_type": "markdown",
   "id": "cdf9a5c8-2e4f-4097-8fd7-ad80e748996c",
   "metadata": {},
   "source": [
    "# Cleaning the data\n",
    "I know from working with this data before that there are some NAN values that we'll have to deal with and we'll also have to normalize the data to be able to get a good result.\n",
    "\n",
    "Going to replace the NAN values with the mode in each column since this is what Jeremy recommends."
   ]
  },
  {
   "cell_type": "code",
   "execution_count": 33,
   "id": "af66c719-7c6a-42e7-8b6c-45e836f8d03d",
   "metadata": {},
   "outputs": [
    {
     "data": {
      "text/plain": [
       "PassengerId      0\n",
       "Survived         0\n",
       "Pclass           0\n",
       "Name             0\n",
       "Sex              0\n",
       "Age            177\n",
       "SibSp            0\n",
       "Parch            0\n",
       "Ticket           0\n",
       "Fare             0\n",
       "Cabin          687\n",
       "Embarked         2\n",
       "dtype: int64"
      ]
     },
     "execution_count": 33,
     "metadata": {},
     "output_type": "execute_result"
    }
   ],
   "source": [
    "train_df.isna().sum()"
   ]
  },
  {
   "cell_type": "code",
   "execution_count": 34,
   "id": "94177ae3-757a-4925-b46d-c8c9877fcfa7",
   "metadata": {},
   "outputs": [
    {
     "name": "stdout",
     "output_type": "stream",
     "text": [
      "<class 'pandas.core.frame.DataFrame'>\n",
      "RangeIndex: 891 entries, 0 to 890\n",
      "Data columns (total 12 columns):\n",
      " #   Column       Non-Null Count  Dtype  \n",
      "---  ------       --------------  -----  \n",
      " 0   PassengerId  891 non-null    int64  \n",
      " 1   Survived     891 non-null    int64  \n",
      " 2   Pclass       891 non-null    int64  \n",
      " 3   Name         891 non-null    object \n",
      " 4   Sex          891 non-null    object \n",
      " 5   Age          891 non-null    float64\n",
      " 6   SibSp        891 non-null    int64  \n",
      " 7   Parch        891 non-null    int64  \n",
      " 8   Ticket       891 non-null    object \n",
      " 9   Fare         891 non-null    float64\n",
      " 10  Cabin        891 non-null    object \n",
      " 11  Embarked     891 non-null    object \n",
      "dtypes: float64(2), int64(5), object(5)\n",
      "memory usage: 83.7+ KB\n"
     ]
    }
   ],
   "source": [
    "# Find the mode of each column\n",
    "modes = train_df.mode().iloc[0]\n",
    "# Replace NaN values with the mode of each column\n",
    "train_df = train_df.fillna(modes)\n",
    "train_df.info()"
   ]
  },
  {
   "cell_type": "code",
   "execution_count": 35,
   "id": "e8a32daa-9532-46f0-b6dc-cb5ed3fb5abd",
   "metadata": {},
   "outputs": [
    {
     "data": {
      "text/html": [
       "<div>\n",
       "<style scoped>\n",
       "    .dataframe tbody tr th:only-of-type {\n",
       "        vertical-align: middle;\n",
       "    }\n",
       "\n",
       "    .dataframe tbody tr th {\n",
       "        vertical-align: top;\n",
       "    }\n",
       "\n",
       "    .dataframe thead th {\n",
       "        text-align: right;\n",
       "    }\n",
       "</style>\n",
       "<table border=\"1\" class=\"dataframe\">\n",
       "  <thead>\n",
       "    <tr style=\"text-align: right;\">\n",
       "      <th></th>\n",
       "      <th>PassengerId</th>\n",
       "      <th>Survived</th>\n",
       "      <th>Pclass</th>\n",
       "      <th>Age</th>\n",
       "      <th>SibSp</th>\n",
       "      <th>Parch</th>\n",
       "      <th>Fare</th>\n",
       "    </tr>\n",
       "  </thead>\n",
       "  <tbody>\n",
       "    <tr>\n",
       "      <th>count</th>\n",
       "      <td>891.000000</td>\n",
       "      <td>891.000000</td>\n",
       "      <td>891.000000</td>\n",
       "      <td>891.000000</td>\n",
       "      <td>891.000000</td>\n",
       "      <td>891.000000</td>\n",
       "      <td>891.000000</td>\n",
       "    </tr>\n",
       "    <tr>\n",
       "      <th>mean</th>\n",
       "      <td>446.000000</td>\n",
       "      <td>0.383838</td>\n",
       "      <td>2.308642</td>\n",
       "      <td>28.566970</td>\n",
       "      <td>0.523008</td>\n",
       "      <td>0.381594</td>\n",
       "      <td>32.204208</td>\n",
       "    </tr>\n",
       "    <tr>\n",
       "      <th>std</th>\n",
       "      <td>257.353842</td>\n",
       "      <td>0.486592</td>\n",
       "      <td>0.836071</td>\n",
       "      <td>13.199572</td>\n",
       "      <td>1.102743</td>\n",
       "      <td>0.806057</td>\n",
       "      <td>49.693429</td>\n",
       "    </tr>\n",
       "    <tr>\n",
       "      <th>min</th>\n",
       "      <td>1.000000</td>\n",
       "      <td>0.000000</td>\n",
       "      <td>1.000000</td>\n",
       "      <td>0.420000</td>\n",
       "      <td>0.000000</td>\n",
       "      <td>0.000000</td>\n",
       "      <td>0.000000</td>\n",
       "    </tr>\n",
       "    <tr>\n",
       "      <th>25%</th>\n",
       "      <td>223.500000</td>\n",
       "      <td>0.000000</td>\n",
       "      <td>2.000000</td>\n",
       "      <td>22.000000</td>\n",
       "      <td>0.000000</td>\n",
       "      <td>0.000000</td>\n",
       "      <td>7.910400</td>\n",
       "    </tr>\n",
       "    <tr>\n",
       "      <th>50%</th>\n",
       "      <td>446.000000</td>\n",
       "      <td>0.000000</td>\n",
       "      <td>3.000000</td>\n",
       "      <td>24.000000</td>\n",
       "      <td>0.000000</td>\n",
       "      <td>0.000000</td>\n",
       "      <td>14.454200</td>\n",
       "    </tr>\n",
       "    <tr>\n",
       "      <th>75%</th>\n",
       "      <td>668.500000</td>\n",
       "      <td>1.000000</td>\n",
       "      <td>3.000000</td>\n",
       "      <td>35.000000</td>\n",
       "      <td>1.000000</td>\n",
       "      <td>0.000000</td>\n",
       "      <td>31.000000</td>\n",
       "    </tr>\n",
       "    <tr>\n",
       "      <th>max</th>\n",
       "      <td>891.000000</td>\n",
       "      <td>1.000000</td>\n",
       "      <td>3.000000</td>\n",
       "      <td>80.000000</td>\n",
       "      <td>8.000000</td>\n",
       "      <td>6.000000</td>\n",
       "      <td>512.329200</td>\n",
       "    </tr>\n",
       "  </tbody>\n",
       "</table>\n",
       "</div>"
      ],
      "text/plain": [
       "       PassengerId    Survived      Pclass         Age       SibSp  \\\n",
       "count   891.000000  891.000000  891.000000  891.000000  891.000000   \n",
       "mean    446.000000    0.383838    2.308642   28.566970    0.523008   \n",
       "std     257.353842    0.486592    0.836071   13.199572    1.102743   \n",
       "min       1.000000    0.000000    1.000000    0.420000    0.000000   \n",
       "25%     223.500000    0.000000    2.000000   22.000000    0.000000   \n",
       "50%     446.000000    0.000000    3.000000   24.000000    0.000000   \n",
       "75%     668.500000    1.000000    3.000000   35.000000    1.000000   \n",
       "max     891.000000    1.000000    3.000000   80.000000    8.000000   \n",
       "\n",
       "            Parch        Fare  \n",
       "count  891.000000  891.000000  \n",
       "mean     0.381594   32.204208  \n",
       "std      0.806057   49.693429  \n",
       "min      0.000000    0.000000  \n",
       "25%      0.000000    7.910400  \n",
       "50%      0.000000   14.454200  \n",
       "75%      0.000000   31.000000  \n",
       "max      6.000000  512.329200  "
      ]
     },
     "execution_count": 35,
     "metadata": {},
     "output_type": "execute_result"
    }
   ],
   "source": [
    "train_df.describe(include=(np.number))"
   ]
  },
  {
   "cell_type": "code",
   "execution_count": 36,
   "id": "167d07be-74ec-4c4d-a121-a73688f26186",
   "metadata": {},
   "outputs": [
    {
     "data": {
      "text/plain": [
       "array([[<Axes: title={'center': 'PassengerId'}>, <Axes: title={'center': 'Survived'}>, <Axes: title={'center': 'Pclass'}>],\n",
       "       [<Axes: title={'center': 'Age'}>, <Axes: title={'center': 'SibSp'}>, <Axes: title={'center': 'Parch'}>],\n",
       "       [<Axes: title={'center': 'Fare'}>, <Axes: >, <Axes: >]], dtype=object)"
      ]
     },
     "execution_count": 36,
     "metadata": {},
     "output_type": "execute_result"
    },
    {
     "data": {
      "image/png": "[encoded data removed]",
      "text/plain": [
       "<Figure size 640x480 with 9 Axes>"
      ]
     },
     "metadata": {},
     "output_type": "display_data"
    }
   ],
   "source": [
    "train_df.hist()"
   ]
  },
  {
   "cell_type": "markdown",
   "id": "33267533-b404-4f48-af9b-f34bf8f561ab",
   "metadata": {},
   "source": [
    "## Data Distribution\n",
    "\n",
    "We will need to fix the distribution of the fare data since linear regression models don't like long tain data."
   ]
  },
  {
   "cell_type": "code",
   "execution_count": 37,
   "id": "3e804606-0a0e-4d5b-b1b6-e4bd28acd93a",
   "metadata": {},
   "outputs": [
    {
     "data": {
      "text/plain": [
       "<Axes: >"
      ]
     },
     "execution_count": 37,
     "metadata": {},
     "output_type": "execute_result"
    },
    {
     "data": {
      "image/png": "[encoded data removed]",
      "text/plain": [
       "<Figure size 640x480 with 1 Axes>"
      ]
     },
     "metadata": {},
     "output_type": "display_data"
    }
   ],
   "source": [
    "train_df[\"LogFare\"] = np.log(train_df[\"Fare\"] + 1)\n",
    "train_df[\"LogFare\"].hist()\n",
    "# Now we have a more centered distribution"
   ]
  },
  {
   "cell_type": "markdown",
   "id": "b55a7322-14e6-46f8-b81f-5db47697b83f",
   "metadata": {},
   "source": [
    "## Categorical Data\n",
    "Going to use pd.get_dummies to turn our categorical data into binary values."
   ]
  },
  {
   "cell_type": "code",
   "execution_count": 38,
   "id": "b3901d71-8240-4457-8a94-f31553448631",
   "metadata": {},
   "outputs": [
    {
     "data": {
      "text/html": [
       "<div>\n",
       "<style scoped>\n",
       "    .dataframe tbody tr th:only-of-type {\n",
       "        vertical-align: middle;\n",
       "    }\n",
       "\n",
       "    .dataframe tbody tr th {\n",
       "        vertical-align: top;\n",
       "    }\n",
       "\n",
       "    .dataframe thead th {\n",
       "        text-align: right;\n",
       "    }\n",
       "</style>\n",
       "<table border=\"1\" class=\"dataframe\">\n",
       "  <thead>\n",
       "    <tr style=\"text-align: right;\">\n",
       "      <th></th>\n",
       "      <th>Name</th>\n",
       "      <th>Sex</th>\n",
       "      <th>Ticket</th>\n",
       "      <th>Cabin</th>\n",
       "      <th>Embarked</th>\n",
       "    </tr>\n",
       "  </thead>\n",
       "  <tbody>\n",
       "    <tr>\n",
       "      <th>count</th>\n",
       "      <td>891</td>\n",
       "      <td>891</td>\n",
       "      <td>891</td>\n",
       "      <td>891</td>\n",
       "      <td>891</td>\n",
       "    </tr>\n",
       "    <tr>\n",
       "      <th>unique</th>\n",
       "      <td>891</td>\n",
       "      <td>2</td>\n",
       "      <td>681</td>\n",
       "      <td>147</td>\n",
       "      <td>3</td>\n",
       "    </tr>\n",
       "    <tr>\n",
       "      <th>top</th>\n",
       "      <td>Braund, Mr. Owen Harris</td>\n",
       "      <td>male</td>\n",
       "      <td>347082</td>\n",
       "      <td>B96 B98</td>\n",
       "      <td>S</td>\n",
       "    </tr>\n",
       "    <tr>\n",
       "      <th>freq</th>\n",
       "      <td>1</td>\n",
       "      <td>577</td>\n",
       "      <td>7</td>\n",
       "      <td>691</td>\n",
       "      <td>646</td>\n",
       "    </tr>\n",
       "  </tbody>\n",
       "</table>\n",
       "</div>"
      ],
      "text/plain": [
       "                           Name   Sex  Ticket    Cabin Embarked\n",
       "count                       891   891     891      891      891\n",
       "unique                      891     2     681      147        3\n",
       "top     Braund, Mr. Owen Harris  male  347082  B96 B98        S\n",
       "freq                          1   577       7      691      646"
      ]
     },
     "execution_count": 38,
     "metadata": {},
     "output_type": "execute_result"
    }
   ],
   "source": [
    "train_df.describe(include=[object])"
   ]
  },
  {
   "cell_type": "code",
   "execution_count": 39,
   "id": "e06cb8aa-93fd-43b1-955b-a3e02bedab8d",
   "metadata": {},
   "outputs": [
    {
     "data": {
      "text/html": [
       "<div>\n",
       "<style scoped>\n",
       "    .dataframe tbody tr th:only-of-type {\n",
       "        vertical-align: middle;\n",
       "    }\n",
       "\n",
       "    .dataframe tbody tr th {\n",
       "        vertical-align: top;\n",
       "    }\n",
       "\n",
       "    .dataframe thead th {\n",
       "        text-align: right;\n",
       "    }\n",
       "</style>\n",
       "<table border=\"1\" class=\"dataframe\">\n",
       "  <thead>\n",
       "    <tr style=\"text-align: right;\">\n",
       "      <th></th>\n",
       "      <th>PassengerId</th>\n",
       "      <th>Survived</th>\n",
       "      <th>Name</th>\n",
       "      <th>Age</th>\n",
       "      <th>SibSp</th>\n",
       "      <th>Parch</th>\n",
       "      <th>Ticket</th>\n",
       "      <th>Fare</th>\n",
       "      <th>Cabin</th>\n",
       "      <th>LogFare</th>\n",
       "      <th>Sex_female</th>\n",
       "      <th>Sex_male</th>\n",
       "      <th>Pclass_1</th>\n",
       "      <th>Pclass_2</th>\n",
       "      <th>Pclass_3</th>\n",
       "      <th>Embarked_C</th>\n",
       "      <th>Embarked_Q</th>\n",
       "      <th>Embarked_S</th>\n",
       "    </tr>\n",
       "  </thead>\n",
       "  <tbody>\n",
       "    <tr>\n",
       "      <th>0</th>\n",
       "      <td>1</td>\n",
       "      <td>0</td>\n",
       "      <td>Braund, Mr. Owen Harris</td>\n",
       "      <td>22.0</td>\n",
       "      <td>1</td>\n",
       "      <td>0</td>\n",
       "      <td>A/5 21171</td>\n",
       "      <td>7.2500</td>\n",
       "      <td>B96 B98</td>\n",
       "      <td>2.110213</td>\n",
       "      <td>False</td>\n",
       "      <td>True</td>\n",
       "      <td>False</td>\n",
       "      <td>False</td>\n",
       "      <td>True</td>\n",
       "      <td>False</td>\n",
       "      <td>False</td>\n",
       "      <td>True</td>\n",
       "    </tr>\n",
       "    <tr>\n",
       "      <th>1</th>\n",
       "      <td>2</td>\n",
       "      <td>1</td>\n",
       "      <td>Cumings, Mrs. John Bradley (Florence Briggs Thayer)</td>\n",
       "      <td>38.0</td>\n",
       "      <td>1</td>\n",
       "      <td>0</td>\n",
       "      <td>PC 17599</td>\n",
       "      <td>71.2833</td>\n",
       "      <td>C85</td>\n",
       "      <td>4.280593</td>\n",
       "      <td>True</td>\n",
       "      <td>False</td>\n",
       "      <td>True</td>\n",
       "      <td>False</td>\n",
       "      <td>False</td>\n",
       "      <td>True</td>\n",
       "      <td>False</td>\n",
       "      <td>False</td>\n",
       "    </tr>\n",
       "    <tr>\n",
       "      <th>2</th>\n",
       "      <td>3</td>\n",
       "      <td>1</td>\n",
       "      <td>Heikkinen, Miss. Laina</td>\n",
       "      <td>26.0</td>\n",
       "      <td>0</td>\n",
       "      <td>0</td>\n",
       "      <td>STON/O2. 3101282</td>\n",
       "      <td>7.9250</td>\n",
       "      <td>B96 B98</td>\n",
       "      <td>2.188856</td>\n",
       "      <td>True</td>\n",
       "      <td>False</td>\n",
       "      <td>False</td>\n",
       "      <td>False</td>\n",
       "      <td>True</td>\n",
       "      <td>False</td>\n",
       "      <td>False</td>\n",
       "      <td>True</td>\n",
       "    </tr>\n",
       "    <tr>\n",
       "      <th>3</th>\n",
       "      <td>4</td>\n",
       "      <td>1</td>\n",
       "      <td>Futrelle, Mrs. Jacques Heath (Lily May Peel)</td>\n",
       "      <td>35.0</td>\n",
       "      <td>1</td>\n",
       "      <td>0</td>\n",
       "      <td>113803</td>\n",
       "      <td>53.1000</td>\n",
       "      <td>C123</td>\n",
       "      <td>3.990834</td>\n",
       "      <td>True</td>\n",
       "      <td>False</td>\n",
       "      <td>True</td>\n",
       "      <td>False</td>\n",
       "      <td>False</td>\n",
       "      <td>False</td>\n",
       "      <td>False</td>\n",
       "      <td>True</td>\n",
       "    </tr>\n",
       "    <tr>\n",
       "      <th>4</th>\n",
       "      <td>5</td>\n",
       "      <td>0</td>\n",
       "      <td>Allen, Mr. William Henry</td>\n",
       "      <td>35.0</td>\n",
       "      <td>0</td>\n",
       "      <td>0</td>\n",
       "      <td>373450</td>\n",
       "      <td>8.0500</td>\n",
       "      <td>B96 B98</td>\n",
       "      <td>2.202765</td>\n",
       "      <td>False</td>\n",
       "      <td>True</td>\n",
       "      <td>False</td>\n",
       "      <td>False</td>\n",
       "      <td>True</td>\n",
       "      <td>False</td>\n",
       "      <td>False</td>\n",
       "      <td>True</td>\n",
       "    </tr>\n",
       "  </tbody>\n",
       "</table>\n",
       "</div>"
      ],
      "text/plain": [
       "   PassengerId  Survived                                                 Name  \\\n",
       "0            1         0                              Braund, Mr. Owen Harris   \n",
       "1            2         1  Cumings, Mrs. John Bradley (Florence Briggs Thayer)   \n",
       "2            3         1                               Heikkinen, Miss. Laina   \n",
       "3            4         1         Futrelle, Mrs. Jacques Heath (Lily May Peel)   \n",
       "4            5         0                             Allen, Mr. William Henry   \n",
       "\n",
       "    Age  SibSp  Parch            Ticket     Fare    Cabin   LogFare  \\\n",
       "0  22.0      1      0         A/5 21171   7.2500  B96 B98  2.110213   \n",
       "1  38.0      1      0          PC 17599  71.2833      C85  4.280593   \n",
       "2  26.0      0      0  STON/O2. 3101282   7.9250  B96 B98  2.188856   \n",
       "3  35.0      1      0            113803  53.1000     C123  3.990834   \n",
       "4  35.0      0      0            373450   8.0500  B96 B98  2.202765   \n",
       "\n",
       "   Sex_female  Sex_male  Pclass_1  Pclass_2  Pclass_3  Embarked_C  Embarked_Q  \\\n",
       "0       False      True     False     False      True       False       False   \n",
       "1        True     False      True     False     False        True       False   \n",
       "2        True     False     False     False      True       False       False   \n",
       "3        True     False      True     False     False       False       False   \n",
       "4       False      True     False     False      True       False       False   \n",
       "\n",
       "   Embarked_S  \n",
       "0        True  \n",
       "1       False  \n",
       "2        True  \n",
       "3        True  \n",
       "4        True  "
      ]
     },
     "execution_count": 39,
     "metadata": {},
     "output_type": "execute_result"
    }
   ],
   "source": [
    "train_df = pd.get_dummies(train_df, columns=[\"Sex\", \"Pclass\", \"Embarked\"])\n",
    "train_df.head()"
   ]
  },
  {
   "cell_type": "markdown",
   "id": "50296fa9-7ddc-43a0-806e-852f85439b3a",
   "metadata": {},
   "source": [
    "## Tensor Time\n",
    "Now it's time to turn our data into tensors so we can do fun math stuff."
   ]
  },
  {
   "cell_type": "code",
   "execution_count": 50,
   "id": "57b42e4d-df93-4036-8881-25888f72f7a7",
   "metadata": {},
   "outputs": [
    {
     "name": "stdout",
     "output_type": "stream",
     "text": [
      "<class 'pandas.core.frame.DataFrame'>\n",
      "RangeIndex: 891 entries, 0 to 890\n",
      "Data columns (total 12 columns):\n",
      " #   Column      Non-Null Count  Dtype  \n",
      "---  ------      --------------  -----  \n",
      " 0   Age         891 non-null    float64\n",
      " 1   SibSp       891 non-null    int64  \n",
      " 2   Parch       891 non-null    int64  \n",
      " 3   LogFare     891 non-null    float64\n",
      " 4   Sex_female  891 non-null    bool   \n",
      " 5   Sex_male    891 non-null    bool   \n",
      " 6   Pclass_1    891 non-null    bool   \n",
      " 7   Pclass_2    891 non-null    bool   \n",
      " 8   Pclass_3    891 non-null    bool   \n",
      " 9   Embarked_C  891 non-null    bool   \n",
      " 10  Embarked_Q  891 non-null    bool   \n",
      " 11  Embarked_S  891 non-null    bool   \n",
      "dtypes: bool(8), float64(2), int64(2)\n",
      "memory usage: 34.9 KB\n"
     ]
    }
   ],
   "source": [
    "train_df[['Age', 'SibSp', 'Parch', 'LogFare', 'Sex_female', 'Sex_male', 'Pclass_1', 'Pclass_2', 'Pclass_3', 'Embarked_C', 'Embarked_Q', 'Embarked_S']].info()"
   ]
  },
  {
   "cell_type": "code",
   "execution_count": 53,
   "id": "d8f8ab99-4ac7-45fa-b6a3-d9d137ccd178",
   "metadata": {},
   "outputs": [],
   "source": [
    "# Convert DataFrame to numpy array and ensure all data is of type float\n",
    "trn_ind = tensor(train_df[['Age', 'SibSp', 'Parch', 'LogFare', 'Sex_female', 'Sex_male', 'Pclass_1', 'Pclass_2', 'Pclass_3', 'Embarked_C', 'Embarked_Q', 'Embarked_S']].values.astype(float), dtype=torch.float)\n",
    "\n",
    "trn_dep = tensor(train_df[\"Survived\"].values, dtype=torch.float)"
   ]
  },
  {
   "cell_type": "code",
   "execution_count": 55,
   "id": "b9cef1e4-872b-4778-be03-4b1f0e7e3473",
   "metadata": {},
   "outputs": [
    {
     "data": {
      "text/plain": [
       "(torch.Size([891, 12]), torch.Size([891]))"
      ]
     },
     "execution_count": 55,
     "metadata": {},
     "output_type": "execute_result"
    }
   ],
   "source": [
    "trn_ind.shape, trn_dep.shape"
   ]
  },
  {
   "cell_type": "markdown",
   "id": "846362e6-2d4b-4eef-a33e-1026e810b916",
   "metadata": {},
   "source": [
    "## Normalization\n",
    "We will normalize all the data by divide each row by the max values for each col."
   ]
  },
  {
   "cell_type": "code",
   "execution_count": 61,
   "id": "33c8f24c-2c50-4f5a-98fc-d56453e40e10",
   "metadata": {},
   "outputs": [],
   "source": [
    "max_vals = trn_ind.max(dim=0).values"
   ]
  },
  {
   "cell_type": "code",
   "execution_count": 63,
   "id": "5d42212a-604e-445e-af3b-3d3f3727d4b5",
   "metadata": {},
   "outputs": [
    {
     "data": {
      "text/plain": [
       "tensor([[0.0034, 0.0156, 0.0000,  ..., 0.0000, 0.0000, 1.0000],\n",
       "        [0.0059, 0.0156, 0.0000,  ..., 1.0000, 0.0000, 0.0000],\n",
       "        [0.0041, 0.0000, 0.0000,  ..., 0.0000, 0.0000, 1.0000],\n",
       "        ...,\n",
       "        [0.0038, 0.0156, 0.0556,  ..., 0.0000, 0.0000, 1.0000],\n",
       "        [0.0041, 0.0000, 0.0000,  ..., 1.0000, 0.0000, 0.0000],\n",
       "        [0.0050, 0.0000, 0.0000,  ..., 0.0000, 1.0000, 0.0000]])"
      ]
     },
     "execution_count": 63,
     "metadata": {},
     "output_type": "execute_result"
    }
   ],
   "source": [
    "trn_ind = trn_ind / max_vals\n",
    "trn_ind"
   ]
  },
  {
   "cell_type": "markdown",
   "id": "dfde506c-658c-4ced-adab-114dc248ea92",
   "metadata": {},
   "source": [
    "## Functions\n",
    "Now we'll need to create some functions for calculating predictions, the loss, the gradient stepping our coeffs and validating as well a funciton for running epochs."
   ]
  },
  {
   "cell_type": "code",
   "execution_count": 66,
   "id": "84c3e8f4-2528-4df6-a415-5cff0a7fdf8c",
   "metadata": {},
   "outputs": [
    {
     "data": {
      "text/plain": [
       "tensor([-0.7894, -0.4610, -0.2824, -0.6013,  0.0944, -0.9877,  0.9031, -0.8495,  0.7720,  0.1664, -0.3247,  0.6179])"
      ]
     },
     "execution_count": 66,
     "metadata": {},
     "output_type": "execute_result"
    }
   ],
   "source": [
    "# Predictions\n",
    "torch.rand(12)*2 - 1"
   ]
  },
  {
   "cell_type": "code",
   "execution_count": 88,
   "id": "fc642f7e-6a6e-46d8-a2ad-8929037f0fc4",
   "metadata": {},
   "outputs": [],
   "source": [
    "def init_coeffs(num):\n",
    "    coeffs = torch.rand(num)*2 -1\n",
    "    return coeffs.requires_grad_()"
   ]
  },
  {
   "cell_type": "code",
   "execution_count": 89,
   "id": "3aac8b58-3bb2-40d0-a20f-60eff63fc70c",
   "metadata": {},
   "outputs": [
    {
     "data": {
      "text/plain": [
       "tensor([ 0.9623, -0.8253, -0.9919, -0.7824, -0.6727,  0.4050,  0.3581,  0.8309, -0.5164, -0.6817,  0.5306, -0.4042], requires_grad=True)"
      ]
     },
     "execution_count": 89,
     "metadata": {},
     "output_type": "execute_result"
    }
   ],
   "source": [
    "cfs = init_coeffs(12)\n",
    "cfs"
   ]
  },
  {
   "cell_type": "code",
   "execution_count": 90,
   "id": "65c7dfd2-2091-4447-9066-6a6bb1c53ce9",
   "metadata": {},
   "outputs": [
    {
     "data": {
      "text/plain": [
       "(torch.Size([891, 12]), torch.Size([12]))"
      ]
     },
     "execution_count": 90,
     "metadata": {},
     "output_type": "execute_result"
    }
   ],
   "source": [
    "trn_ind.shape, cfs.shape"
   ]
  },
  {
   "cell_type": "code",
   "execution_count": 91,
   "id": "9c2047f9-f82e-4bc6-a9d4-bcc36d81b5b4",
   "metadata": {},
   "outputs": [
    {
     "data": {
      "text/plain": [
       "torch.Size([891])"
      ]
     },
     "execution_count": 91,
     "metadata": {},
     "output_type": "execute_result"
    }
   ],
   "source": [
    "pred = trn_ind @ cfs\n",
    "pred.shape"
   ]
  },
  {
   "cell_type": "code",
   "execution_count": 149,
   "id": "473bf2fc-5195-40b3-bdeb-ec4a69ef3a94",
   "metadata": {},
   "outputs": [],
   "source": [
    "def calc_preds(ind, cfs):\n",
    "    return torch.sigmoid(ind @ cfs)"
   ]
  },
  {
   "cell_type": "code",
   "execution_count": 150,
   "id": "085672aa-b46d-4b16-b644-0e8f628b18eb",
   "metadata": {},
   "outputs": [
    {
     "data": {
      "text/plain": [
       "tensor(1.0533, grad_fn=<MeanBackward0>)"
      ]
     },
     "execution_count": 150,
     "metadata": {},
     "output_type": "execute_result"
    }
   ],
   "source": [
    "# Loss - Mean Absolute Value\n",
    "abs(pred-trn_dep).mean()"
   ]
  },
  {
   "cell_type": "code",
   "execution_count": 151,
   "id": "d2c75e8a-152b-47cd-830d-a45267dda3d7",
   "metadata": {},
   "outputs": [],
   "source": [
    "def calc_loss(ind, dep, cfs):\n",
    "    # return abs(pred-dep).mean()\n",
    "    return torch.abs(calc_preds(ind, cfs) - dep).mean() # Cleaner way to do it from the lesson"
   ]
  },
  {
   "cell_type": "code",
   "execution_count": 152,
   "id": "d754f38d-d39c-49d0-9d2d-1370cf38c328",
   "metadata": {},
   "outputs": [],
   "source": [
    "loss = calc_loss (trn_ind, trn_dep, cfs)"
   ]
  },
  {
   "cell_type": "code",
   "execution_count": 153,
   "id": "c2f52150-458f-42b0-b341-37dc648a123c",
   "metadata": {},
   "outputs": [],
   "source": [
    "loss.backward()"
   ]
  },
  {
   "cell_type": "code",
   "execution_count": 154,
   "id": "5b1f2167-0b2c-446e-bb38-0b126a21589e",
   "metadata": {},
   "outputs": [
    {
     "data": {
      "text/plain": [
       "tensor([-4.6152e-04, -1.0175e-03, -8.1837e-03, -3.3790e-02, -6.5549e-01,  2.4219e-01,  3.4027e-02, -1.1530e-01, -3.3202e-01,  2.5611e-01, -5.2286e-02, -6.1711e-01])"
      ]
     },
     "execution_count": 154,
     "metadata": {},
     "output_type": "execute_result"
    }
   ],
   "source": [
    "cfs.grad"
   ]
  },
  {
   "cell_type": "code",
   "execution_count": 155,
   "id": "482eca9d-bcc1-43ca-a777-046203d8d921",
   "metadata": {},
   "outputs": [],
   "source": [
    "# Step\n",
    "with torch.no_grad():\n",
    "    cfs.sub_(cfs.grad*0.1)"
   ]
  },
  {
   "cell_type": "code",
   "execution_count": 156,
   "id": "e43e67fc-5e90-42f2-9715-cca5d262554d",
   "metadata": {},
   "outputs": [
    {
     "data": {
      "text/plain": [
       "tensor([ 0.2323,  0.5175,  0.1853, -0.3432,  0.8189,  0.3665,  0.3777, -0.1469, -0.1594,  0.0246, -0.1776, -0.0767], requires_grad=True)"
      ]
     },
     "execution_count": 156,
     "metadata": {},
     "output_type": "execute_result"
    }
   ],
   "source": [
    "cfs"
   ]
  },
  {
   "cell_type": "code",
   "execution_count": 167,
   "id": "7e602d4b-b6e6-48ed-9cfb-178f550f75b8",
   "metadata": {},
   "outputs": [],
   "source": [
    "def update_coeffs(cfs, loss, lr):\n",
    "    loss.backward()\n",
    "    with torch.no_grad():\n",
    "        cfs.sub_(cfs.grad*lr)"
   ]
  },
  {
   "cell_type": "code",
   "execution_count": 194,
   "id": "21ff7053-80b8-4b88-b948-4b2dc05abd56",
   "metadata": {},
   "outputs": [],
   "source": [
    "# Epoch\n",
    "def run_epoch(ind, dep, cfs, lr):\n",
    "    loss = calc_loss(ind, dep, cfs)\n",
    "    update_coeffs(cfs, loss, lr)\n",
    "    # print(f\"{loss:.3f}\", end=\"; \")"
   ]
  },
  {
   "cell_type": "code",
   "execution_count": 172,
   "id": "592d15b0-8a19-4358-b834-8beb2eb1b018",
   "metadata": {},
   "outputs": [
    {
     "name": "stdout",
     "output_type": "stream",
     "text": [
      "0.479; 0.477; 0.473; 0.468; 0.461; "
     ]
    }
   ],
   "source": [
    "cfs = init_coeffs(12)\n",
    "lr = 0.1\n",
    "for i in range(5):\n",
    "    run_epoch(trn_ind, trn_dep, cfs, lr)"
   ]
  },
  {
   "cell_type": "markdown",
   "id": "565bbae9-637d-450b-b50d-ddc4c0da6dcb",
   "metadata": {},
   "source": [
    "# Training the Model\n",
    "Going to use a random splitter to create a validation split."
   ]
  },
  {
   "cell_type": "code",
   "execution_count": 163,
   "id": "abab7bea-a701-4ec6-b7e5-90cb4571c239",
   "metadata": {},
   "outputs": [],
   "source": [
    "trn_split, val_split = RandomSplitter(seed=None)(train_df)"
   ]
  },
  {
   "cell_type": "code",
   "execution_count": 165,
   "id": "ced8c465-e8ed-4a4f-a439-8b4113feca9d",
   "metadata": {},
   "outputs": [],
   "source": [
    "train_ind, val_ind = trn_ind[trn_split], trn_ind[val_split]\n",
    "train_dep, val_dep = trn_dep[trn_split], trn_dep[val_split]"
   ]
  },
  {
   "cell_type": "code",
   "execution_count": 166,
   "id": "f2cee305-b213-4211-8e3c-f37a0c647ff7",
   "metadata": {},
   "outputs": [
    {
     "data": {
      "text/plain": [
       "(713, 178)"
      ]
     },
     "execution_count": 166,
     "metadata": {},
     "output_type": "execute_result"
    }
   ],
   "source": [
    "len(train_ind), len (val_ind)"
   ]
  },
  {
   "cell_type": "code",
   "execution_count": 188,
   "id": "c6e88ce8-f0dc-44ab-bf99-8bcad3271fad",
   "metadata": {},
   "outputs": [],
   "source": [
    "# Need to caclculate accuracy\n",
    "def calc_accuracy(cfs, val_ind, val_dep):\n",
    "    return (((val_ind @ cfs) > 0.5) == val_dep).float().mean()"
   ]
  },
  {
   "cell_type": "code",
   "execution_count": 204,
   "id": "8b5ec544-3f81-4047-bfa6-2ada35153a81",
   "metadata": {},
   "outputs": [],
   "source": [
    "def train_model(ind, dep, epochs, lr):\n",
    "    cfs = init_coeffs(12)\n",
    "    for _ in range(epochs):\n",
    "        # print(cfs)\n",
    "        run_epoch(ind, dep, cfs, lr)\n",
    "        acc = calc_accuracy(cfs, val_ind, val_dep)\n",
    "        print(f\"{acc:.3f}\", end=\"; \")\n",
    "    "
   ]
  },
  {
   "cell_type": "code",
   "execution_count": 211,
   "id": "dac039b2-7ac1-4e0b-b986-e3119ab64f6d",
   "metadata": {},
   "outputs": [
    {
     "name": "stdout",
     "output_type": "stream",
     "text": [
      "0.646; 0.669; 0.669; 0.669; 0.674; 0.719; 0.719; 0.826; 0.826; 0.826; 0.826; 0.826; 0.826; 0.826; 0.826; 0.826; 0.826; 0.826; 0.826; 0.826; "
     ]
    }
   ],
   "source": [
    "train_model(train_ind, train_dep, 20, 1)"
   ]
  },
  {
   "cell_type": "markdown",
   "id": "bec4c4aa-18c0-4042-b589-b055f7992aa1",
   "metadata": {},
   "source": [
    "# Linear Regression Results\n",
    "After running this model several times with various learning rates and number of epochs, the highest accuracy I was able to get is 0.826"
   ]
  },
  {
   "cell_type": "code",
   "execution_count": 216,
   "id": "4370347a-75b0-4638-9030-5de35cb82fb4",
   "metadata": {},
   "outputs": [
    {
     "data": {
      "text/plain": [
       "tensor([[0.4539, 0.0000, 0.0000,  ..., 0.0000, 1.0000, 0.0000],\n",
       "        [0.6184, 0.1250, 0.0000,  ..., 0.0000, 0.0000, 1.0000],\n",
       "        [0.8158, 0.0000, 0.0000,  ..., 0.0000, 1.0000, 0.0000],\n",
       "        ...,\n",
       "        [0.5066, 0.0000, 0.0000,  ..., 0.0000, 0.0000, 1.0000],\n",
       "        [0.2763, 0.0000, 0.0000,  ..., 0.0000, 0.0000, 1.0000],\n",
       "        [0.2763, 0.1250, 0.1111,  ..., 1.0000, 0.0000, 0.0000]])"
      ]
     },
     "execution_count": 216,
     "metadata": {},
     "output_type": "execute_result"
    }
   ],
   "source": [
    "# Creating a submission\n",
    "\n",
    "# Process the test data\n",
    "test_df = pd.read_csv(\"titanic/test.csv\")\n",
    "modes = test_df.mode().iloc[0]\n",
    "test_df = test_df.fillna(modes)\n",
    "test_df[\"LogFare\"] = np.log(test_df[\"Fare\"] + 1)\n",
    "test_df = pd.get_dummies(test_df, columns=[\"Sex\", \"Pclass\", \"Embarked\"])\n",
    "\n",
    "test = tensor(test_df[['Age', 'SibSp', 'Parch', 'LogFare', 'Sex_female', 'Sex_male', 'Pclass_1', 'Pclass_2', 'Pclass_3', 'Embarked_C', 'Embarked_Q', 'Embarked_S']].values.astype(float), dtype=torch.float)\n",
    "\n",
    "max_vals = test.max(dim=0).values\n",
    "test = test / max_vals\n",
    "test"
   ]
  },
  {
   "cell_type": "code",
   "execution_count": 238,
   "id": "dff2e497-c093-49d3-b51a-00ff47f94d06",
   "metadata": {},
   "outputs": [
    {
     "data": {
      "text/plain": [
       "array([1, 1, 0, 0, 1, 0, 1, 0, 1, 0, 0, 1, 1, 0, 1, 0, 0, 1, 1, 1, 1, 0, 1, 1, 1, 0, 1, 1, 1, 1, 0, 0, 1, 1, 1, 1, 1, 1, 0, 0, 1, 1, 0, 0, 1, 0, 1, 0, 1, 1, 1, 0, 0, 1, 0, 0, 0, 0, 0, 1, 0, 0, 0, 1,\n",
       "       1, 0, 1, 1, 1, 1, 1, 0, 1, 1, 1, 1, 0, 1, 0, 1, 1, 1, 1, 0, 0, 1, 1, 1, 1, 0, 1, 0, 1, 0, 1, 0, 1, 0, 1, 0, 1, 0, 0, 0, 1, 0, 0, 0, 0, 0, 0, 1, 1, 1, 1, 1, 1, 1, 1, 0, 0, 1, 1, 0, 0, 1, 0, 1,\n",
       "       0, 0, 0, 1, 1, 1, 0, 0, 1, 0, 1, 0, 1, 1, 1, 0, 1, 0, 1, 0, 1, 0, 1, 1, 1, 1, 0, 0, 1, 1, 1, 1, 1, 1, 0, 0, 0, 1, 1, 0, 1, 1, 0, 1, 0, 1, 0, 0, 0, 1, 0, 1, 0, 1, 1, 0, 1, 0, 0, 0, 1, 0, 0, 1,\n",
       "       0, 0, 0, 0, 1, 1, 0, 1, 1, 0, 1, 0, 0, 1, 1, 0, 1, 0, 0, 0, 0, 0, 1, 1, 1, 1, 1, 0, 1, 0, 0, 0, 1, 1, 0, 1, 0, 0, 0, 1, 0, 0, 1, 0, 1, 1, 0, 1, 1, 0, 1, 0, 0, 1, 0, 0, 0, 1, 0, 0, 1, 0, 0, 0,\n",
       "       0, 0, 0, 0, 0, 0, 0, 1, 0, 0, 1, 0, 1, 0, 1, 0, 1, 1, 1, 0, 0, 0, 0, 0, 1, 0, 1, 1, 1, 0, 0, 1, 1, 0, 1, 1, 1, 1, 0, 0, 0, 1, 1, 0, 0, 0, 0, 0, 1, 1, 0, 0, 1, 1, 0, 1, 0, 1, 1, 1, 1, 0, 0, 0,\n",
       "       0, 1, 0, 1, 1, 0, 0, 1, 0, 0, 0, 1, 1, 1, 0, 1, 0, 1, 0, 1, 0, 0, 0, 1, 0, 1, 0, 1, 0, 0, 1, 0, 0, 0, 1, 1, 1, 0, 0, 1, 0, 0, 0, 0, 1, 0, 1, 1, 1, 0, 0, 1, 1, 0, 1, 1, 1, 0, 1, 0, 0, 1, 1, 1,\n",
       "       0, 0, 0, 0, 0, 0, 0, 1, 0, 0, 0, 1, 1, 1, 0, 1, 1, 0, 1, 0, 1, 0, 0, 1, 1, 1, 1, 1, 1, 0, 1, 0, 0, 1], dtype=int32)"
      ]
     },
     "execution_count": 238,
     "metadata": {},
     "output_type": "execute_result"
    }
   ],
   "source": [
    "test_pred = calc_preds(test, cfs)\n",
    "test_pred = (test_pred > 0.5).int()\n",
    "test_pred = test_pred.detach().numpy()\n",
    "test_pred"
   ]
  },
  {
   "cell_type": "code",
   "execution_count": 239,
   "id": "3092db67-4d5f-4be1-85b5-160c7eeff070",
   "metadata": {},
   "outputs": [
    {
     "data": {
      "text/html": [
       "<div>\n",
       "<style scoped>\n",
       "    .dataframe tbody tr th:only-of-type {\n",
       "        vertical-align: middle;\n",
       "    }\n",
       "\n",
       "    .dataframe tbody tr th {\n",
       "        vertical-align: top;\n",
       "    }\n",
       "\n",
       "    .dataframe thead th {\n",
       "        text-align: right;\n",
       "    }\n",
       "</style>\n",
       "<table border=\"1\" class=\"dataframe\">\n",
       "  <thead>\n",
       "    <tr style=\"text-align: right;\">\n",
       "      <th></th>\n",
       "      <th>PassengerId</th>\n",
       "      <th>Survived</th>\n",
       "    </tr>\n",
       "  </thead>\n",
       "  <tbody>\n",
       "    <tr>\n",
       "      <th>0</th>\n",
       "      <td>892</td>\n",
       "      <td>1</td>\n",
       "    </tr>\n",
       "    <tr>\n",
       "      <th>1</th>\n",
       "      <td>893</td>\n",
       "      <td>1</td>\n",
       "    </tr>\n",
       "    <tr>\n",
       "      <th>2</th>\n",
       "      <td>894</td>\n",
       "      <td>0</td>\n",
       "    </tr>\n",
       "    <tr>\n",
       "      <th>3</th>\n",
       "      <td>895</td>\n",
       "      <td>0</td>\n",
       "    </tr>\n",
       "    <tr>\n",
       "      <th>4</th>\n",
       "      <td>896</td>\n",
       "      <td>1</td>\n",
       "    </tr>\n",
       "  </tbody>\n",
       "</table>\n",
       "</div>"
      ],
      "text/plain": [
       "   PassengerId  Survived\n",
       "0          892         1\n",
       "1          893         1\n",
       "2          894         0\n",
       "3          895         0\n",
       "4          896         1"
      ]
     },
     "execution_count": 239,
     "metadata": {},
     "output_type": "execute_result"
    }
   ],
   "source": [
    "submission = pd.DataFrame({'PassengerId':test_df['PassengerId'],'Survived':test_pred})\n",
    "submission.head()"
   ]
  },
  {
   "cell_type": "code",
   "execution_count": 240,
   "id": "5ba816eb-293b-4b06-a9a6-5f22f3461ef6",
   "metadata": {},
   "outputs": [],
   "source": [
    "submission.to_csv(\"submission.csv\",index=False)"
   ]
  },
  {
   "attachments": {
    "7d40e0be-b2e6-41a4-b104-bf5d325d855f.png": {
     "image/png": "[encoded data removed]"
    }
   },
   "cell_type": "markdown",
   "id": "1d7f4cb3-b6b4-44b9-94f8-fd6f42fd0581",
   "metadata": {},
   "source": [
    "## Linear Submission Results\n",
    "![image.png](attachment:7d40e0be-b2e6-41a4-b104-bf5d325d855f.png)"
   ]
  },
  {
   "cell_type": "markdown",
   "id": "5b154804-9375-471c-bcaf-3bdcbd7b2a56",
   "metadata": {},
   "source": [
    "# Neural Nets\n",
    "Going to take what I've done so far an try and make a 2 layer neural net.\n",
    "## Steps\n",
    "1. Initialize two layers of cfs\n",
    "2. Add some non-linearity between the layers\n",
    "3. Add a bias to the second layer"
   ]
  },
  {
   "cell_type": "code",
   "execution_count": 246,
   "id": "191097cb-5f32-41cb-8c87-87bb8724f3c3",
   "metadata": {},
   "outputs": [
    {
     "data": {
      "text/plain": [
       "tensor([[ 0.6188, -0.7967, -0.3518,  0.7320,  0.2968, -0.1332, -0.2335, -0.6106,  0.6081, -0.0318],\n",
       "        [-0.0338,  0.2365,  0.7379, -0.5102, -0.3444,  0.6776,  0.5648, -0.4919, -0.9893,  0.1855],\n",
       "        [ 0.5259,  0.2389,  0.7093, -0.7935,  0.5043, -0.6217,  0.5628,  0.7437,  0.3167,  0.8091],\n",
       "        [-0.6592, -0.8944, -0.9615,  0.6278,  0.3503, -0.7323,  0.4843,  0.9124, -0.9861,  0.7254],\n",
       "        [ 0.1534,  0.0930,  0.8998,  0.9056,  0.4214,  0.7901,  0.4160,  0.1629, -0.8790,  0.1868],\n",
       "        [-0.7114,  0.3079,  0.1764,  0.0225, -0.6837, -0.6062,  0.7391,  0.4870,  0.5272, -0.2980],\n",
       "        [-0.1722, -0.2563,  0.6877, -0.4317,  0.6299,  0.6895, -0.9146,  0.0061, -0.1905, -0.5528],\n",
       "        [ 0.4317, -0.1215,  0.8755, -0.6259,  0.4646, -0.8538, -0.5012,  0.0682,  0.7901,  0.5267],\n",
       "        [-0.8211,  0.1108, -0.5895,  0.0433, -0.8331, -0.2934,  0.6859, -0.9175, -0.9534,  0.1821],\n",
       "        [ 0.1371, -0.1829,  0.8732, -0.6021, -0.6071, -0.7475, -0.1861, -0.2552,  0.6187, -0.0561],\n",
       "        [ 0.3194, -0.4156,  0.8112,  0.8430, -0.8956, -0.2570, -0.8485,  0.4248, -0.8737, -0.4728],\n",
       "        [ 0.9992, -0.9549,  0.7378,  0.0845,  0.7996, -0.5075,  0.6568,  0.1207,  0.0769,  0.6825]])"
      ]
     },
     "execution_count": 246,
     "metadata": {},
     "output_type": "execute_result"
    }
   ],
   "source": [
    "layer1 = torch.rand(12, 10)*2 -1\n",
    "layer1"
   ]
  },
  {
   "cell_type": "code",
   "execution_count": 249,
   "id": "79ae23f2-1bbe-4d5c-83fe-9b135131b107",
   "metadata": {},
   "outputs": [],
   "source": [
    "def init_coeffs(inputs, hidden):\n",
    "    layer1 = torch.rand(inputs, hidden)*2 -1\n",
    "    layer2 = torch.rand(hidden, 1)\n",
    "    bias = torch.rand(1)\n",
    "    return layer1.requires_grad_(), layer2.requires_grad_(), bias.requires_grad_()"
   ]
  },
  {
   "cell_type": "code",
   "execution_count": 250,
   "id": "774d3a0b-07fc-47a3-a4a1-540bac7ff733",
   "metadata": {},
   "outputs": [
    {
     "data": {
      "text/plain": [
       "(torch.Size([12, 10]),\n",
       " torch.Size([10, 1]),\n",
       " tensor([0.9022], requires_grad=True))"
      ]
     },
     "execution_count": 250,
     "metadata": {},
     "output_type": "execute_result"
    }
   ],
   "source": [
    "l1, l2, b = init_coeffs(12, 10)\n",
    "l1.shape, l2.shape, b"
   ]
  },
  {
   "cell_type": "code",
   "execution_count": 252,
   "id": "67d3046b-0e3f-4d9b-a5eb-4cd72ffc0a37",
   "metadata": {},
   "outputs": [
    {
     "data": {
      "text/plain": [
       "tensor([[ 0.5826, -0.7849, -0.8720,  ...,  0.8786, -0.6405, -0.1287],\n",
       "        [ 0.5787, -0.7887, -0.8970,  ...,  0.8679, -0.6304, -0.1323],\n",
       "        [ 0.5720, -0.7834, -0.8690,  ...,  0.8691, -0.6422, -0.1384],\n",
       "        ...,\n",
       "        [ 0.4214,  0.0985, -0.5928,  ...,  1.8411, -0.1740,  1.8558],\n",
       "        [ 0.5663, -0.7827, -0.8675,  ...,  0.8639, -0.6433, -0.1436],\n",
       "        [ 1.1029,  0.3590,  0.4932,  ...,  1.7274, -0.4690,  0.5302]], grad_fn=<MmBackward0>)"
      ]
     },
     "execution_count": 252,
     "metadata": {},
     "output_type": "execute_result"
    }
   ],
   "source": [
    "import torch.nn.functional as F\n",
    "res1 = train_ind @ l1\n",
    "res1"
   ]
  },
  {
   "cell_type": "code",
   "execution_count": 253,
   "id": "9f3cf34d-1561-49dc-98d3-bb81ea67d355",
   "metadata": {},
   "outputs": [
    {
     "data": {
      "text/plain": [
       "tensor([[0.5826, 0.0000, 0.0000,  ..., 0.8786, 0.0000, 0.0000],\n",
       "        [0.5787, 0.0000, 0.0000,  ..., 0.8679, 0.0000, 0.0000],\n",
       "        [0.5720, 0.0000, 0.0000,  ..., 0.8691, 0.0000, 0.0000],\n",
       "        ...,\n",
       "        [0.4214, 0.0985, 0.0000,  ..., 1.8411, 0.0000, 1.8558],\n",
       "        [0.5663, 0.0000, 0.0000,  ..., 0.8639, 0.0000, 0.0000],\n",
       "        [1.1029, 0.3590, 0.4932,  ..., 1.7274, 0.0000, 0.5302]], grad_fn=<ReluBackward0>)"
      ]
     },
     "execution_count": 253,
     "metadata": {},
     "output_type": "execute_result"
    }
   ],
   "source": [
    "relu = F.relu(res1)\n",
    "relu"
   ]
  },
  {
   "cell_type": "code",
   "execution_count": 256,
   "id": "d46c3e2a-767b-4df0-86ae-f052dd171158",
   "metadata": {},
   "outputs": [
    {
     "data": {
      "text/plain": [
       "torch.Size([713, 1])"
      ]
     },
     "execution_count": 256,
     "metadata": {},
     "output_type": "execute_result"
    }
   ],
   "source": [
    "res2 = relu @ l2 + b\n",
    "res2.shape"
   ]
  },
  {
   "cell_type": "code",
   "execution_count": 257,
   "id": "2e3364de-4b02-43fb-901a-ec9f060fcdc3",
   "metadata": {},
   "outputs": [],
   "source": [
    "def calc_preds(ind, layer1, layer2, bias):\n",
    "    res1 = ind @ layer1\n",
    "    relu = F.relu(res1)\n",
    "    res2 = relu @ layer2 + bias\n",
    "    return torch.sigmoid(res2)"
   ]
  },
  {
   "cell_type": "code",
   "execution_count": 259,
   "id": "05eb5fe5-03ec-4254-8621-055dec6786fe",
   "metadata": {},
   "outputs": [
    {
     "data": {
      "text/plain": [
       "torch.Size([713, 1])"
      ]
     },
     "execution_count": 259,
     "metadata": {},
     "output_type": "execute_result"
    }
   ],
   "source": [
    "pred = calc_preds(train_ind, l1, l2, b)\n",
    "pred.shape"
   ]
  },
  {
   "cell_type": "code",
   "execution_count": 260,
   "id": "66f8e459-8b8b-4451-820a-a2712734e3e5",
   "metadata": {},
   "outputs": [],
   "source": [
    "def calc_loss(ind, dep, layer1, layer2, bias):\n",
    "    return torch.abs(calc_preds(ind, layer1, layer2, bias) - dep).mean()"
   ]
  },
  {
   "cell_type": "code",
   "execution_count": 261,
   "id": "d280aab3-4d5c-457f-bfe3-bbc878e93336",
   "metadata": {},
   "outputs": [
    {
     "data": {
      "text/plain": [
       "tensor(0.5986, grad_fn=<MeanBackward0>)"
      ]
     },
     "execution_count": 261,
     "metadata": {},
     "output_type": "execute_result"
    }
   ],
   "source": [
    "loss = calc_loss(train_ind, train_dep, l1, l2, b)\n",
    "loss"
   ]
  },
  {
   "cell_type": "code",
   "execution_count": 262,
   "id": "12d9a58e-3d97-4f3a-bef9-b97e9b83c788",
   "metadata": {},
   "outputs": [],
   "source": [
    "loss.backward()"
   ]
  },
  {
   "cell_type": "code",
   "execution_count": 266,
   "id": "820dda51-9936-48ec-95b8-697eeeddb27f",
   "metadata": {},
   "outputs": [
    {
     "data": {
      "text/plain": [
       "(tensor([[2.7026e-05, 9.8130e-06, 7.7406e-06, 1.6967e-05, 0.0000e+00, 1.1311e-06, 2.6923e-05, 1.7721e-05, 1.6216e-05, 1.4407e-05],\n",
       "         [5.6414e-05, 1.1734e-05, 9.1239e-06, 2.0185e-05, 0.0000e+00, 3.1112e-06, 4.8392e-05, 3.1853e-05, 1.7111e-05, 2.4844e-05],\n",
       "         [6.5368e-05, 1.8845e-05, 1.0959e-05, 2.4097e-05, 0.0000e+00, 5.3454e-06, 5.5396e-05, 3.6500e-05, 1.9891e-05, 3.6924e-05],\n",
       "         [4.3768e-04, 1.5363e-04, 1.2263e-04, 2.7299e-04, 0.0000e+00, 2.2207e-05, 4.2581e-04, 2.8040e-04, 2.5171e-04, 2.4076e-04],\n",
       "         [1.5237e-03, 7.1527e-04, 6.8093e-04, 6.1373e-04, 0.0000e+00, 2.7640e-04, 1.1582e-03, 7.6489e-04, 6.8260e-04, 1.3346e-03],\n",
       "         [5.0640e-03, 1.4470e-03, 1.2392e-03, 2.7805e-03, 0.0000e+00, 0.0000e+00, 5.0635e-03, 3.3314e-03, 2.5577e-03, 1.7223e-03],\n",
       "         [2.5826e-04, 6.6268e-05, 1.1078e-04, 1.4028e-03, 0.0000e+00, 5.1813e-05, 6.5812e-04, 4.3276e-04, 1.1717e-03, 8.7630e-04],\n",
       "         [4.5015e-04, 1.7279e-03, 2.0260e-05, 1.4977e-03, 0.0000e+00, 7.9889e-05, 1.0282e-03, 6.8120e-04, 1.2509e-03, 1.3794e-03],\n",
       "         [5.8793e-03, 3.6808e-04, 1.7891e-03, 4.9386e-04, 0.0000e+00, 1.4469e-04, 4.5354e-03, 2.9823e-03, 8.1773e-04, 8.0126e-04],\n",
       "         [8.7808e-05, 4.4375e-04, 6.9999e-04, 5.6708e-04, 0.0000e+00, 2.1562e-05, 2.6041e-04, 1.7495e-04, 8.0771e-05, 3.5425e-04],\n",
       "         [6.2249e-04, 3.4388e-06, 1.2202e-03, 3.2940e-05, 0.0000e+00, 3.9385e-05, 4.6169e-04, 3.0495e-04, 8.2563e-04, 5.9075e-06],\n",
       "         [5.8774e-03, 1.7150e-03, 0.0000e+00, 2.7943e-03, 0.0000e+00, 2.1545e-04, 5.4996e-03, 3.6164e-03, 2.3339e-03, 2.6968e-03]]),\n",
       " tensor([[0.0089],\n",
       "         [0.0017],\n",
       "         [0.0012],\n",
       "         [0.0018],\n",
       "         [0.0000],\n",
       "         [0.0033],\n",
       "         [0.0123],\n",
       "         [0.0165],\n",
       "         [0.0013],\n",
       "         [0.0066]]),\n",
       " tensor([0.0164]))"
      ]
     },
     "execution_count": 266,
     "metadata": {},
     "output_type": "execute_result"
    }
   ],
   "source": [
    "l1.grad, l2.grad, b.grad"
   ]
  },
  {
   "cell_type": "code",
   "execution_count": 270,
   "id": "9e36d271-be44-4349-8d57-b74bd1256be1",
   "metadata": {},
   "outputs": [],
   "source": [
    "def update_coeffs(layer1, layer2, bias, loss, lr):\n",
    "    loss.backward()\n",
    "    with torch.no_grad():\n",
    "        layer1.sub_(layer1.grad*lr)\n",
    "        layer2.sub_(layer2.grad*lr)\n",
    "        bias.sub_(bias.grad*lr)"
   ]
  },
  {
   "cell_type": "code",
   "execution_count": 271,
   "id": "b4785c1e-02ba-49d4-95c8-bdfd3a87c77c",
   "metadata": {},
   "outputs": [
    {
     "data": {
      "text/plain": [
       "tensor(0.5980, grad_fn=<MeanBackward0>)"
      ]
     },
     "execution_count": 271,
     "metadata": {},
     "output_type": "execute_result"
    }
   ],
   "source": [
    "loss = calc_loss(train_ind, train_dep, l1, l2, b)\n",
    "update_coeffs(l1, l2, b, loss, 0.1)\n",
    "loss = calc_loss(train_ind, train_dep, l1, l2, b)\n",
    "loss"
   ]
  },
  {
   "cell_type": "markdown",
   "id": "69c20382-251a-49af-b00c-211672da1eb9",
   "metadata": {},
   "source": [
    "The loss has improved, so I think we are ready to train this model."
   ]
  },
  {
   "cell_type": "code",
   "execution_count": 304,
   "id": "1d572997-c618-4e99-90b3-6de4dd532490",
   "metadata": {},
   "outputs": [],
   "source": [
    "# Epoch\n",
    "def run_epoch(ind, dep, layer1, layer2, bias, lr):\n",
    "    loss = calc_loss(ind, dep, layer1, layer2, bias)\n",
    "    update_coeffs(layer1, layer2, bias, loss, lr)\n",
    "    # print(f\"loss: {loss:.3f}\", end=\", \")\n",
    "\n",
    "# Need to caclculate accuracy\n",
    "def calc_accuracy(layer1, layer2, bias, val_ind, val_dep):\n",
    "    return ((calc_preds(val_ind, layer1, layer2, bias) > 0.5) == val_dep).float().mean()\n",
    "\n",
    "def train_model(hidden, ind, dep, epochs, lr):\n",
    "    l1, l2, b = init_coeffs(12, hidden)\n",
    "    for _ in range(epochs):\n",
    "        run_epoch(ind, dep, l1, l2, b, lr)\n",
    "        acc = calc_accuracy(l1, l2, b, val_ind, val_dep)\n",
    "        print(f\"{acc:.3f}\", end=\"; \")"
   ]
  },
  {
   "cell_type": "code",
   "execution_count": 305,
   "id": "62521dd6-9399-466d-864b-4f878063306e",
   "metadata": {},
   "outputs": [
    {
     "name": "stdout",
     "output_type": "stream",
     "text": [
      "0.619; 0.650; 0.652; 0.652; 0.652; 0.652; 0.652; 0.652; 0.652; 0.652; 0.652; 0.652; 0.652; 0.652; 0.652; 0.652; 0.652; 0.652; 0.652; 0.652; "
     ]
    }
   ],
   "source": [
    "train_model(10, train_ind, train_dep, 20, 1)"
   ]
  },
  {
   "cell_type": "markdown",
   "id": "2668b53d-9690-4d81-ba20-e5b99cd14ef9",
   "metadata": {},
   "source": [
    "## Results\n",
    "The model is training but it's only getting to bout 61% accuracy which is worst than our linear model.\n",
    "\n",
    "Jeremy mentioned in the video that I might need to play around with the coeff inits to get something that works better"
   ]
  },
  {
   "cell_type": "code",
   "execution_count": 306,
   "id": "bafcbbe5-59b6-434c-ba90-be488a392e65",
   "metadata": {},
   "outputs": [],
   "source": [
    "def init_coeffs(inputs, hidden):\n",
    "    layer1 = torch.rand(inputs, hidden)*2 -1\n",
    "    layer2 = torch.rand(hidden, 1)*2 -1\n",
    "    bias = torch.rand(1)\n",
    "    return layer1.requires_grad_(), layer2.requires_grad_(), bias.requires_grad_()"
   ]
  },
  {
   "cell_type": "code",
   "execution_count": 307,
   "id": "9cd06d35-6eac-4450-a80d-b9c83475ae5b",
   "metadata": {},
   "outputs": [
    {
     "name": "stdout",
     "output_type": "stream",
     "text": [
      "0.437; 0.445; 0.553; 0.577; 0.609; 0.650; 0.652; 0.652; 0.652; 0.652; 0.652; 0.652; 0.652; 0.652; 0.652; 0.652; 0.652; 0.652; 0.652; 0.652; "
     ]
    }
   ],
   "source": [
    "train_model(10, train_ind, train_dep, 20, 1)"
   ]
  },
  {
   "cell_type": "code",
   "execution_count": 342,
   "id": "f5816833-486b-493e-bd28-563b64e26b86",
   "metadata": {},
   "outputs": [],
   "source": [
    "# Process the test data\n",
    "def proc_data(df):\n",
    "    modes = df.mode().iloc[0]\n",
    "    df = df.fillna(modes)\n",
    "    df[\"LogFare\"] = np.log(df[\"Fare\"] + 1)\n",
    "    df = pd.get_dummies(df, columns=[\"Sex\", \"Pclass\", \"Embarked\"])\n",
    "    \n",
    "    ten_ind = tensor(df[['Age', 'SibSp', 'Parch', 'LogFare', 'Sex_female', 'Sex_male', 'Pclass_1', 'Pclass_2', 'Pclass_3', 'Embarked_C', 'Embarked_Q', 'Embarked_S']].values.astype(float), dtype=torch.float)\n",
    "    max_vals = ten_ind.max(dim=0).values\n",
    "    ten_ind = ten_ind / max_vals\n",
    "\n",
    "    # For train vs test data\n",
    "    if \"Survived\" in df:\n",
    "        ten_dep = tensor(df[\"Survived\"].values, dtype=torch.float)\n",
    "        return ten_ind, ten_dep\n",
    "    return ten_ind"
   ]
  },
  {
   "cell_type": "code",
   "execution_count": 343,
   "id": "c3a93c54-4177-4394-b797-522baa84cbd3",
   "metadata": {},
   "outputs": [
    {
     "name": "stdout",
     "output_type": "stream",
     "text": [
      "tensor([80.0000,  8.0000,  6.0000,  6.2409,  1.0000,  1.0000,  1.0000,  1.0000,  1.0000,  1.0000,  1.0000,  1.0000])\n",
      "es\n"
     ]
    },
    {
     "data": {
      "text/plain": [
       "tensor([[0.2125, 0.0000, 0.0000,  ..., 1.0000, 0.0000, 0.0000],\n",
       "        [0.5000, 0.0000, 0.0000,  ..., 1.0000, 0.0000, 0.0000],\n",
       "        [0.3125, 0.1250, 0.0000,  ..., 0.0000, 0.0000, 1.0000],\n",
       "        ...,\n",
       "        [0.5250, 0.0000, 0.0000,  ..., 0.0000, 0.0000, 1.0000],\n",
       "        [0.5063, 0.0000, 0.0000,  ..., 0.0000, 1.0000, 0.0000],\n",
       "        [0.2000, 0.0000, 0.0000,  ..., 0.0000, 0.0000, 1.0000]])"
      ]
     },
     "execution_count": 343,
     "metadata": {},
     "output_type": "execute_result"
    }
   ],
   "source": [
    "# Make sure the data is as we expect\n",
    "train_df = pd.read_csv(\"titanic/train.csv\")\n",
    "trn_ind, trn_dep = proc_data(train_df)\n",
    "trn_split, val_split = RandomSplitter(seed=None)(train_df)\n",
    "train_ind, val_ind = trn_ind[trn_split], trn_ind[val_split]\n",
    "train_dep, val_dep = trn_dep[trn_split], trn_dep[val_split]\n",
    "train_ind"
   ]
  },
  {
   "cell_type": "code",
   "execution_count": 311,
   "id": "dc2a9156-060b-409c-986f-315effb1fde4",
   "metadata": {},
   "outputs": [
    {
     "name": "stdout",
     "output_type": "stream",
     "text": [
      "0.443; 0.496; 0.624; 0.624; 0.624; 0.624; 0.624; 0.624; 0.624; 0.624; 0.624; 0.624; 0.624; 0.624; 0.624; 0.624; 0.624; 0.624; 0.624; 0.624; "
     ]
    }
   ],
   "source": [
    "train_model(10, train_ind, train_dep, 20, 1)"
   ]
  },
  {
   "cell_type": "code",
   "execution_count": 319,
   "id": "799339bc-bab0-4aba-b007-130aeed764c3",
   "metadata": {},
   "outputs": [],
   "source": [
    "# This is exactly what jeremy did in the video\n",
    "def init_coeffs(inputs, hidden):\n",
    "    layer1 = (torch.rand(inputs, hidden)-0.5)/hidden\n",
    "    layer2 = torch.rand(hidden, 1)-0.3\n",
    "    bias = torch.rand(1)[0]\n",
    "    return layer1.requires_grad_(), layer2.requires_grad_(), bias.requires_grad_()"
   ]
  },
  {
   "cell_type": "code",
   "execution_count": 320,
   "id": "486a14cc-bda7-4204-9bbd-9de94490f2b4",
   "metadata": {},
   "outputs": [
    {
     "name": "stdout",
     "output_type": "stream",
     "text": [
      "0.376; 0.376; 0.622; 0.624; 0.624; 0.624; 0.624; 0.624; 0.624; 0.624; 0.624; 0.624; 0.624; 0.624; 0.624; 0.624; 0.624; 0.624; 0.624; 0.624; "
     ]
    }
   ],
   "source": [
    "train_model(20, train_ind, train_dep, 20, 1)"
   ]
  },
  {
   "cell_type": "markdown",
   "id": "2585a1ea-58d7-4872-b090-8af1f45213e5",
   "metadata": {},
   "source": [
    "In the video, Jeremy was able to get about the same accuracy with the neural net as he did with the linear model, but for some reason, I'm only able to get about 60%.\n",
    "\n",
    "There are some slight differences in our implementations, I will try doing it exactly as he did and see if there is improvement."
   ]
  },
  {
   "cell_type": "code",
   "execution_count": 345,
   "id": "85fb8507-82b4-4c26-8166-cd38a0b82938",
   "metadata": {},
   "outputs": [],
   "source": [
    "# This is exactly how Jeremy implements\n",
    "\n",
    "n_coeff = 12\n",
    "\n",
    "def init_coeffs(n_hidden=20):\n",
    "    layer1 = (torch.rand(n_coeff, n_hidden)-0.5)/n_hidden\n",
    "    layer2 = torch.rand(n_hidden, 1)-0.3\n",
    "    const = torch.rand(1)[0]\n",
    "    return layer1.requires_grad_(),layer2.requires_grad_(),const.requires_grad_()\n",
    "\n",
    "import torch.nn.functional as F\n",
    "\n",
    "def calc_preds(coeffs, indeps):\n",
    "    l1,l2,const = coeffs\n",
    "    res = F.relu(indeps@l1)\n",
    "    res = res@l2 + const\n",
    "    return torch.sigmoid(res)\n",
    "\n",
    "def calc_loss(coeffs, indeps, deps): return torch.abs(calc_preds(coeffs, indeps)-deps).mean()\n",
    "\n",
    "def update_coeffs(coeffs, lr):\n",
    "    for layer in coeffs:\n",
    "        layer.sub_(layer.grad * lr)\n",
    "        layer.grad.zero_()\n",
    "\n",
    "def one_epoch(coeffs, lr):\n",
    "    loss = calc_loss(coeffs, train_ind, train_dep)\n",
    "    loss.backward()\n",
    "    with torch.no_grad(): update_coeffs(coeffs, lr)\n",
    "    print(f\"{loss:.3f}\", end=\"; \")\n",
    "\n",
    "def train_model(epochs=30, lr=0.01):\n",
    "    torch.manual_seed(442)\n",
    "    coeffs = init_coeffs()\n",
    "    for i in range(epochs): one_epoch(coeffs, lr=lr)\n",
    "    return coeffs\n",
    "\n",
    "def acc(coeffs): return (val_dep.bool()==(calc_preds(coeffs, val_ind)>0.5)).float().mean()"
   ]
  },
  {
   "cell_type": "code",
   "execution_count": 346,
   "id": "a55c57e3-5dc4-460c-8b73-a9892cab550b",
   "metadata": {},
   "outputs": [
    {
     "name": "stdout",
     "output_type": "stream",
     "text": [
      "0.536; 0.481; 0.416; 0.404; 0.402; 0.401; 0.401; 0.401; 0.400; 0.400; 0.400; 0.400; 0.400; 0.400; 0.400; 0.400; 0.400; 0.400; 0.400; 0.400; 0.400; 0.400; 0.400; 0.400; 0.400; 0.400; 0.400; 0.400; 0.400; 0.400; "
     ]
    },
    {
     "data": {
      "text/plain": [
       "tensor(0.6798)"
      ]
     },
     "execution_count": 346,
     "metadata": {},
     "output_type": "execute_result"
    }
   ],
   "source": [
    "coeffs = train_model(lr=20)\n",
    "acc(coeffs)"
   ]
  },
  {
   "cell_type": "code",
   "execution_count": 373,
   "id": "172f87b6-03ce-4ebc-b6d1-40100fa7b093",
   "metadata": {},
   "outputs": [
    {
     "name": "stdout",
     "output_type": "stream",
     "text": [
      "0.320; 0.320; 0.320; 0.320; 0.320; 0.320; 0.320; 0.320; 0.320; 0.320; 0.320; 0.320; 0.320; 0.320; 0.472; 0.649; 0.680; 0.680; 0.680; 0.680; "
     ]
    }
   ],
   "source": [
    "# Back to my way...\n",
    "def init_coeffs(inputs, hidden):\n",
    "    layer1 = (torch.rand(inputs, hidden)-0.5)/hidden\n",
    "    layer2 = torch.rand(hidden, 1)-0.3\n",
    "    bias = torch.rand(1)\n",
    "    return layer1.requires_grad_(), layer2.requires_grad_(), bias.requires_grad_()\n",
    "\n",
    "def calc_preds(ind, layer1, layer2, bias):\n",
    "    res1 = ind @ layer1\n",
    "    relu = F.relu(res1)\n",
    "    res2 = relu @ layer2 + bias\n",
    "    return torch.sigmoid(res2)\n",
    "\n",
    "def calc_loss(ind, dep, layer1, layer2, bias):\n",
    "    return torch.abs(calc_preds(ind, layer1, layer2, bias) - dep).mean()\n",
    "\n",
    "def update_coeffs(layer1, layer2, bias, loss, lr):\n",
    "    loss.backward()\n",
    "    with torch.no_grad():\n",
    "        layer1.sub_(layer1.grad*lr)\n",
    "        layer1.grad.zero_()\n",
    "        layer2.sub_(layer2.grad*lr)\n",
    "        layer2.grad.zero_()\n",
    "        bias.sub_(bias.grad*lr)\n",
    "        bias.grad.zero_()\n",
    "\n",
    "# Epoch\n",
    "def run_epoch(ind, dep, layer1, layer2, bias, lr):\n",
    "    loss = calc_loss(ind, dep, layer1, layer2, bias)\n",
    "    update_coeffs(layer1, layer2, bias, loss, lr)\n",
    "    # print(f\"loss: {loss:.3f}\", end=\", \")\n",
    "\n",
    "# Need to caclculate accuracy\n",
    "def calc_accuracy(layer1, layer2, bias, val_ind, val_dep):\n",
    "    return ((calc_preds(val_ind, layer1, layer2, bias) > 0.5) == val_dep).float().mean()\n",
    "\n",
    "def train_model(hidden, ind, dep, epochs, lr):\n",
    "    l1, l2, b = init_coeffs(12, hidden)\n",
    "    for _ in range(epochs):\n",
    "        run_epoch(ind, dep, l1, l2, b, lr)\n",
    "        acc = calc_accuracy(l1, l2, b, val_ind, val_dep)\n",
    "        print(f\"{acc:.3f}\", end=\"; \")\n",
    "\n",
    "train_model(20, train_ind, train_dep, 20, 1)"
   ]
  },
  {
   "cell_type": "markdown",
   "id": "27a30a60-2edd-45c8-9ae6-1062276739c9",
   "metadata": {},
   "source": [
    "# No Change\n",
    "Doing the process apparently the exact same as Jeremy did in the video does yeild any better results.\n",
    "\n",
    "There must be some subtle difference or perhaps I missing a data processing step. I'm not sure but either way, I don't think it is worth my time to comb through the video and try and figure it out."
   ]
  },
  {
   "cell_type": "markdown",
   "id": "e8bf2131-84fe-44cb-87ec-1057ae64d2f4",
   "metadata": {},
   "source": [
    "# Deep Learning\n",
    "The cool kids use neural networks with n hidden layers"
   ]
  },
  {
   "cell_type": "code",
   "execution_count": 371,
   "id": "986fa1a5-609c-4f12-9db8-843bc2a37b5a",
   "metadata": {},
   "outputs": [],
   "source": [
    "def init_coeffs(layers):\n",
    "    coeffs = []\n",
    "    for i in range(len(layers) -1):\n",
    "        coeffs.append((torch.rand(layers[i], layers[i+1])-0.5)/layers[i+1])\n",
    "    coeffs.append(torch.rand(1)) # Bias\n",
    "\n",
    "    for layer in coeffs:\n",
    "        layer.requires_grad_()\n",
    "    return coeffs"
   ]
  },
  {
   "cell_type": "code",
   "execution_count": 372,
   "id": "954d7f88-364c-4425-8b02-807e6902fee1",
   "metadata": {},
   "outputs": [
    {
     "name": "stdout",
     "output_type": "stream",
     "text": [
      "torch.Size([12, 16])\n",
      "torch.Size([16, 8])\n",
      "torch.Size([8, 4])\n",
      "torch.Size([4, 1])\n",
      "torch.Size([1])\n"
     ]
    }
   ],
   "source": [
    "cfs = init_coeffs([12, 16, 8, 4, 1])\n",
    "for layer in cfs:\n",
    "    print(layer.shape)"
   ]
  },
  {
   "cell_type": "code",
   "execution_count": null,
   "id": "2ff80144-d061-4735-b8e9-d453a447150c",
   "metadata": {},
   "outputs": [],
   "source": []
  }
 ],
 "metadata": {
  "kernelspec": {
   "display_name": "Python 3 (ipykernel)",
   "language": "python",
   "name": "python3"
  },
  "language_info": {
   "codemirror_mode": {
    "name": "ipython",
    "version": 3
   },
   "file_extension": ".py",
   "mimetype": "text/x-python",
   "name": "python",
   "nbconvert_exporter": "python",
   "pygments_lexer": "ipython3",
   "version": "3.11.0rc1"
  }
 },
 "nbformat": 4,
 "nbformat_minor": 5
}
