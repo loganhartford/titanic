{
 "cells": [
  {
   "cell_type": "markdown",
   "id": "c1876aab-9b48-40f9-b170-4c431cd20d97",
   "metadata": {},
   "source": [
    "# Multi-Target Modeling\n",
    "This is practice for some of the content learned in fastai lesson 7.\n",
    "\n",
    "In that lesson, Jeremy talks about taking a model which originally predicted one thing and making it predict two.\n",
    "\n",
    "We will try to apply the same concept to the titanic dataset."
   ]
  },
  {
   "cell_type": "markdown",
   "id": "01a942fd-e35c-41af-a9ea-3e388140b363",
   "metadata": {},
   "source": [
    "This is all taken from a previous pipeline, I will just be modifying it."
   ]
  },
  {
   "cell_type": "code",
   "execution_count": 27,
   "id": "08088810-5e95-48c4-92de-aec39b525747",
   "metadata": {},
   "outputs": [
    {
     "data": {
      "text/html": [
       "\n",
       "<style>\n",
       "    /* Turns off some styling */\n",
       "    progress {\n",
       "        /* gets rid of default border in Firefox and Opera. */\n",
       "        border: none;\n",
       "        /* Needs to be in here for Safari polyfill so background images work as expected. */\n",
       "        background-size: auto;\n",
       "    }\n",
       "    progress:not([value]), progress:not([value])::-webkit-progress-bar {\n",
       "        background: repeating-linear-gradient(45deg, #7e7e7e, #7e7e7e 10px, #5c5c5c 10px, #5c5c5c 20px);\n",
       "    }\n",
       "    .progress-bar-interrupted, .progress-bar-interrupted::-webkit-progress-bar {\n",
       "        background: #F44336;\n",
       "    }\n",
       "</style>\n"
      ],
      "text/plain": [
       "<IPython.core.display.HTML object>"
      ]
     },
     "metadata": {},
     "output_type": "display_data"
    },
    {
     "data": {
      "text/html": [],
      "text/plain": [
       "<IPython.core.display.HTML object>"
      ]
     },
     "metadata": {},
     "output_type": "display_data"
    },
    {
     "data": {
      "text/plain": [
       "SuggestedLRs(slide=0.033113110810518265, valley=0.001737800776027143)"
      ]
     },
     "execution_count": 27,
     "metadata": {},
     "output_type": "execute_result"
    },
    {
     "data": {
      "image/png": "[encoded data removed]",
      "text/plain": [
       "<Figure size 640x480 with 1 Axes>"
      ]
     },
     "metadata": {},
     "output_type": "display_data"
    }
   ],
   "source": [
    "from fastai.tabular.all import *\n",
    "path = Path('titanic')\n",
    "if not path.exists():\n",
    "    import zipfile, kaggle\n",
    "    kaggle.api.competition_download_cli(str(path))\n",
    "    zipfile.ZipFile(f'{path}.zip').extractall(path)\n",
    "\n",
    "df = pd.read_csv(path/'train.csv')\n",
    "modes = df.mode().iloc[0]\n",
    "df = df.fillna(modes)\n",
    "\n",
    "def add_features(df):\n",
    "    df['LogFare'] = np.log1p(df['Fare'])\n",
    "    df['Deck'] = df.Cabin.str[0].map(dict(A=\"ABC\", B=\"ABC\", C=\"ABC\", D=\"DE\", E=\"DE\", F=\"FG\", G=\"FG\"))\n",
    "    df['Family'] = df.SibSp + df.Parch\n",
    "    df['Alone'] = df.Family == 0\n",
    "    df['TicketFreq'] = df.groupby('Ticket')['Ticket'].transform('count')\n",
    "    df['Title'] = df.Name.str.split(', ', expand=True)[1].str.split('.', expand=True)[0]\n",
    "    df['Title'] = df.Title.map(dict(Mr=\"Mr\", Miss=\"Miss\", Mrs=\"Mrs\", Master=\"Master\"))\n",
    "\n",
    "add_features(df)\n",
    "\n",
    "df['Sex'] = df['Sex'].astype('category').cat.codes\n",
    "df['Survived'] = df['Survived'].astype('category').cat.codes\n",
    "\n",
    "procs = [Categorify, FillMissing, Normalize]\n",
    "cat_vars = ['Embarked', 'Pclass', 'Deck', 'Title']\n",
    "cont_vars = ['Age', 'SibSp', 'Parch', 'LogFare', 'Family', 'TicketFreq', 'Alone']\n",
    "dep_vars = ['Sex', 'Survived']\n",
    "\n",
    "splits = RandomSplitter(valid_pct=0.2)(range_of(df))\n",
    "\n",
    "to = TabularPandas(df, procs, cat_vars, cont_vars, y_names=dep_vars, splits=splits, y_block=CategoryBlock)\n",
    "\n",
    "dls = to.dataloaders(bs=64)\n",
    "\n",
    "# def multi_accuracy(inp, targ):\n",
    "#     inp = inp.sigmoid()\n",
    "#     return ((inp > 0.5) == targ.bool()).float().mean()\n",
    "\n",
    "learn = tabular_learner(dls, metrics=accuracy_multi, layers=[200, 100], loss_func=BCEWithLogitsLossFlat())\n",
    "\n",
    "learn.lr_find(suggest_funcs=(slide, valley))\n"
   ]
  },
  {
   "cell_type": "code",
   "execution_count": 28,
   "id": "add670ab-7c05-4c71-9819-14f7df91c60b",
   "metadata": {},
   "outputs": [
    {
     "data": {
      "text/html": [
       "\n",
       "<style>\n",
       "    /* Turns off some styling */\n",
       "    progress {\n",
       "        /* gets rid of default border in Firefox and Opera. */\n",
       "        border: none;\n",
       "        /* Needs to be in here for Safari polyfill so background images work as expected. */\n",
       "        background-size: auto;\n",
       "    }\n",
       "    progress:not([value]), progress:not([value])::-webkit-progress-bar {\n",
       "        background: repeating-linear-gradient(45deg, #7e7e7e, #7e7e7e 10px, #5c5c5c 10px, #5c5c5c 20px);\n",
       "    }\n",
       "    .progress-bar-interrupted, .progress-bar-interrupted::-webkit-progress-bar {\n",
       "        background: #F44336;\n",
       "    }\n",
       "</style>\n"
      ],
      "text/plain": [
       "<IPython.core.display.HTML object>"
      ]
     },
     "metadata": {},
     "output_type": "display_data"
    },
    {
     "data": {
      "text/html": [
       "<table border=\"1\" class=\"dataframe\">\n",
       "  <thead>\n",
       "    <tr style=\"text-align: left;\">\n",
       "      <th>epoch</th>\n",
       "      <th>train_loss</th>\n",
       "      <th>valid_loss</th>\n",
       "      <th>accuracy_multi</th>\n",
       "      <th>time</th>\n",
       "    </tr>\n",
       "  </thead>\n",
       "  <tbody>\n",
       "    <tr>\n",
       "      <td>0</td>\n",
       "      <td>0.648990</td>\n",
       "      <td>0.655283</td>\n",
       "      <td>0.682584</td>\n",
       "      <td>00:00</td>\n",
       "    </tr>\n",
       "    <tr>\n",
       "      <td>1</td>\n",
       "      <td>0.630833</td>\n",
       "      <td>0.603646</td>\n",
       "      <td>0.727528</td>\n",
       "      <td>00:00</td>\n",
       "    </tr>\n",
       "    <tr>\n",
       "      <td>2</td>\n",
       "      <td>0.594676</td>\n",
       "      <td>0.526594</td>\n",
       "      <td>0.750000</td>\n",
       "      <td>00:00</td>\n",
       "    </tr>\n",
       "    <tr>\n",
       "      <td>3</td>\n",
       "      <td>0.503237</td>\n",
       "      <td>0.328993</td>\n",
       "      <td>0.862360</td>\n",
       "      <td>00:00</td>\n",
       "    </tr>\n",
       "    <tr>\n",
       "      <td>4</td>\n",
       "      <td>0.421792</td>\n",
       "      <td>0.244799</td>\n",
       "      <td>0.887640</td>\n",
       "      <td>00:00</td>\n",
       "    </tr>\n",
       "    <tr>\n",
       "      <td>5</td>\n",
       "      <td>0.364232</td>\n",
       "      <td>0.272696</td>\n",
       "      <td>0.882023</td>\n",
       "      <td>00:00</td>\n",
       "    </tr>\n",
       "    <tr>\n",
       "      <td>6</td>\n",
       "      <td>0.323009</td>\n",
       "      <td>0.282598</td>\n",
       "      <td>0.873595</td>\n",
       "      <td>00:00</td>\n",
       "    </tr>\n",
       "    <tr>\n",
       "      <td>7</td>\n",
       "      <td>0.296842</td>\n",
       "      <td>0.241701</td>\n",
       "      <td>0.879214</td>\n",
       "      <td>00:00</td>\n",
       "    </tr>\n",
       "    <tr>\n",
       "      <td>8</td>\n",
       "      <td>0.271934</td>\n",
       "      <td>0.263848</td>\n",
       "      <td>0.879214</td>\n",
       "      <td>00:00</td>\n",
       "    </tr>\n",
       "    <tr>\n",
       "      <td>9</td>\n",
       "      <td>0.255388</td>\n",
       "      <td>0.226984</td>\n",
       "      <td>0.896067</td>\n",
       "      <td>00:00</td>\n",
       "    </tr>\n",
       "    <tr>\n",
       "      <td>10</td>\n",
       "      <td>0.241520</td>\n",
       "      <td>0.277302</td>\n",
       "      <td>0.879214</td>\n",
       "      <td>00:00</td>\n",
       "    </tr>\n",
       "    <tr>\n",
       "      <td>11</td>\n",
       "      <td>0.227827</td>\n",
       "      <td>0.247838</td>\n",
       "      <td>0.876405</td>\n",
       "      <td>00:00</td>\n",
       "    </tr>\n",
       "    <tr>\n",
       "      <td>12</td>\n",
       "      <td>0.217144</td>\n",
       "      <td>0.250854</td>\n",
       "      <td>0.876405</td>\n",
       "      <td>00:00</td>\n",
       "    </tr>\n",
       "    <tr>\n",
       "      <td>13</td>\n",
       "      <td>0.207141</td>\n",
       "      <td>0.256551</td>\n",
       "      <td>0.879214</td>\n",
       "      <td>00:00</td>\n",
       "    </tr>\n",
       "    <tr>\n",
       "      <td>14</td>\n",
       "      <td>0.198883</td>\n",
       "      <td>0.239486</td>\n",
       "      <td>0.879214</td>\n",
       "      <td>00:00</td>\n",
       "    </tr>\n",
       "    <tr>\n",
       "      <td>15</td>\n",
       "      <td>0.191786</td>\n",
       "      <td>0.247963</td>\n",
       "      <td>0.887640</td>\n",
       "      <td>00:00</td>\n",
       "    </tr>\n",
       "    <tr>\n",
       "      <td>16</td>\n",
       "      <td>0.184486</td>\n",
       "      <td>0.253717</td>\n",
       "      <td>0.890449</td>\n",
       "      <td>00:00</td>\n",
       "    </tr>\n",
       "    <tr>\n",
       "      <td>17</td>\n",
       "      <td>0.179728</td>\n",
       "      <td>0.258059</td>\n",
       "      <td>0.887640</td>\n",
       "      <td>00:00</td>\n",
       "    </tr>\n",
       "    <tr>\n",
       "      <td>18</td>\n",
       "      <td>0.175463</td>\n",
       "      <td>0.258028</td>\n",
       "      <td>0.893258</td>\n",
       "      <td>00:00</td>\n",
       "    </tr>\n",
       "    <tr>\n",
       "      <td>19</td>\n",
       "      <td>0.170728</td>\n",
       "      <td>0.257547</td>\n",
       "      <td>0.884831</td>\n",
       "      <td>00:00</td>\n",
       "    </tr>\n",
       "  </tbody>\n",
       "</table>"
      ],
      "text/plain": [
       "<IPython.core.display.HTML object>"
      ]
     },
     "metadata": {},
     "output_type": "display_data"
    }
   ],
   "source": [
    "lr = 0.01\n",
    "# Fit the model (the number of epochs and learning rate should be chosen based on your specific needs and the lr_find results)\n",
    "learn.fit_one_cycle(20, lr)"
   ]
  },
  {
   "cell_type": "code",
   "execution_count": 39,
   "id": "1ca56127-575c-42bf-84e1-3339a351ea56",
   "metadata": {},
   "outputs": [],
   "source": [
    "tst_df = pd.read_csv(path/'test.csv')\n",
    "tst_df['Fare'] = tst_df.Fare.fillna(tst_df.mode().iloc[0].Fare)\n",
    "modes = tst_df.mode().iloc[0]\n",
    "tst_df = tst_df.fillna(modes)\n",
    "add_features(tst_df)"
   ]
  },
  {
   "cell_type": "code",
   "execution_count": 40,
   "id": "566158e3-acc2-4ca2-a53f-01302635bfde",
   "metadata": {},
   "outputs": [
    {
     "data": {
      "text/html": [
       "\n",
       "<style>\n",
       "    /* Turns off some styling */\n",
       "    progress {\n",
       "        /* gets rid of default border in Firefox and Opera. */\n",
       "        border: none;\n",
       "        /* Needs to be in here for Safari polyfill so background images work as expected. */\n",
       "        background-size: auto;\n",
       "    }\n",
       "    progress:not([value]), progress:not([value])::-webkit-progress-bar {\n",
       "        background: repeating-linear-gradient(45deg, #7e7e7e, #7e7e7e 10px, #5c5c5c 10px, #5c5c5c 20px);\n",
       "    }\n",
       "    .progress-bar-interrupted, .progress-bar-interrupted::-webkit-progress-bar {\n",
       "        background: #F44336;\n",
       "    }\n",
       "</style>\n"
      ],
      "text/plain": [
       "<IPython.core.display.HTML object>"
      ]
     },
     "metadata": {},
     "output_type": "display_data"
    },
    {
     "data": {
      "text/html": [],
      "text/plain": [
       "<IPython.core.display.HTML object>"
      ]
     },
     "metadata": {},
     "output_type": "display_data"
    },
    {
     "data": {
      "text/plain": [
       "tensor([[9.9979e-01, 6.0008e-02],\n",
       "        [5.0350e-04, 1.4407e-01],\n",
       "        [9.9999e-01, 2.4064e-02],\n",
       "        [9.9836e-01, 1.5948e-01],\n",
       "        [9.8429e-05, 3.5445e-01]])"
      ]
     },
     "execution_count": 40,
     "metadata": {},
     "output_type": "execute_result"
    }
   ],
   "source": [
    "dl = learn.dls.test_dl(tst_df)\n",
    "preds = learn.get_preds(dl=dl)\n",
    "preds[0][0:5]"
   ]
  },
  {
   "cell_type": "code",
   "execution_count": 41,
   "id": "345a8177-3774-4032-ad1f-57bc95c3a8db",
   "metadata": {},
   "outputs": [],
   "source": [
    "preds_submit = [tup[0].item() < .5 for tup in preds[0]]"
   ]
  },
  {
   "cell_type": "code",
   "execution_count": 42,
   "id": "5a0d9412-846e-4e9f-9aff-9296fbdcd3e0",
   "metadata": {},
   "outputs": [
    {
     "name": "stdout",
     "output_type": "stream",
     "text": [
      "   PassengerId  Survived\n",
      "0          892         0\n",
      "1          893         1\n",
      "2          894         0\n",
      "3          895         0\n",
      "4          896         1\n"
     ]
    }
   ],
   "source": [
    "output_df = pd.DataFrame(data = {\"PassengerId\": tst_df[\"PassengerId\"], \"Survived\" :preds_submit} )\n",
    "output_df[\"Survived\"] = output_df[\"Survived\"].astype(int)\n",
    "print(output_df.head())\n",
    "output_df.to_csv('submission.csv', index=False)"
   ]
  },
  {
   "cell_type": "code",
   "execution_count": 43,
   "id": "c1dc47f2-5633-4583-aeeb-176cca6967bd",
   "metadata": {},
   "outputs": [
    {
     "name": "stdout",
     "output_type": "stream",
     "text": [
      "PassengerId,Survived\n",
      "892,0\n",
      "893,1\n",
      "894,0\n",
      "895,0\n",
      "896,1\n",
      "897,0\n",
      "898,1\n",
      "899,0\n",
      "900,1\n"
     ]
    }
   ],
   "source": [
    "!head submission.csv"
   ]
  },
  {
   "attachments": {
    "302e72fb-8c2f-4d16-9231-bc0a572e0900.png": {
     "image/png": "[encoded data removed]"
    }
   },
   "cell_type": "markdown",
   "id": "9c9e5e6d-5c4a-49f9-bdf5-654305fc6367",
   "metadata": {},
   "source": [
    "![image.png](attachment:302e72fb-8c2f-4d16-9231-bc0a572e0900.png)"
   ]
  },
  {
   "cell_type": "code",
   "execution_count": null,
   "id": "4eb82cf3-62ca-4a86-9410-67e8ecdcd5cf",
   "metadata": {},
   "outputs": [],
   "source": []
  }
 ],
 "metadata": {
  "kernelspec": {
   "display_name": "Python 3 (ipykernel)",
   "language": "python",
   "name": "python3"
  },
  "language_info": {
   "codemirror_mode": {
    "name": "ipython",
    "version": 3
   },
   "file_extension": ".py",
   "mimetype": "text/x-python",
   "name": "python",
   "nbconvert_exporter": "python",
   "pygments_lexer": "ipython3",
   "version": "3.11.0rc1"
  }
 },
 "nbformat": 4,
 "nbformat_minor": 5
}
